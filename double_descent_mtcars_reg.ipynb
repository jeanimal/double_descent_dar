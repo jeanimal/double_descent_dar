{
 "cells": [
  {
   "metadata": {},
   "cell_type": "markdown",
   "source": [
    "Double descent is the empirical observation that prediction test error can \"descend\" as more and more columns / features are added to the data.  Traditional bias-variance theory indicated it should be impossible because there was a U-curved \"sweet spot\" of optimal test error with only a few columns (features) because sampling variance increased with ss more columns are added.  Before this sweet spot, the model **underfits** the data; training error and test error are both high.  Beyond this sweet spot, the model **overfits** the data, meaning it is fitting noise rather than signal; as a result training error is low but test error is high.\n",
    "\n",
    "At first, double descent was assumed to be due to some special features of deep learning or neural nets.  But in the 2020's, doube descent was observed in linear regression, too.  It was a shock.  Various researchers have started developing the theory on how, when, and where linear regression can exhibit double descent, including the Dar et al. (2023) paper cited below, which greatly inspired me.\n",
    "\n",
    "But the math is complicated.  Code is simpler.  So this notebook illustrates the bias-variance trade-off and double descent in a linear regression model using simple python libraries.  These also help us test our intuitions by running different variations.  I also address an objection by Curth et al. (2023)."
   ],
   "id": "cd03d0be01071c04"
  },
  {
   "metadata": {},
   "cell_type": "markdown",
   "source": "# Libraries",
   "id": "fae063846b830307"
  },
  {
   "cell_type": "code",
   "id": "initial_id",
   "metadata": {
    "collapsed": true,
    "ExecuteTime": {
     "end_time": "2024-08-12T02:37:19.592492Z",
     "start_time": "2024-08-12T02:37:18.062396Z"
    }
   },
   "source": [
    "import numpy as np\n",
    "import pandas as pd\n",
    "import warnings\n",
    "\n",
    "import matplotlib.pyplot as plt\n",
    "from sklearn.exceptions import ConvergenceWarning\n",
    "from sklearn.metrics import mean_absolute_error, root_mean_squared_error\n",
    "from sklearn.model_selection import train_test_split\n",
    "from sklearn.ensemble import RandomForestRegressor\n",
    "from sklearn import linear_model"
   ],
   "outputs": [],
   "execution_count": 1
  },
  {
   "metadata": {},
   "cell_type": "markdown",
   "source": "# Data set",
   "id": "eed787219daef47c"
  },
  {
   "metadata": {},
   "cell_type": "markdown",
   "source": [
    "Here I load a data set to analyze.  In an earlier [R version of this notebook](https://github.com/jeanimal/farewell_bias_variance), I used the \"mtcars\" data set which has data on various models in Motor Trend cars of the year.\n",
    "\n",
    "The goal is to predict the miles per gallon (mpg) of various models based on their other characteristics."
   ],
   "id": "f801e81d8967712f"
  },
  {
   "metadata": {
    "ExecuteTime": {
     "end_time": "2024-08-12T02:37:19.599286Z",
     "start_time": "2024-08-12T02:37:19.594784Z"
    }
   },
   "cell_type": "code",
   "source": [
    "import os\n",
    "notebook_path = os.path.abspath(\"double_descent_mtcars_reg.ipynb\")\n",
    "print(notebook_path)\n",
    "csv_path = os.path.join(os.path.dirname(notebook_path), \"data/mt_cars.csv\")\n",
    "print(csv_path)"
   ],
   "id": "2f6b82fc51e0d3b7",
   "outputs": [
    {
     "name": "stdout",
     "output_type": "stream",
     "text": [
      "/Users/jeanortega/PycharmProjects/pythonProject1/double_descent_mtcars_reg.ipynb\n",
      "/Users/jeanortega/PycharmProjects/pythonProject1/data/mt_cars.csv\n"
     ]
    }
   ],
   "execution_count": 2
  },
  {
   "metadata": {
    "ExecuteTime": {
     "end_time": "2024-08-12T02:37:19.609380Z",
     "start_time": "2024-08-12T02:37:19.603012Z"
    }
   },
   "cell_type": "code",
   "source": "df = pd.read_csv(csv_path)",
   "id": "17f671c041e3a9f3",
   "outputs": [],
   "execution_count": 3
  },
  {
   "metadata": {
    "ExecuteTime": {
     "end_time": "2024-08-12T02:37:19.617363Z",
     "start_time": "2024-08-12T02:37:19.610997Z"
    }
   },
   "cell_type": "code",
   "source": "df.head()",
   "id": "6c74bee6a1a3c3c3",
   "outputs": [
    {
     "data": {
      "text/plain": [
       "               model   mpg  cyl   disp   hp  drat     wt   qsec  vs  am  gear  \\\n",
       "0          Mazda RX4  21.0    6  160.0  110  3.90  2.620  16.46   0   1     4   \n",
       "1      Mazda RX4 Wag  21.0    6  160.0  110  3.90  2.875  17.02   0   1     4   \n",
       "2         Datsun 710  22.8    4  108.0   93  3.85  2.320  18.61   1   1     4   \n",
       "3     Hornet 4 Drive  21.4    6  258.0  110  3.08  3.215  19.44   1   0     3   \n",
       "4  Hornet Sportabout  18.7    8  360.0  175  3.15  3.440  17.02   0   0     3   \n",
       "\n",
       "   carb  \n",
       "0     4  \n",
       "1     4  \n",
       "2     1  \n",
       "3     1  \n",
       "4     2  "
      ],
      "text/html": [
       "<div>\n",
       "<style scoped>\n",
       "    .dataframe tbody tr th:only-of-type {\n",
       "        vertical-align: middle;\n",
       "    }\n",
       "\n",
       "    .dataframe tbody tr th {\n",
       "        vertical-align: top;\n",
       "    }\n",
       "\n",
       "    .dataframe thead th {\n",
       "        text-align: right;\n",
       "    }\n",
       "</style>\n",
       "<table border=\"1\" class=\"dataframe\">\n",
       "  <thead>\n",
       "    <tr style=\"text-align: right;\">\n",
       "      <th></th>\n",
       "      <th>model</th>\n",
       "      <th>mpg</th>\n",
       "      <th>cyl</th>\n",
       "      <th>disp</th>\n",
       "      <th>hp</th>\n",
       "      <th>drat</th>\n",
       "      <th>wt</th>\n",
       "      <th>qsec</th>\n",
       "      <th>vs</th>\n",
       "      <th>am</th>\n",
       "      <th>gear</th>\n",
       "      <th>carb</th>\n",
       "    </tr>\n",
       "  </thead>\n",
       "  <tbody>\n",
       "    <tr>\n",
       "      <th>0</th>\n",
       "      <td>Mazda RX4</td>\n",
       "      <td>21.0</td>\n",
       "      <td>6</td>\n",
       "      <td>160.0</td>\n",
       "      <td>110</td>\n",
       "      <td>3.90</td>\n",
       "      <td>2.620</td>\n",
       "      <td>16.46</td>\n",
       "      <td>0</td>\n",
       "      <td>1</td>\n",
       "      <td>4</td>\n",
       "      <td>4</td>\n",
       "    </tr>\n",
       "    <tr>\n",
       "      <th>1</th>\n",
       "      <td>Mazda RX4 Wag</td>\n",
       "      <td>21.0</td>\n",
       "      <td>6</td>\n",
       "      <td>160.0</td>\n",
       "      <td>110</td>\n",
       "      <td>3.90</td>\n",
       "      <td>2.875</td>\n",
       "      <td>17.02</td>\n",
       "      <td>0</td>\n",
       "      <td>1</td>\n",
       "      <td>4</td>\n",
       "      <td>4</td>\n",
       "    </tr>\n",
       "    <tr>\n",
       "      <th>2</th>\n",
       "      <td>Datsun 710</td>\n",
       "      <td>22.8</td>\n",
       "      <td>4</td>\n",
       "      <td>108.0</td>\n",
       "      <td>93</td>\n",
       "      <td>3.85</td>\n",
       "      <td>2.320</td>\n",
       "      <td>18.61</td>\n",
       "      <td>1</td>\n",
       "      <td>1</td>\n",
       "      <td>4</td>\n",
       "      <td>1</td>\n",
       "    </tr>\n",
       "    <tr>\n",
       "      <th>3</th>\n",
       "      <td>Hornet 4 Drive</td>\n",
       "      <td>21.4</td>\n",
       "      <td>6</td>\n",
       "      <td>258.0</td>\n",
       "      <td>110</td>\n",
       "      <td>3.08</td>\n",
       "      <td>3.215</td>\n",
       "      <td>19.44</td>\n",
       "      <td>1</td>\n",
       "      <td>0</td>\n",
       "      <td>3</td>\n",
       "      <td>1</td>\n",
       "    </tr>\n",
       "    <tr>\n",
       "      <th>4</th>\n",
       "      <td>Hornet Sportabout</td>\n",
       "      <td>18.7</td>\n",
       "      <td>8</td>\n",
       "      <td>360.0</td>\n",
       "      <td>175</td>\n",
       "      <td>3.15</td>\n",
       "      <td>3.440</td>\n",
       "      <td>17.02</td>\n",
       "      <td>0</td>\n",
       "      <td>0</td>\n",
       "      <td>3</td>\n",
       "      <td>2</td>\n",
       "    </tr>\n",
       "  </tbody>\n",
       "</table>\n",
       "</div>"
      ]
     },
     "execution_count": 4,
     "metadata": {},
     "output_type": "execute_result"
    }
   ],
   "execution_count": 4
  },
  {
   "metadata": {},
   "cell_type": "markdown",
   "source": "# Split X and y",
   "id": "8e4443878d3f6bf2"
  },
  {
   "metadata": {},
   "cell_type": "markdown",
   "source": "Here we put the data in a standard format for analysis.  If you load your own data set, you will need to tweak the target column and remove the non-numeric columns-- or code them, e.g. with one-hot encoding.",
   "id": "e7d0726fac745221"
  },
  {
   "metadata": {
    "ExecuteTime": {
     "end_time": "2024-08-12T02:37:19.619455Z",
     "start_time": "2024-08-12T02:37:19.617880Z"
    }
   },
   "cell_type": "code",
   "source": "TARGET_COL = \"mpg\"",
   "id": "ca86d4b670951c61",
   "outputs": [],
   "execution_count": 5
  },
  {
   "metadata": {
    "ExecuteTime": {
     "end_time": "2024-08-12T02:37:19.621074Z",
     "start_time": "2024-08-12T02:37:19.619923Z"
    }
   },
   "cell_type": "code",
   "source": "NON_NUMERIC_COLS = [\"model\"]",
   "id": "f9089e353c5ac8e1",
   "outputs": [],
   "execution_count": 6
  },
  {
   "metadata": {
    "ExecuteTime": {
     "end_time": "2024-08-12T02:37:19.623645Z",
     "start_time": "2024-08-12T02:37:19.621552Z"
    }
   },
   "cell_type": "code",
   "source": [
    "y = df[TARGET_COL]\n",
    "X = df.drop([TARGET_COL] + NON_NUMERIC_COLS,axis=1)"
   ],
   "id": "e00f0ccf1b3a4c09",
   "outputs": [],
   "execution_count": 7
  },
  {
   "metadata": {},
   "cell_type": "markdown",
   "source": "# Functions",
   "id": "4ee9d64483e400ff"
  },
  {
   "metadata": {},
   "cell_type": "markdown",
   "source": [
    "A lot of bias-variance and double descent involves:\n",
    "- Getting data sets with differing numbers of rows and columns\n",
    "- \"Resampling\" the data because it's too expensive to actually go out and collect more samples of data from the real world.\n",
    "Here I give examples of how these functions work, which I have wrapped into a library."
   ],
   "id": "2d00c1b53c4d2b4e"
  },
  {
   "metadata": {
    "ExecuteTime": {
     "end_time": "2024-08-12T02:37:19.625419Z",
     "start_time": "2024-08-12T02:37:19.624169Z"
    }
   },
   "cell_type": "code",
   "source": [
    "random_state = 10 # For reproducibility\n",
    "num_sampled_rows = 4\n",
    "num_sampled_columns = 5"
   ],
   "id": "e6ee2422a8f1929",
   "outputs": [],
   "execution_count": 8
  },
  {
   "metadata": {
    "ExecuteTime": {
     "end_time": "2024-08-12T02:37:19.627592Z",
     "start_time": "2024-08-12T02:37:19.625990Z"
    }
   },
   "cell_type": "code",
   "source": "indices = np.random.choice(df.index, num_sampled_rows, replace=False)",
   "id": "44d182cc658e7576",
   "outputs": [],
   "execution_count": 9
  },
  {
   "metadata": {
    "ExecuteTime": {
     "end_time": "2024-08-12T02:37:19.711062Z",
     "start_time": "2024-08-12T02:37:19.708355Z"
    }
   },
   "cell_type": "code",
   "source": [
    "# X_subset = X.sample(n=num_sampled_rows, random_state=random_state, axis=0)\n",
    "X_subset = X.iloc[indices]\n",
    "y_subset = y.iloc[indices]"
   ],
   "id": "32a80b5e4f685da2",
   "outputs": [],
   "execution_count": 10
  },
  {
   "metadata": {
    "ExecuteTime": {
     "end_time": "2024-08-12T02:37:19.738704Z",
     "start_time": "2024-08-12T02:37:19.736707Z"
    }
   },
   "cell_type": "code",
   "source": "X_subset = X_subset.sample(n=num_sampled_columns, random_state=random_state, axis=1)",
   "id": "6b43c71651b65f7c",
   "outputs": [],
   "execution_count": 11
  },
  {
   "metadata": {
    "ExecuteTime": {
     "end_time": "2024-08-12T02:37:19.907690Z",
     "start_time": "2024-08-12T02:37:19.902974Z"
    }
   },
   "cell_type": "code",
   "source": "X_subset",
   "id": "a54d18234f818324",
   "outputs": [
    {
     "data": {
      "text/plain": [
       "    gear  hp   qsec  vs  drat\n",
       "25     4  66  18.90   1  4.08\n",
       "18     4  52  18.52   1  4.93\n",
       "20     3  97  20.01   1  3.70\n",
       "19     4  65  19.90   1  4.22"
      ],
      "text/html": [
       "<div>\n",
       "<style scoped>\n",
       "    .dataframe tbody tr th:only-of-type {\n",
       "        vertical-align: middle;\n",
       "    }\n",
       "\n",
       "    .dataframe tbody tr th {\n",
       "        vertical-align: top;\n",
       "    }\n",
       "\n",
       "    .dataframe thead th {\n",
       "        text-align: right;\n",
       "    }\n",
       "</style>\n",
       "<table border=\"1\" class=\"dataframe\">\n",
       "  <thead>\n",
       "    <tr style=\"text-align: right;\">\n",
       "      <th></th>\n",
       "      <th>gear</th>\n",
       "      <th>hp</th>\n",
       "      <th>qsec</th>\n",
       "      <th>vs</th>\n",
       "      <th>drat</th>\n",
       "    </tr>\n",
       "  </thead>\n",
       "  <tbody>\n",
       "    <tr>\n",
       "      <th>25</th>\n",
       "      <td>4</td>\n",
       "      <td>66</td>\n",
       "      <td>18.90</td>\n",
       "      <td>1</td>\n",
       "      <td>4.08</td>\n",
       "    </tr>\n",
       "    <tr>\n",
       "      <th>18</th>\n",
       "      <td>4</td>\n",
       "      <td>52</td>\n",
       "      <td>18.52</td>\n",
       "      <td>1</td>\n",
       "      <td>4.93</td>\n",
       "    </tr>\n",
       "    <tr>\n",
       "      <th>20</th>\n",
       "      <td>3</td>\n",
       "      <td>97</td>\n",
       "      <td>20.01</td>\n",
       "      <td>1</td>\n",
       "      <td>3.70</td>\n",
       "    </tr>\n",
       "    <tr>\n",
       "      <th>19</th>\n",
       "      <td>4</td>\n",
       "      <td>65</td>\n",
       "      <td>19.90</td>\n",
       "      <td>1</td>\n",
       "      <td>4.22</td>\n",
       "    </tr>\n",
       "  </tbody>\n",
       "</table>\n",
       "</div>"
      ]
     },
     "execution_count": 12,
     "metadata": {},
     "output_type": "execute_result"
    }
   ],
   "execution_count": 12
  },
  {
   "metadata": {
    "ExecuteTime": {
     "end_time": "2024-08-12T02:37:19.962960Z",
     "start_time": "2024-08-12T02:37:19.959877Z"
    }
   },
   "cell_type": "code",
   "source": "y_subset",
   "id": "dbe431bec849fce0",
   "outputs": [
    {
     "data": {
      "text/plain": [
       "25    27.3\n",
       "18    30.4\n",
       "20    21.5\n",
       "19    33.9\n",
       "Name: mpg, dtype: float64"
      ]
     },
     "execution_count": 13,
     "metadata": {},
     "output_type": "execute_result"
    }
   ],
   "execution_count": 13
  },
  {
   "metadata": {},
   "cell_type": "markdown",
   "source": "# Using the package",
   "id": "74ae41d1aa6acc6d"
  },
  {
   "metadata": {},
   "cell_type": "markdown",
   "source": "I have a little package to help sample a dataframe in a way that makes it easy to create conditions for the underfitting, interpolation, and overfitting regime of bias-variance theory.",
   "id": "5834a459151175e1"
  },
  {
   "metadata": {
    "ExecuteTime": {
     "end_time": "2024-08-12T02:37:20.062223Z",
     "start_time": "2024-08-12T02:37:20.060742Z"
    }
   },
   "cell_type": "code",
   "source": [
    "# The simplest way to make this reproducible.\n",
    "np.random.seed(0)"
   ],
   "id": "4ccee23df7f11af0",
   "outputs": [],
   "execution_count": 14
  },
  {
   "metadata": {
    "ExecuteTime": {
     "end_time": "2024-08-12T02:37:20.162754Z",
     "start_time": "2024-08-12T02:37:20.158474Z"
    }
   },
   "cell_type": "code",
   "source": "from double_descent_dar import sample_eval",
   "id": "6d962fdbb201615a",
   "outputs": [],
   "execution_count": 15
  },
  {
   "metadata": {
    "ExecuteTime": {
     "end_time": "2024-08-12T02:37:20.253555Z",
     "start_time": "2024-08-12T02:37:20.251031Z"
    }
   },
   "cell_type": "code",
   "source": [
    "random_state = None # Set for reproducibility\n",
    "num_sampled_rows = 3\n",
    "num_sampled_columns = 4"
   ],
   "id": "8f6c7152a2a68f52",
   "outputs": [],
   "execution_count": 16
  },
  {
   "metadata": {
    "ExecuteTime": {
     "end_time": "2024-08-12T02:37:20.306654Z",
     "start_time": "2024-08-12T02:37:20.301244Z"
    }
   },
   "cell_type": "code",
   "source": "X_train, X_test, y_train, y_test = sample_eval.train_test_split_by_rows_and_cols(X, y, num_train_rows=num_sampled_rows, num_columns=num_sampled_columns, replace=False, random_state=random_state, verbose=True)",
   "id": "fddfb904178f467c",
   "outputs": [
    {
     "name": "stdout",
     "output_type": "stream",
     "text": [
      "using train_size 0.09375\n"
     ]
    }
   ],
   "execution_count": 17
  },
  {
   "metadata": {
    "ExecuteTime": {
     "end_time": "2024-08-12T02:37:20.361204Z",
     "start_time": "2024-08-12T02:37:20.357892Z"
    }
   },
   "cell_type": "code",
   "source": "X_train",
   "id": "30d9414e82534d94",
   "outputs": [
    {
     "data": {
      "text/plain": [
       "     hp  gear    wt  carb\n",
       "6   245     3  3.57     4\n",
       "23  245     3  3.84     4\n",
       "4   175     3  3.44     2"
      ],
      "text/html": [
       "<div>\n",
       "<style scoped>\n",
       "    .dataframe tbody tr th:only-of-type {\n",
       "        vertical-align: middle;\n",
       "    }\n",
       "\n",
       "    .dataframe tbody tr th {\n",
       "        vertical-align: top;\n",
       "    }\n",
       "\n",
       "    .dataframe thead th {\n",
       "        text-align: right;\n",
       "    }\n",
       "</style>\n",
       "<table border=\"1\" class=\"dataframe\">\n",
       "  <thead>\n",
       "    <tr style=\"text-align: right;\">\n",
       "      <th></th>\n",
       "      <th>hp</th>\n",
       "      <th>gear</th>\n",
       "      <th>wt</th>\n",
       "      <th>carb</th>\n",
       "    </tr>\n",
       "  </thead>\n",
       "  <tbody>\n",
       "    <tr>\n",
       "      <th>6</th>\n",
       "      <td>245</td>\n",
       "      <td>3</td>\n",
       "      <td>3.57</td>\n",
       "      <td>4</td>\n",
       "    </tr>\n",
       "    <tr>\n",
       "      <th>23</th>\n",
       "      <td>245</td>\n",
       "      <td>3</td>\n",
       "      <td>3.84</td>\n",
       "      <td>4</td>\n",
       "    </tr>\n",
       "    <tr>\n",
       "      <th>4</th>\n",
       "      <td>175</td>\n",
       "      <td>3</td>\n",
       "      <td>3.44</td>\n",
       "      <td>2</td>\n",
       "    </tr>\n",
       "  </tbody>\n",
       "</table>\n",
       "</div>"
      ]
     },
     "execution_count": 18,
     "metadata": {},
     "output_type": "execute_result"
    }
   ],
   "execution_count": 18
  },
  {
   "metadata": {
    "ExecuteTime": {
     "end_time": "2024-08-12T02:37:20.382130Z",
     "start_time": "2024-08-12T02:37:20.379768Z"
    }
   },
   "cell_type": "code",
   "source": "y_train",
   "id": "92fd45fdcd4f03aa",
   "outputs": [
    {
     "data": {
      "text/plain": [
       "6     14.3\n",
       "23    13.3\n",
       "4     18.7\n",
       "Name: mpg, dtype: float64"
      ]
     },
     "execution_count": 19,
     "metadata": {},
     "output_type": "execute_result"
    }
   ],
   "execution_count": 19
  },
  {
   "metadata": {},
   "cell_type": "markdown",
   "source": "What we will do is fit a linear regression on this data and then measure out of sample error.\n",
   "id": "f4460d9477b640f1"
  },
  {
   "metadata": {
    "ExecuteTime": {
     "end_time": "2024-08-12T02:37:20.450897Z",
     "start_time": "2024-08-12T02:37:20.449181Z"
    }
   },
   "cell_type": "code",
   "source": [
    "# model = RandomForestRegressor()\n",
    "# model = linear_model.Ridge(alpha=.5)\n",
    "model = linear_model.LinearRegression(fit_intercept=True)"
   ],
   "id": "f62fd18d90e7a6fe",
   "outputs": [],
   "execution_count": 20
  },
  {
   "metadata": {
    "ExecuteTime": {
     "end_time": "2024-08-12T02:37:20.510318Z",
     "start_time": "2024-08-12T02:37:20.499862Z"
    }
   },
   "cell_type": "code",
   "source": "model.fit(X_train, y_train)",
   "id": "e64308095bccd89f",
   "outputs": [
    {
     "data": {
      "text/plain": [
       "LinearRegression()"
      ],
      "text/html": [
       "<style>#sk-container-id-1 {\n",
       "  /* Definition of color scheme common for light and dark mode */\n",
       "  --sklearn-color-text: black;\n",
       "  --sklearn-color-line: gray;\n",
       "  /* Definition of color scheme for unfitted estimators */\n",
       "  --sklearn-color-unfitted-level-0: #fff5e6;\n",
       "  --sklearn-color-unfitted-level-1: #f6e4d2;\n",
       "  --sklearn-color-unfitted-level-2: #ffe0b3;\n",
       "  --sklearn-color-unfitted-level-3: chocolate;\n",
       "  /* Definition of color scheme for fitted estimators */\n",
       "  --sklearn-color-fitted-level-0: #f0f8ff;\n",
       "  --sklearn-color-fitted-level-1: #d4ebff;\n",
       "  --sklearn-color-fitted-level-2: #b3dbfd;\n",
       "  --sklearn-color-fitted-level-3: cornflowerblue;\n",
       "\n",
       "  /* Specific color for light theme */\n",
       "  --sklearn-color-text-on-default-background: var(--sg-text-color, var(--theme-code-foreground, var(--jp-content-font-color1, black)));\n",
       "  --sklearn-color-background: var(--sg-background-color, var(--theme-background, var(--jp-layout-color0, white)));\n",
       "  --sklearn-color-border-box: var(--sg-text-color, var(--theme-code-foreground, var(--jp-content-font-color1, black)));\n",
       "  --sklearn-color-icon: #696969;\n",
       "\n",
       "  @media (prefers-color-scheme: dark) {\n",
       "    /* Redefinition of color scheme for dark theme */\n",
       "    --sklearn-color-text-on-default-background: var(--sg-text-color, var(--theme-code-foreground, var(--jp-content-font-color1, white)));\n",
       "    --sklearn-color-background: var(--sg-background-color, var(--theme-background, var(--jp-layout-color0, #111)));\n",
       "    --sklearn-color-border-box: var(--sg-text-color, var(--theme-code-foreground, var(--jp-content-font-color1, white)));\n",
       "    --sklearn-color-icon: #878787;\n",
       "  }\n",
       "}\n",
       "\n",
       "#sk-container-id-1 {\n",
       "  color: var(--sklearn-color-text);\n",
       "}\n",
       "\n",
       "#sk-container-id-1 pre {\n",
       "  padding: 0;\n",
       "}\n",
       "\n",
       "#sk-container-id-1 input.sk-hidden--visually {\n",
       "  border: 0;\n",
       "  clip: rect(1px 1px 1px 1px);\n",
       "  clip: rect(1px, 1px, 1px, 1px);\n",
       "  height: 1px;\n",
       "  margin: -1px;\n",
       "  overflow: hidden;\n",
       "  padding: 0;\n",
       "  position: absolute;\n",
       "  width: 1px;\n",
       "}\n",
       "\n",
       "#sk-container-id-1 div.sk-dashed-wrapped {\n",
       "  border: 1px dashed var(--sklearn-color-line);\n",
       "  margin: 0 0.4em 0.5em 0.4em;\n",
       "  box-sizing: border-box;\n",
       "  padding-bottom: 0.4em;\n",
       "  background-color: var(--sklearn-color-background);\n",
       "}\n",
       "\n",
       "#sk-container-id-1 div.sk-container {\n",
       "  /* jupyter's `normalize.less` sets `[hidden] { display: none; }`\n",
       "     but bootstrap.min.css set `[hidden] { display: none !important; }`\n",
       "     so we also need the `!important` here to be able to override the\n",
       "     default hidden behavior on the sphinx rendered scikit-learn.org.\n",
       "     See: https://github.com/scikit-learn/scikit-learn/issues/21755 */\n",
       "  display: inline-block !important;\n",
       "  position: relative;\n",
       "}\n",
       "\n",
       "#sk-container-id-1 div.sk-text-repr-fallback {\n",
       "  display: none;\n",
       "}\n",
       "\n",
       "div.sk-parallel-item,\n",
       "div.sk-serial,\n",
       "div.sk-item {\n",
       "  /* draw centered vertical line to link estimators */\n",
       "  background-image: linear-gradient(var(--sklearn-color-text-on-default-background), var(--sklearn-color-text-on-default-background));\n",
       "  background-size: 2px 100%;\n",
       "  background-repeat: no-repeat;\n",
       "  background-position: center center;\n",
       "}\n",
       "\n",
       "/* Parallel-specific style estimator block */\n",
       "\n",
       "#sk-container-id-1 div.sk-parallel-item::after {\n",
       "  content: \"\";\n",
       "  width: 100%;\n",
       "  border-bottom: 2px solid var(--sklearn-color-text-on-default-background);\n",
       "  flex-grow: 1;\n",
       "}\n",
       "\n",
       "#sk-container-id-1 div.sk-parallel {\n",
       "  display: flex;\n",
       "  align-items: stretch;\n",
       "  justify-content: center;\n",
       "  background-color: var(--sklearn-color-background);\n",
       "  position: relative;\n",
       "}\n",
       "\n",
       "#sk-container-id-1 div.sk-parallel-item {\n",
       "  display: flex;\n",
       "  flex-direction: column;\n",
       "}\n",
       "\n",
       "#sk-container-id-1 div.sk-parallel-item:first-child::after {\n",
       "  align-self: flex-end;\n",
       "  width: 50%;\n",
       "}\n",
       "\n",
       "#sk-container-id-1 div.sk-parallel-item:last-child::after {\n",
       "  align-self: flex-start;\n",
       "  width: 50%;\n",
       "}\n",
       "\n",
       "#sk-container-id-1 div.sk-parallel-item:only-child::after {\n",
       "  width: 0;\n",
       "}\n",
       "\n",
       "/* Serial-specific style estimator block */\n",
       "\n",
       "#sk-container-id-1 div.sk-serial {\n",
       "  display: flex;\n",
       "  flex-direction: column;\n",
       "  align-items: center;\n",
       "  background-color: var(--sklearn-color-background);\n",
       "  padding-right: 1em;\n",
       "  padding-left: 1em;\n",
       "}\n",
       "\n",
       "\n",
       "/* Toggleable style: style used for estimator/Pipeline/ColumnTransformer box that is\n",
       "clickable and can be expanded/collapsed.\n",
       "- Pipeline and ColumnTransformer use this feature and define the default style\n",
       "- Estimators will overwrite some part of the style using the `sk-estimator` class\n",
       "*/\n",
       "\n",
       "/* Pipeline and ColumnTransformer style (default) */\n",
       "\n",
       "#sk-container-id-1 div.sk-toggleable {\n",
       "  /* Default theme specific background. It is overwritten whether we have a\n",
       "  specific estimator or a Pipeline/ColumnTransformer */\n",
       "  background-color: var(--sklearn-color-background);\n",
       "}\n",
       "\n",
       "/* Toggleable label */\n",
       "#sk-container-id-1 label.sk-toggleable__label {\n",
       "  cursor: pointer;\n",
       "  display: block;\n",
       "  width: 100%;\n",
       "  margin-bottom: 0;\n",
       "  padding: 0.5em;\n",
       "  box-sizing: border-box;\n",
       "  text-align: center;\n",
       "}\n",
       "\n",
       "#sk-container-id-1 label.sk-toggleable__label-arrow:before {\n",
       "  /* Arrow on the left of the label */\n",
       "  content: \"▸\";\n",
       "  float: left;\n",
       "  margin-right: 0.25em;\n",
       "  color: var(--sklearn-color-icon);\n",
       "}\n",
       "\n",
       "#sk-container-id-1 label.sk-toggleable__label-arrow:hover:before {\n",
       "  color: var(--sklearn-color-text);\n",
       "}\n",
       "\n",
       "/* Toggleable content - dropdown */\n",
       "\n",
       "#sk-container-id-1 div.sk-toggleable__content {\n",
       "  max-height: 0;\n",
       "  max-width: 0;\n",
       "  overflow: hidden;\n",
       "  text-align: left;\n",
       "  /* unfitted */\n",
       "  background-color: var(--sklearn-color-unfitted-level-0);\n",
       "}\n",
       "\n",
       "#sk-container-id-1 div.sk-toggleable__content.fitted {\n",
       "  /* fitted */\n",
       "  background-color: var(--sklearn-color-fitted-level-0);\n",
       "}\n",
       "\n",
       "#sk-container-id-1 div.sk-toggleable__content pre {\n",
       "  margin: 0.2em;\n",
       "  border-radius: 0.25em;\n",
       "  color: var(--sklearn-color-text);\n",
       "  /* unfitted */\n",
       "  background-color: var(--sklearn-color-unfitted-level-0);\n",
       "}\n",
       "\n",
       "#sk-container-id-1 div.sk-toggleable__content.fitted pre {\n",
       "  /* unfitted */\n",
       "  background-color: var(--sklearn-color-fitted-level-0);\n",
       "}\n",
       "\n",
       "#sk-container-id-1 input.sk-toggleable__control:checked~div.sk-toggleable__content {\n",
       "  /* Expand drop-down */\n",
       "  max-height: 200px;\n",
       "  max-width: 100%;\n",
       "  overflow: auto;\n",
       "}\n",
       "\n",
       "#sk-container-id-1 input.sk-toggleable__control:checked~label.sk-toggleable__label-arrow:before {\n",
       "  content: \"▾\";\n",
       "}\n",
       "\n",
       "/* Pipeline/ColumnTransformer-specific style */\n",
       "\n",
       "#sk-container-id-1 div.sk-label input.sk-toggleable__control:checked~label.sk-toggleable__label {\n",
       "  color: var(--sklearn-color-text);\n",
       "  background-color: var(--sklearn-color-unfitted-level-2);\n",
       "}\n",
       "\n",
       "#sk-container-id-1 div.sk-label.fitted input.sk-toggleable__control:checked~label.sk-toggleable__label {\n",
       "  background-color: var(--sklearn-color-fitted-level-2);\n",
       "}\n",
       "\n",
       "/* Estimator-specific style */\n",
       "\n",
       "/* Colorize estimator box */\n",
       "#sk-container-id-1 div.sk-estimator input.sk-toggleable__control:checked~label.sk-toggleable__label {\n",
       "  /* unfitted */\n",
       "  background-color: var(--sklearn-color-unfitted-level-2);\n",
       "}\n",
       "\n",
       "#sk-container-id-1 div.sk-estimator.fitted input.sk-toggleable__control:checked~label.sk-toggleable__label {\n",
       "  /* fitted */\n",
       "  background-color: var(--sklearn-color-fitted-level-2);\n",
       "}\n",
       "\n",
       "#sk-container-id-1 div.sk-label label.sk-toggleable__label,\n",
       "#sk-container-id-1 div.sk-label label {\n",
       "  /* The background is the default theme color */\n",
       "  color: var(--sklearn-color-text-on-default-background);\n",
       "}\n",
       "\n",
       "/* On hover, darken the color of the background */\n",
       "#sk-container-id-1 div.sk-label:hover label.sk-toggleable__label {\n",
       "  color: var(--sklearn-color-text);\n",
       "  background-color: var(--sklearn-color-unfitted-level-2);\n",
       "}\n",
       "\n",
       "/* Label box, darken color on hover, fitted */\n",
       "#sk-container-id-1 div.sk-label.fitted:hover label.sk-toggleable__label.fitted {\n",
       "  color: var(--sklearn-color-text);\n",
       "  background-color: var(--sklearn-color-fitted-level-2);\n",
       "}\n",
       "\n",
       "/* Estimator label */\n",
       "\n",
       "#sk-container-id-1 div.sk-label label {\n",
       "  font-family: monospace;\n",
       "  font-weight: bold;\n",
       "  display: inline-block;\n",
       "  line-height: 1.2em;\n",
       "}\n",
       "\n",
       "#sk-container-id-1 div.sk-label-container {\n",
       "  text-align: center;\n",
       "}\n",
       "\n",
       "/* Estimator-specific */\n",
       "#sk-container-id-1 div.sk-estimator {\n",
       "  font-family: monospace;\n",
       "  border: 1px dotted var(--sklearn-color-border-box);\n",
       "  border-radius: 0.25em;\n",
       "  box-sizing: border-box;\n",
       "  margin-bottom: 0.5em;\n",
       "  /* unfitted */\n",
       "  background-color: var(--sklearn-color-unfitted-level-0);\n",
       "}\n",
       "\n",
       "#sk-container-id-1 div.sk-estimator.fitted {\n",
       "  /* fitted */\n",
       "  background-color: var(--sklearn-color-fitted-level-0);\n",
       "}\n",
       "\n",
       "/* on hover */\n",
       "#sk-container-id-1 div.sk-estimator:hover {\n",
       "  /* unfitted */\n",
       "  background-color: var(--sklearn-color-unfitted-level-2);\n",
       "}\n",
       "\n",
       "#sk-container-id-1 div.sk-estimator.fitted:hover {\n",
       "  /* fitted */\n",
       "  background-color: var(--sklearn-color-fitted-level-2);\n",
       "}\n",
       "\n",
       "/* Specification for estimator info (e.g. \"i\" and \"?\") */\n",
       "\n",
       "/* Common style for \"i\" and \"?\" */\n",
       "\n",
       ".sk-estimator-doc-link,\n",
       "a:link.sk-estimator-doc-link,\n",
       "a:visited.sk-estimator-doc-link {\n",
       "  float: right;\n",
       "  font-size: smaller;\n",
       "  line-height: 1em;\n",
       "  font-family: monospace;\n",
       "  background-color: var(--sklearn-color-background);\n",
       "  border-radius: 1em;\n",
       "  height: 1em;\n",
       "  width: 1em;\n",
       "  text-decoration: none !important;\n",
       "  margin-left: 1ex;\n",
       "  /* unfitted */\n",
       "  border: var(--sklearn-color-unfitted-level-1) 1pt solid;\n",
       "  color: var(--sklearn-color-unfitted-level-1);\n",
       "}\n",
       "\n",
       ".sk-estimator-doc-link.fitted,\n",
       "a:link.sk-estimator-doc-link.fitted,\n",
       "a:visited.sk-estimator-doc-link.fitted {\n",
       "  /* fitted */\n",
       "  border: var(--sklearn-color-fitted-level-1) 1pt solid;\n",
       "  color: var(--sklearn-color-fitted-level-1);\n",
       "}\n",
       "\n",
       "/* On hover */\n",
       "div.sk-estimator:hover .sk-estimator-doc-link:hover,\n",
       ".sk-estimator-doc-link:hover,\n",
       "div.sk-label-container:hover .sk-estimator-doc-link:hover,\n",
       ".sk-estimator-doc-link:hover {\n",
       "  /* unfitted */\n",
       "  background-color: var(--sklearn-color-unfitted-level-3);\n",
       "  color: var(--sklearn-color-background);\n",
       "  text-decoration: none;\n",
       "}\n",
       "\n",
       "div.sk-estimator.fitted:hover .sk-estimator-doc-link.fitted:hover,\n",
       ".sk-estimator-doc-link.fitted:hover,\n",
       "div.sk-label-container:hover .sk-estimator-doc-link.fitted:hover,\n",
       ".sk-estimator-doc-link.fitted:hover {\n",
       "  /* fitted */\n",
       "  background-color: var(--sklearn-color-fitted-level-3);\n",
       "  color: var(--sklearn-color-background);\n",
       "  text-decoration: none;\n",
       "}\n",
       "\n",
       "/* Span, style for the box shown on hovering the info icon */\n",
       ".sk-estimator-doc-link span {\n",
       "  display: none;\n",
       "  z-index: 9999;\n",
       "  position: relative;\n",
       "  font-weight: normal;\n",
       "  right: .2ex;\n",
       "  padding: .5ex;\n",
       "  margin: .5ex;\n",
       "  width: min-content;\n",
       "  min-width: 20ex;\n",
       "  max-width: 50ex;\n",
       "  color: var(--sklearn-color-text);\n",
       "  box-shadow: 2pt 2pt 4pt #999;\n",
       "  /* unfitted */\n",
       "  background: var(--sklearn-color-unfitted-level-0);\n",
       "  border: .5pt solid var(--sklearn-color-unfitted-level-3);\n",
       "}\n",
       "\n",
       ".sk-estimator-doc-link.fitted span {\n",
       "  /* fitted */\n",
       "  background: var(--sklearn-color-fitted-level-0);\n",
       "  border: var(--sklearn-color-fitted-level-3);\n",
       "}\n",
       "\n",
       ".sk-estimator-doc-link:hover span {\n",
       "  display: block;\n",
       "}\n",
       "\n",
       "/* \"?\"-specific style due to the `<a>` HTML tag */\n",
       "\n",
       "#sk-container-id-1 a.estimator_doc_link {\n",
       "  float: right;\n",
       "  font-size: 1rem;\n",
       "  line-height: 1em;\n",
       "  font-family: monospace;\n",
       "  background-color: var(--sklearn-color-background);\n",
       "  border-radius: 1rem;\n",
       "  height: 1rem;\n",
       "  width: 1rem;\n",
       "  text-decoration: none;\n",
       "  /* unfitted */\n",
       "  color: var(--sklearn-color-unfitted-level-1);\n",
       "  border: var(--sklearn-color-unfitted-level-1) 1pt solid;\n",
       "}\n",
       "\n",
       "#sk-container-id-1 a.estimator_doc_link.fitted {\n",
       "  /* fitted */\n",
       "  border: var(--sklearn-color-fitted-level-1) 1pt solid;\n",
       "  color: var(--sklearn-color-fitted-level-1);\n",
       "}\n",
       "\n",
       "/* On hover */\n",
       "#sk-container-id-1 a.estimator_doc_link:hover {\n",
       "  /* unfitted */\n",
       "  background-color: var(--sklearn-color-unfitted-level-3);\n",
       "  color: var(--sklearn-color-background);\n",
       "  text-decoration: none;\n",
       "}\n",
       "\n",
       "#sk-container-id-1 a.estimator_doc_link.fitted:hover {\n",
       "  /* fitted */\n",
       "  background-color: var(--sklearn-color-fitted-level-3);\n",
       "}\n",
       "</style><div id=\"sk-container-id-1\" class=\"sk-top-container\"><div class=\"sk-text-repr-fallback\"><pre>LinearRegression()</pre><b>In a Jupyter environment, please rerun this cell to show the HTML representation or trust the notebook. <br />On GitHub, the HTML representation is unable to render, please try loading this page with nbviewer.org.</b></div><div class=\"sk-container\" hidden><div class=\"sk-item\"><div class=\"sk-estimator fitted sk-toggleable\"><input class=\"sk-toggleable__control sk-hidden--visually\" id=\"sk-estimator-id-1\" type=\"checkbox\" checked><label for=\"sk-estimator-id-1\" class=\"sk-toggleable__label fitted sk-toggleable__label-arrow fitted\">&nbsp;&nbsp;LinearRegression<a class=\"sk-estimator-doc-link fitted\" rel=\"noreferrer\" target=\"_blank\" href=\"https://scikit-learn.org/1.5/modules/generated/sklearn.linear_model.LinearRegression.html\">?<span>Documentation for LinearRegression</span></a><span class=\"sk-estimator-doc-link fitted\">i<span>Fitted</span></span></label><div class=\"sk-toggleable__content fitted\"><pre>LinearRegression()</pre></div> </div></div></div></div>"
      ]
     },
     "execution_count": 21,
     "metadata": {},
     "output_type": "execute_result"
    }
   ],
   "execution_count": 21
  },
  {
   "metadata": {
    "ExecuteTime": {
     "end_time": "2024-08-12T02:37:20.604063Z",
     "start_time": "2024-08-12T02:37:20.602161Z"
    }
   },
   "cell_type": "code",
   "source": [
    "my_metric = root_mean_squared_error\n",
    "# my_metric = mean_absolute_error"
   ],
   "id": "10d9b7f0d2e577e5",
   "outputs": [],
   "execution_count": 22
  },
  {
   "metadata": {
    "ExecuteTime": {
     "end_time": "2024-08-12T02:37:20.674581Z",
     "start_time": "2024-08-12T02:37:20.670904Z"
    }
   },
   "cell_type": "code",
   "source": [
    "train_error = my_metric(y_train, model.predict(X_train))\n",
    "train_error"
   ],
   "id": "726945e27ad5b70e",
   "outputs": [
    {
     "data": {
      "text/plain": [
       "np.float64(0.0)"
      ]
     },
     "execution_count": 23,
     "metadata": {},
     "output_type": "execute_result"
    }
   ],
   "execution_count": 23
  },
  {
   "metadata": {
    "ExecuteTime": {
     "end_time": "2024-08-12T02:37:20.856603Z",
     "start_time": "2024-08-12T02:37:20.850276Z"
    }
   },
   "cell_type": "code",
   "source": [
    "test_error = my_metric(y_test, model.predict(X_test))\n",
    "test_error"
   ],
   "id": "b54bc935c4ed9d33",
   "outputs": [
    {
     "data": {
      "text/plain": [
       "np.float64(3.2309801022160913)"
      ]
     },
     "execution_count": 24,
     "metadata": {},
     "output_type": "execute_result"
    }
   ],
   "execution_count": 24
  },
  {
   "metadata": {},
   "cell_type": "markdown",
   "source": "As expected, train error (in-sample fit) is lower than test error (out of sample).",
   "id": "5fd8cc416c9453b3"
  },
  {
   "metadata": {},
   "cell_type": "markdown",
   "source": "We will do this again and again and look at the average metric value for combinations of number of rows and columns.",
   "id": "fdb3ef5b982c73a7"
  },
  {
   "metadata": {},
   "cell_type": "markdown",
   "source": "# Bias-variance U curve",
   "id": "468c3f23c238ddb"
  },
  {
   "metadata": {},
   "cell_type": "markdown",
   "source": [
    "Seeing a traditional bias-variance U curve requires that the number of parameters should be a lot less than the number of rows.  Since the data set has 9 columns, we will need a lot more rows. This section will sample 15 rows (out of a total of 32) to train on.\n",
    "\n",
    "We will sample between 2 and 8 columns (out of a total of 10 numeric columns) to see how the error metric varies by the number of parameters."
   ],
   "id": "feedcfd9e6d0f44a"
  },
  {
   "metadata": {},
   "cell_type": "markdown",
   "source": "Note that the regression used here includes an intercept, so 8 columns + 1 intercept -> 9 parameters.  With 15 rows to train on, full interpolation would be reached with 15 columns.",
   "id": "6f14289cbf6c79cb"
  },
  {
   "metadata": {
    "ExecuteTime": {
     "end_time": "2024-08-12T02:37:20.879550Z",
     "start_time": "2024-08-12T02:37:20.876724Z"
    }
   },
   "cell_type": "code",
   "source": "X.shape",
   "id": "7492ae8aeb7c67a",
   "outputs": [
    {
     "data": {
      "text/plain": [
       "(32, 10)"
      ]
     },
     "execution_count": 25,
     "metadata": {},
     "output_type": "execute_result"
    }
   ],
   "execution_count": 25
  },
  {
   "metadata": {
    "ExecuteTime": {
     "end_time": "2024-08-12T02:37:20.978640Z",
     "start_time": "2024-08-12T02:37:20.977249Z"
    }
   },
   "cell_type": "code",
   "source": [
    "num_train_rows = 15\n",
    "num_sampled_columns = 3"
   ],
   "id": "70069146462259c6",
   "outputs": [],
   "execution_count": 26
  },
  {
   "metadata": {
    "ExecuteTime": {
     "end_time": "2024-08-12T02:37:21.045638Z",
     "start_time": "2024-08-12T02:37:21.027249Z"
    }
   },
   "cell_type": "code",
   "source": [
    "X_train, X_test, y_train, y_test = sample_eval.train_test_split_by_rows_and_cols(X, y, num_train_rows=num_train_rows, num_columns=num_sampled_columns, replace=False, random_state=random_state, verbose=True)\n",
    "X_train"
   ],
   "id": "c7a64a9d48101a20",
   "outputs": [
    {
     "name": "stdout",
     "output_type": "stream",
     "text": [
      "using train_size 0.46875\n"
     ]
    },
    {
     "data": {
      "text/plain": [
       "     disp  gear  carb\n",
       "18   75.7     4     2\n",
       "1   160.0     4     4\n",
       "10  167.6     4     4\n",
       "9   167.6     4     4\n",
       "29  145.0     5     6\n",
       "15  460.0     3     4\n",
       "17   78.7     4     1\n",
       "20  120.1     3     1\n",
       "8   140.8     4     2\n",
       "6   360.0     3     4\n",
       "5   225.0     3     1\n",
       "21  318.0     3     2\n",
       "4   360.0     3     2\n",
       "31  121.0     4     2\n",
       "0   160.0     4     4"
      ],
      "text/html": [
       "<div>\n",
       "<style scoped>\n",
       "    .dataframe tbody tr th:only-of-type {\n",
       "        vertical-align: middle;\n",
       "    }\n",
       "\n",
       "    .dataframe tbody tr th {\n",
       "        vertical-align: top;\n",
       "    }\n",
       "\n",
       "    .dataframe thead th {\n",
       "        text-align: right;\n",
       "    }\n",
       "</style>\n",
       "<table border=\"1\" class=\"dataframe\">\n",
       "  <thead>\n",
       "    <tr style=\"text-align: right;\">\n",
       "      <th></th>\n",
       "      <th>disp</th>\n",
       "      <th>gear</th>\n",
       "      <th>carb</th>\n",
       "    </tr>\n",
       "  </thead>\n",
       "  <tbody>\n",
       "    <tr>\n",
       "      <th>18</th>\n",
       "      <td>75.7</td>\n",
       "      <td>4</td>\n",
       "      <td>2</td>\n",
       "    </tr>\n",
       "    <tr>\n",
       "      <th>1</th>\n",
       "      <td>160.0</td>\n",
       "      <td>4</td>\n",
       "      <td>4</td>\n",
       "    </tr>\n",
       "    <tr>\n",
       "      <th>10</th>\n",
       "      <td>167.6</td>\n",
       "      <td>4</td>\n",
       "      <td>4</td>\n",
       "    </tr>\n",
       "    <tr>\n",
       "      <th>9</th>\n",
       "      <td>167.6</td>\n",
       "      <td>4</td>\n",
       "      <td>4</td>\n",
       "    </tr>\n",
       "    <tr>\n",
       "      <th>29</th>\n",
       "      <td>145.0</td>\n",
       "      <td>5</td>\n",
       "      <td>6</td>\n",
       "    </tr>\n",
       "    <tr>\n",
       "      <th>15</th>\n",
       "      <td>460.0</td>\n",
       "      <td>3</td>\n",
       "      <td>4</td>\n",
       "    </tr>\n",
       "    <tr>\n",
       "      <th>17</th>\n",
       "      <td>78.7</td>\n",
       "      <td>4</td>\n",
       "      <td>1</td>\n",
       "    </tr>\n",
       "    <tr>\n",
       "      <th>20</th>\n",
       "      <td>120.1</td>\n",
       "      <td>3</td>\n",
       "      <td>1</td>\n",
       "    </tr>\n",
       "    <tr>\n",
       "      <th>8</th>\n",
       "      <td>140.8</td>\n",
       "      <td>4</td>\n",
       "      <td>2</td>\n",
       "    </tr>\n",
       "    <tr>\n",
       "      <th>6</th>\n",
       "      <td>360.0</td>\n",
       "      <td>3</td>\n",
       "      <td>4</td>\n",
       "    </tr>\n",
       "    <tr>\n",
       "      <th>5</th>\n",
       "      <td>225.0</td>\n",
       "      <td>3</td>\n",
       "      <td>1</td>\n",
       "    </tr>\n",
       "    <tr>\n",
       "      <th>21</th>\n",
       "      <td>318.0</td>\n",
       "      <td>3</td>\n",
       "      <td>2</td>\n",
       "    </tr>\n",
       "    <tr>\n",
       "      <th>4</th>\n",
       "      <td>360.0</td>\n",
       "      <td>3</td>\n",
       "      <td>2</td>\n",
       "    </tr>\n",
       "    <tr>\n",
       "      <th>31</th>\n",
       "      <td>121.0</td>\n",
       "      <td>4</td>\n",
       "      <td>2</td>\n",
       "    </tr>\n",
       "    <tr>\n",
       "      <th>0</th>\n",
       "      <td>160.0</td>\n",
       "      <td>4</td>\n",
       "      <td>4</td>\n",
       "    </tr>\n",
       "  </tbody>\n",
       "</table>\n",
       "</div>"
      ]
     },
     "execution_count": 27,
     "metadata": {},
     "output_type": "execute_result"
    }
   ],
   "execution_count": 27
  },
  {
   "metadata": {},
   "cell_type": "markdown",
   "source": "Here is a function to repeat this for a given number of columns.",
   "id": "82311ad40e6fb7a6"
  },
  {
   "metadata": {
    "ExecuteTime": {
     "end_time": "2024-08-12T02:37:21.224175Z",
     "start_time": "2024-08-12T02:37:21.221198Z"
    }
   },
   "cell_type": "code",
   "source": "model = linear_model.LinearRegression(fit_intercept=True)",
   "id": "309d781835ccb2",
   "outputs": [],
   "execution_count": 28
  },
  {
   "metadata": {
    "ExecuteTime": {
     "end_time": "2024-08-12T02:37:21.296946Z",
     "start_time": "2024-08-12T02:37:21.294997Z"
    }
   },
   "cell_type": "code",
   "source": [
    "def sample_by_num_cols(num_sampled_columns_local):\n",
    "    return sample_eval.sample_and_calc_metric_by_rows_and_cols(X, y, num_train_rows=num_train_rows, num_columns=num_sampled_columns_local, model=model, metric_func=my_metric, replace=False, random_state=random_state)"
   ],
   "id": "470c0a2cf691d5a5",
   "outputs": [],
   "execution_count": 29
  },
  {
   "metadata": {
    "ExecuteTime": {
     "end_time": "2024-08-12T02:37:23.823545Z",
     "start_time": "2024-08-12T02:37:21.392158Z"
    }
   },
   "cell_type": "code",
   "source": [
    "num_samples = 200\n",
    "metric_all_samples = []\n",
    "for num_sampled_columns in range(1, X.shape[1]-1):\n",
    "    metric_all_samples.append((num_sampled_columns, np.array([tuple(sample_by_num_cols(num_sampled_columns).values()) for _ in range(num_samples)])))"
   ],
   "id": "d7325206424428ea",
   "outputs": [],
   "execution_count": 30
  },
  {
   "metadata": {},
   "cell_type": "markdown",
   "source": "Below we see training error (the first number in each tuple) always decreases for more columns while test error goes down but then goes back up.  We plot these on the graph.",
   "id": "d5d9314c62747569"
  },
  {
   "metadata": {
    "ExecuteTime": {
     "end_time": "2024-08-12T02:37:23.828189Z",
     "start_time": "2024-08-12T02:37:23.825049Z"
    }
   },
   "cell_type": "code",
   "source": [
    "print('training error, test error')\n",
    "for key, values in metric_all_samples:\n",
    "    the_means = np.mean(values, axis=0)\n",
    "    # the_stdevs = np.std(values, axis=0)\n",
    "    print(f'num_cols: {key}, mean error: {the_means}')"
   ],
   "id": "dbf9285b78f9aad0",
   "outputs": [
    {
     "name": "stdout",
     "output_type": "stream",
     "text": [
      "training error, test error\n",
      "num_cols: 1, mean error: [3.86378194 4.68876359]\n",
      "num_cols: 2, mean error: [3.05284286 3.95587594]\n",
      "num_cols: 3, mean error: [2.61525578 3.58603776]\n",
      "num_cols: 4, mean error: [2.2807915  3.47943874]\n",
      "num_cols: 5, mean error: [2.08931026 3.65534851]\n",
      "num_cols: 6, mean error: [1.92985069 3.94381472]\n",
      "num_cols: 7, mean error: [1.78159454 4.18204789]\n",
      "num_cols: 8, mean error: [1.64516719 4.7623671 ]\n"
     ]
    }
   ],
   "execution_count": 31
  },
  {
   "metadata": {},
   "cell_type": "markdown",
   "source": "Now we convert the dat to a format for plotting.",
   "id": "f570701cf3ab6a49"
  },
  {
   "metadata": {
    "ExecuteTime": {
     "end_time": "2024-08-12T02:37:23.830678Z",
     "start_time": "2024-08-12T02:37:23.828761Z"
    }
   },
   "cell_type": "code",
   "source": [
    "metric_means = [(col_val_tuple[0], np.mean(col_val_tuple[1], axis=0)) for col_val_tuple in metric_all_samples]\n",
    "res = list(zip(*metric_means))\n",
    "res_array = np.array(res[1])\n",
    "num_cols = res[0]\n",
    "train_means = res_array[:,0]\n",
    "test_means= res_array[:,1]"
   ],
   "id": "f451a12836473549",
   "outputs": [],
   "execution_count": 32
  },
  {
   "metadata": {
    "ExecuteTime": {
     "end_time": "2024-08-12T02:37:23.901563Z",
     "start_time": "2024-08-12T02:37:23.831603Z"
    }
   },
   "cell_type": "code",
   "source": [
    "plt.scatter(num_cols, test_means, label='test')\n",
    "plt.xlabel(\"Num sampled columns\")\n",
    "plt.ylabel(\"Mean of \" + my_metric.__name__)\n",
    "plt.legend()\n",
    "plt.show()"
   ],
   "id": "a458ae115d906c9d",
   "outputs": [
    {
     "data": {
      "text/plain": [
       "<Figure size 640x480 with 1 Axes>"
      ],
      "image/png": "[encoded data removed]"
     },
     "metadata": {},
     "output_type": "display_data"
    }
   ],
   "execution_count": 33
  },
  {
   "metadata": {},
   "cell_type": "markdown",
   "source": [
    "The test error (in orange) display a beautiful U shape.  The linear regression's lowest average test (out-of-sample) error was achieved at 4 columns, which with the intercept means 5 parameters to fit.  This is much less than the 9 columns available in the data set.\n",
    "\n",
    "(There is no simple theory that predicts what the optimal number of parameters will be.) \n"
   ],
   "id": "aefb99dddbc20e07"
  },
  {
   "metadata": {},
   "cell_type": "markdown",
   "source": "Now let's look at a plot that includes the training error.  Notice that the training error continues to decrease as more columns are added.",
   "id": "2505bacb327efdd0"
  },
  {
   "metadata": {
    "ExecuteTime": {
     "end_time": "2024-08-12T02:37:23.958769Z",
     "start_time": "2024-08-12T02:37:23.902473Z"
    }
   },
   "cell_type": "code",
   "source": [
    "plt.scatter(num_cols, test_means, label='test')\n",
    "plt.scatter(num_cols, train_means, label='train')\n",
    "plt.xlabel(\"Num sampled columns\")\n",
    "plt.ylabel(\"Mean of \" + my_metric.__name__)\n",
    "plt.legend()\n",
    "plt.show()"
   ],
   "id": "5f77fffd1318acca",
   "outputs": [
    {
     "data": {
      "text/plain": [
       "<Figure size 640x480 with 1 Axes>"
      ],
      "image/png": "[encoded data removed]"
     },
     "metadata": {},
     "output_type": "display_data"
    }
   ],
   "execution_count": 34
  },
  {
   "metadata": {},
   "cell_type": "markdown",
   "source": "## Double descent",
   "id": "403b642f573546b5"
  },
  {
   "metadata": {},
   "cell_type": "markdown",
   "source": [
    "A paper by Dar et al. (), called \"Farewell to Bias Variance?\" showed mathematically that double descent could be exhibited by linear regression under certain conditions. \n",
    "\n",
    "The paper: \n",
    "Yehuda Dar, Muthukumar, V., & Baraniuk, R. (2021). A Farewell to the Bias-Variance Tradeoff? An Overview of the Theory of Overparameterized Machine Learning. https://arxiv.org/abs/2109.02355\n"
   ],
   "id": "d6197abaf8b716c4"
  },
  {
   "metadata": {},
   "cell_type": "markdown",
   "source": "Here I show double descent empirically on the mtcars data set (widely used by R users).",
   "id": "b9c477192eeba6f9"
  },
  {
   "metadata": {},
   "cell_type": "markdown",
   "source": [
    "Seeing double descent requires that the number of parameters should be a lot MORE than the number of rows. Since the data set has only 9 columns, we achieve this with a trick-- sampling fewer rows.\n",
    "\n",
    "This section will train on 7 rows (out of a total of 32).\n",
    "\n",
    "As before, will sample between 2 and 8 columns (out of a total of 9 columns) to see how the error metric varies by the number of parameters.  "
   ],
   "id": "b65d29fbef9694e4"
  },
  {
   "metadata": {},
   "cell_type": "markdown",
   "source": "The linear regression model will be able to fully interpolate the data at 7 columns because it is fit to 7 rows.",
   "id": "e42159c2bbfc8fd9"
  },
  {
   "metadata": {
    "ExecuteTime": {
     "end_time": "2024-08-12T02:37:23.960951Z",
     "start_time": "2024-08-12T02:37:23.959441Z"
    }
   },
   "cell_type": "code",
   "source": "num_train_rows = 7",
   "id": "94f7bb946771084c",
   "outputs": [],
   "execution_count": 35
  },
  {
   "metadata": {
    "ExecuteTime": {
     "end_time": "2024-08-12T02:37:23.962645Z",
     "start_time": "2024-08-12T02:37:23.961379Z"
    }
   },
   "cell_type": "code",
   "source": "model = linear_model.LinearRegression(fit_intercept=True)",
   "id": "a02d50444fab852d",
   "outputs": [],
   "execution_count": 36
  },
  {
   "metadata": {
    "ExecuteTime": {
     "end_time": "2024-08-12T02:37:23.964536Z",
     "start_time": "2024-08-12T02:37:23.963064Z"
    }
   },
   "cell_type": "code",
   "source": [
    "def sample_by_num_cols(num_sampled_columns_local):\n",
    "    return sample_eval.sample_and_calc_metric_by_rows_and_cols(X, y, num_train_rows=num_train_rows, num_columns=num_sampled_columns_local, model=model, metric_func=my_metric, replace=False, random_state=random_state)"
   ],
   "id": "5004699fd4cddbfe",
   "outputs": [],
   "execution_count": 37
  },
  {
   "metadata": {
    "ExecuteTime": {
     "end_time": "2024-08-12T02:37:25.774746Z",
     "start_time": "2024-08-12T02:37:23.965002Z"
    }
   },
   "cell_type": "code",
   "source": [
    "num_samples = 200\n",
    "metric_all_samples = []\n",
    "for num_sampled_columns in range(1, X.shape[1]-1):\n",
    "    metric_all_samples.append((num_sampled_columns, np.array([tuple(sample_by_num_cols(num_sampled_columns).values()) for _ in range(num_samples)])))"
   ],
   "id": "416c3e7ee1f34e19",
   "outputs": [],
   "execution_count": 38
  },
  {
   "metadata": {
    "ExecuteTime": {
     "end_time": "2024-08-12T02:37:25.779765Z",
     "start_time": "2024-08-12T02:37:25.776994Z"
    }
   },
   "cell_type": "code",
   "source": [
    "metric_means = [(col_val_tuple[0], np.mean(col_val_tuple[1], axis=0)) for col_val_tuple in metric_all_samples]\n",
    "res = list(zip(*metric_means))\n",
    "res_array = np.array(res[1])\n",
    "num_cols = res[0]\n",
    "train_means = res_array[:,0]\n",
    "test_means= res_array[:,1]"
   ],
   "id": "2cce0524174081f3",
   "outputs": [],
   "execution_count": 39
  },
  {
   "metadata": {
    "ExecuteTime": {
     "end_time": "2024-08-12T02:37:25.828859Z",
     "start_time": "2024-08-12T02:37:25.780315Z"
    }
   },
   "cell_type": "code",
   "source": [
    "plt.scatter(num_cols, test_means, label='test')\n",
    "plt.xlabel(\"Num sampled columns\")\n",
    "plt.ylabel(\"Mean of \" + my_metric.__name__)\n",
    "plt.legend()\n",
    "plt.show()"
   ],
   "id": "80257d46b7fb5b39",
   "outputs": [
    {
     "data": {
      "text/plain": [
       "<Figure size 640x480 with 1 Axes>"
      ],
      "image/png": "[encoded data removed]"
     },
     "metadata": {},
     "output_type": "display_data"
    }
   ],
   "execution_count": 40
  },
  {
   "metadata": {},
   "cell_type": "markdown",
   "source": [
    "As predicted, there was a spike in test (out of sample) error followed by a descent in error after the spike.  That is double descent in a linear regression. \n",
    "\n",
    "The key lesson: Error descends a second time after the spike, so we observe classic double descent.  Double descent was formerly thought to be a weird feature of fitting neural nets, but here we observe it with simple, traditional linear regression."
   ],
   "id": "c725d60c9915cc9e"
  },
  {
   "metadata": {},
   "cell_type": "markdown",
   "source": "However, the transitional double descent spike was at 6 not 7 columns.  A deeper dive into training error can help us understand.  The spike should happen at the interpolation point.  Interpolation means the data could be fit perfectly, so the training error is zero.  Let's look at the mean training error for each number of columns",
   "id": "cc0265ec313a0f3a"
  },
  {
   "metadata": {
    "ExecuteTime": {
     "end_time": "2024-08-12T02:37:25.834109Z",
     "start_time": "2024-08-12T02:37:25.829594Z"
    }
   },
   "cell_type": "code",
   "source": "pd.DataFrame({'num sampled cols':num_cols, 'mean train error':train_means, 'mean test error':test_means})",
   "id": "2dc4f3e869c9fae1",
   "outputs": [
    {
     "data": {
      "text/plain": [
       "   num sampled cols  mean train error  mean test error\n",
       "0                 1          3.471871         5.206709\n",
       "1                 2          2.500841         4.733874\n",
       "2                 3          1.756779         4.965807\n",
       "3                 4          1.386210         6.645948\n",
       "4                 5          0.891766        12.097241\n",
       "5                 6          0.147088       176.965554\n",
       "6                 7          0.071420        32.325548\n",
       "7                 8          0.013355        74.017800"
      ],
      "text/html": [
       "<div>\n",
       "<style scoped>\n",
       "    .dataframe tbody tr th:only-of-type {\n",
       "        vertical-align: middle;\n",
       "    }\n",
       "\n",
       "    .dataframe tbody tr th {\n",
       "        vertical-align: top;\n",
       "    }\n",
       "\n",
       "    .dataframe thead th {\n",
       "        text-align: right;\n",
       "    }\n",
       "</style>\n",
       "<table border=\"1\" class=\"dataframe\">\n",
       "  <thead>\n",
       "    <tr style=\"text-align: right;\">\n",
       "      <th></th>\n",
       "      <th>num sampled cols</th>\n",
       "      <th>mean train error</th>\n",
       "      <th>mean test error</th>\n",
       "    </tr>\n",
       "  </thead>\n",
       "  <tbody>\n",
       "    <tr>\n",
       "      <th>0</th>\n",
       "      <td>1</td>\n",
       "      <td>3.471871</td>\n",
       "      <td>5.206709</td>\n",
       "    </tr>\n",
       "    <tr>\n",
       "      <th>1</th>\n",
       "      <td>2</td>\n",
       "      <td>2.500841</td>\n",
       "      <td>4.733874</td>\n",
       "    </tr>\n",
       "    <tr>\n",
       "      <th>2</th>\n",
       "      <td>3</td>\n",
       "      <td>1.756779</td>\n",
       "      <td>4.965807</td>\n",
       "    </tr>\n",
       "    <tr>\n",
       "      <th>3</th>\n",
       "      <td>4</td>\n",
       "      <td>1.386210</td>\n",
       "      <td>6.645948</td>\n",
       "    </tr>\n",
       "    <tr>\n",
       "      <th>4</th>\n",
       "      <td>5</td>\n",
       "      <td>0.891766</td>\n",
       "      <td>12.097241</td>\n",
       "    </tr>\n",
       "    <tr>\n",
       "      <th>5</th>\n",
       "      <td>6</td>\n",
       "      <td>0.147088</td>\n",
       "      <td>176.965554</td>\n",
       "    </tr>\n",
       "    <tr>\n",
       "      <th>6</th>\n",
       "      <td>7</td>\n",
       "      <td>0.071420</td>\n",
       "      <td>32.325548</td>\n",
       "    </tr>\n",
       "    <tr>\n",
       "      <th>7</th>\n",
       "      <td>8</td>\n",
       "      <td>0.013355</td>\n",
       "      <td>74.017800</td>\n",
       "    </tr>\n",
       "  </tbody>\n",
       "</table>\n",
       "</div>"
      ]
     },
     "execution_count": 41,
     "metadata": {},
     "output_type": "execute_result"
    }
   ],
   "execution_count": 41
  },
  {
   "metadata": {},
   "cell_type": "markdown",
   "source": [
    "I predicted that interpolation would happen at 7 sampled columns because we selected 7 rows, but we see the mean training error is not 0 at 7 columns nor even at 8 columns!\n",
    "\n",
    "Considering why, focus on the mtcars data set (documentation: https://www.rdocumentation.org/packages/datasets/versions/3.6.2/topics/mtcars).  It has some very low-variance, uninformative columns.  The column `vs` (engine type v or s) and the column `am` (automatic transmission or not) are both binary.  So if these columns were selected, perfect interpolation would not be achievable even with 7 columns for 7 rows. "
   ],
   "id": "1a093c243d55fa0"
  },
  {
   "metadata": {},
   "cell_type": "markdown",
   "source": "For completeness, below is a plot that includes both training and test error.",
   "id": "ea98cf008cbf6fdb"
  },
  {
   "metadata": {
    "ExecuteTime": {
     "end_time": "2024-08-12T02:37:25.913578Z",
     "start_time": "2024-08-12T02:37:25.834595Z"
    }
   },
   "cell_type": "code",
   "source": [
    "plt.scatter(num_cols, test_means, label='test')\n",
    "plt.scatter(num_cols, train_means, label='train')\n",
    "plt.xlabel(\"Num sampled columns\")\n",
    "plt.ylabel(\"Mean of \" + my_metric.__name__)\n",
    "plt.legend()\n",
    "plt.show()"
   ],
   "id": "d54a5bbe6a9af0eb",
   "outputs": [
    {
     "data": {
      "text/plain": [
       "<Figure size 640x480 with 1 Axes>"
      ],
      "image/png": "[encoded data removed]"
     },
     "metadata": {},
     "output_type": "display_data"
    }
   ],
   "execution_count": 42
  },
  {
   "metadata": {},
   "cell_type": "markdown",
   "source": "# Double descent is actually two U curves in linear regression",
   "id": "c814ce67f43f1b60"
  },
  {
   "metadata": {},
   "cell_type": "markdown",
   "source": [
    "A recent paper pointed out that different fitting methods are used on different sides of the interpolation threshold in linear regression.  When the number of rows N > number of paramters p, the best estimator involves inverting the N x p matrix.  But a matrix with more columns than rows cannot be inverted, so other parameter estimation methods are required.  The paper argues that it is this change in estimation methods that produces the two humps.  Each estimation method on its own has a U-shaped bias-variance curve, and the so-called double descent shape is just blending these two U's.\n",
    "\n",
    "The paper:\n",
    "Curth, A., Jeffares, A., & Schaar, M. van der. (2023, November 2). A U-turn on Double Descent: Rethinking Parameter Counting in Statistical Learning. Thirty-seventh Conference on Neural Information Processing Systems. https://openreview.net/forum?id=O0Lz8XZT2b\n"
   ],
   "id": "ac769a2e5ce49eed"
  },
  {
   "metadata": {},
   "cell_type": "markdown",
   "source": "# Double descent in linear regression is real",
   "id": "8ac681b0415b91d8"
  },
  {
   "metadata": {},
   "cell_type": "markdown",
   "source": [
    "The claim by Curth et al is correct in that many software packages switch their fitting / estimation method depending on whether the number of rows is greater or less than the number of columns.  Note that the original Dar et al paper was mathematical and so would not be subject to this criticism,  However, the sklearn implementation of LinearRegression may have different estimation methods....\n",
    "\n",
    "So let me demonstrate double descent in a linear regression but using an estimation method that is the same on both sides of the interpolation threshold-- stochastic gradient descent (SGD).  Stochastic gradient descent is also useful to try because it is the same method used to estimate the weights in neural nets.\n",
    "\n",
    "Notes:\n",
    "* The SGDRegressor assumes input has been scaled from 0 to 1, so I wrap it inside a pipeline to handle scaling.\n",
    "* By default the SGDRegressor includes regularization by default (via a penalty), so to make it comparable to the pure LinearRegression example above, I have to set the penalty to None."
   ],
   "id": "4c0c8109feb291ca"
  },
  {
   "metadata": {
    "ExecuteTime": {
     "end_time": "2024-08-12T02:37:25.928186Z",
     "start_time": "2024-08-12T02:37:25.916668Z"
    }
   },
   "cell_type": "code",
   "source": [
    "from sklearn.linear_model import SGDRegressor\n",
    "from sklearn.pipeline import make_pipeline\n",
    "from sklearn.preprocessing import StandardScaler\n",
    "model = make_pipeline(StandardScaler(), SGDRegressor(random_state=0, penalty=None))"
   ],
   "id": "305f5ef59bd739e0",
   "outputs": [],
   "execution_count": 43
  },
  {
   "metadata": {},
   "cell_type": "markdown",
   "source": "Training on 15 rows, we expect a bias-variance U curve.",
   "id": "4e14c1e4faf14436"
  },
  {
   "metadata": {
    "ExecuteTime": {
     "end_time": "2024-08-12T02:37:25.940435Z",
     "start_time": "2024-08-12T02:37:25.933380Z"
    }
   },
   "cell_type": "code",
   "source": [
    "num_train_rows = 15\n",
    "def sample_by_num_cols(num_sampled_columns_local):\n",
    "    return sample_eval.sample_and_calc_metric_by_rows_and_cols(X, y, num_train_rows=num_train_rows, num_columns=num_sampled_columns_local, model=model, metric_func=my_metric, replace=False, random_state=random_state)['test']"
   ],
   "id": "23bfb1cecdc2a4f8",
   "outputs": [],
   "execution_count": 44
  },
  {
   "metadata": {
    "ExecuteTime": {
     "end_time": "2024-08-12T02:37:30.294587Z",
     "start_time": "2024-08-12T02:37:25.944222Z"
    }
   },
   "cell_type": "code",
   "source": [
    "num_samples = 300\n",
    "metric_all_samples = []\n",
    "# This example won't converge because we have such a small data sst\n",
    "# so we catch the warning and ignore it here.\n",
    "with warnings.catch_warnings():\n",
    "    warnings.filterwarnings(\"ignore\", category=ConvergenceWarning, module=\"sklearn\")\n",
    "    for num_sampled_columns in range(1, X.shape[1]-1):\n",
    "        metric_all_samples.append((num_sampled_columns, [sample_by_num_cols(num_sampled_columns) for _ in range(num_samples)]))\n",
    "metric_means = [(col_val_tuple[0], np.mean(col_val_tuple[1])) for col_val_tuple in metric_all_samples]\n",
    "res = list(zip(*metric_means))\n",
    "num_cols = res[0]\n",
    "means = res[1]\n",
    "plt.scatter(num_cols, means)\n",
    "plt.xlabel(\"Num sampled columns\")\n",
    "plt.ylabel(\"Mean of \" + my_metric.__name__)\n",
    "plt.show()"
   ],
   "id": "720e02a499aa74ab",
   "outputs": [
    {
     "data": {
      "text/plain": [
       "<Figure size 640x480 with 1 Axes>"
      ],
      "image/png": "[encoded data removed]"
     },
     "metadata": {},
     "output_type": "display_data"
    }
   ],
   "execution_count": 45
  },
  {
   "metadata": {},
   "cell_type": "markdown",
   "source": "Nice!  This is the \"left\" half of a U curve.  It minimizes test (out-of-sample) error with 7 columns.",
   "id": "60f939d94db1e78b"
  },
  {
   "metadata": {},
   "cell_type": "markdown",
   "source": "Training on 7 rows, we hope to see double descent.",
   "id": "1664e5dbb836cf6f"
  },
  {
   "metadata": {
    "ExecuteTime": {
     "end_time": "2024-08-12T02:37:30.297442Z",
     "start_time": "2024-08-12T02:37:30.295473Z"
    }
   },
   "cell_type": "code",
   "source": [
    "# Lower rows to see if we get double descent.\n",
    "# The interpolation threshold is at 7 columns.\n",
    "num_train_rows = 7\n",
    "def sample_by_num_cols(num_sampled_columns_local):\n",
    "    return sample_eval.sample_and_calc_metric_by_rows_and_cols(X, y, num_train_rows=num_train_rows, num_columns=num_sampled_columns_local, model=model, metric_func=my_metric, replace=False, random_state=random_state)['test']"
   ],
   "id": "b4c7e84e0717b5d2",
   "outputs": [],
   "execution_count": 46
  },
  {
   "metadata": {
    "ExecuteTime": {
     "end_time": "2024-08-12T02:37:34.110458Z",
     "start_time": "2024-08-12T02:37:30.298131Z"
    }
   },
   "cell_type": "code",
   "source": [
    "num_samples = 300\n",
    "metric_all_samples = []\n",
    "# This example won't converge because we have such a small data sst\n",
    "# so we catch the warning and ignore it here.\n",
    "with warnings.catch_warnings():\n",
    "    warnings.filterwarnings(\"ignore\", category=ConvergenceWarning, module=\"sklearn\")\n",
    "    for num_sampled_columns in range(1, X.shape[1]-1):\n",
    "        metric_all_samples.append((num_sampled_columns, [sample_by_num_cols(num_sampled_columns) for _ in range(num_samples)]))\n",
    "metric_means = [(col_val_tuple[0], np.mean(col_val_tuple[1])) for col_val_tuple in metric_all_samples]\n",
    "res = list(zip(*metric_means))\n",
    "num_cols = res[0]\n",
    "means = res[1]\n",
    "plt.scatter(num_cols, means)\n",
    "plt.xlabel(\"Num sampled columns\")\n",
    "plt.ylabel(\"Mean of \" + my_metric.__name__)\n",
    "plt.show()"
   ],
   "id": "b6023bd7410a189b",
   "outputs": [
    {
     "data": {
      "text/plain": [
       "<Figure size 640x480 with 1 Axes>"
      ],
      "image/png": "[encoded data removed]"
     },
     "metadata": {},
     "output_type": "display_data"
    }
   ],
   "execution_count": 47
  },
  {
   "metadata": {},
   "cell_type": "markdown",
   "source": "The bump up at 7 columns fits the prediction.",
   "id": "c6970a0c9bedc8ad"
  },
  {
   "metadata": {},
   "cell_type": "markdown",
   "source": "## Conclusion",
   "id": "7640fc85299068e0"
  },
  {
   "metadata": {},
   "cell_type": "markdown",
   "source": "Based on the shapes above, using a consistent estimation method, I argue that **double descent is real** and not merely the overlap of two U curves from two different estimation methods.",
   "id": "4a22aa4f0bf75508"
  },
  {
   "metadata": {},
   "cell_type": "markdown",
   "source": [
    "# Appendix 1: Custom regression\n",
    "\n",
    "Just in case the SGDRegressor has some funny stuff, I coded my own."
   ],
   "id": "46747ea950a0c6ba"
  },
  {
   "metadata": {
    "ExecuteTime": {
     "end_time": "2024-08-12T02:53:00.685029Z",
     "start_time": "2024-08-12T02:53:00.675629Z"
    }
   },
   "cell_type": "code",
   "source": [
    "class CustomSGDRegression():\n",
    "\n",
    "    def __init__(self, learning_rate, n_iter, batch_size, divide_by = 1, rng = None):\n",
    "        self.learning_rate = learning_rate\n",
    "        self.n_iter = n_iter\n",
    "        self.batch_size = batch_size\n",
    "        self.divide_by = divide_by\n",
    "        if rng is None:\n",
    "            self.rng = np.random.default_rng()\n",
    "        else:\n",
    "            self.rng = rng\n",
    "        self.weights = None\n",
    "        self.bias = None\n",
    "\n",
    "    def fit(self, X_train, y_train, verbose=False):\n",
    "        # X_train and y_train must be numpy arrays.\n",
    "        if isinstance(X_train, pd.DataFrame): \n",
    "            X_train = X_train.to_numpy()\n",
    "        if isinstance(y_train, pd.DataFrame):\n",
    "            y_train = y_train.to_numpy()\n",
    "        # Initially we will keep our W and B as 0 as per the Training Data\n",
    "        # w=np.zeros(shape=(1,train_data.shape[1]-1))\n",
    "        num_weights = X_train.shape[1]\n",
    "        w = np.zeros(shape=(1, num_weights))\n",
    "        b=0\n",
    "        \n",
    "        cur_iter=1\n",
    "        while(cur_iter <= self.n_iter): \n",
    "    \n",
    "            # We will create a small training data set of size K (batch size)\n",
    "            row_indices = self.rng.choice(X_train.shape[0], size=self.batch_size, replace=True)\n",
    "            x = X_train[row_indices]\n",
    "            y = y_train[row_indices]\n",
    "            \n",
    "            # We keep our initial gradients as 0\n",
    "            w_gradient=np.zeros(shape=(1, num_weights))\n",
    "            b_gradient=0\n",
    "            \n",
    "            if verbose:\n",
    "                print(f'cur_iter: {cur_iter}, weights: {w}, bias: {b}')\n",
    "            for i in range(self.batch_size): # Calculating gradients for point in our K sized dataset\n",
    "                prediction = np.dot(w,x[i])+b\n",
    "                w_gradient = w_gradient+(-2)*x[i]*(y[i]-(prediction))\n",
    "                b_gradient = b_gradient+(-2)*(y[i]-(prediction))\n",
    "            \n",
    "            #Updating the weights(W) and Bias(b) with the above calculated Gradients\n",
    "            w=w-self.learning_rate*(w_gradient/self.batch_size)\n",
    "            b=b-self.learning_rate*(b_gradient/self.batch_size)\n",
    "            \n",
    "            # Incrementing the iteration value\n",
    "            cur_iter=cur_iter+1\n",
    "            \n",
    "            #Dividing the learning rate by the specified value\n",
    "            self.learning_rate=self.learning_rate/self.divide_by\n",
    "            \n",
    "        self.weights = w\n",
    "        self.bias = b\n",
    "        return w, b\n",
    "    \n",
    "    def predict(self, X):\n",
    "        if self.weights is None or self.bias is None:\n",
    "            raise ValueError('You must fit before predict')\n",
    "        if isinstance(X, pd.DataFrame): \n",
    "            X = X.to_numpy()\n",
    "        y_pred=[]\n",
    "        for i in range(len(X)):\n",
    "            y=np.dot(X[i], np.squeeze(self.weights)) + np.squeeze(self.bias)\n",
    "            y_pred.append(y)\n",
    "        return np.array(y_pred)"
   ],
   "id": "67543ce5ab01965a",
   "outputs": [],
   "execution_count": 71
  },
  {
   "metadata": {},
   "cell_type": "markdown",
   "source": "Note that I did tune the parameters in the constructor below to get reasonable-looking error.  sklearn uses best-in class defaults.  Also, my model is slow-- sklearn has many speed-ups, including early stopping.  Use sklearn.",
   "id": "68b747826456637b"
  },
  {
   "metadata": {
    "ExecuteTime": {
     "end_time": "2024-08-12T02:56:34.904591Z",
     "start_time": "2024-08-12T02:56:34.900050Z"
    }
   },
   "cell_type": "code",
   "source": [
    "rng = np.random.RandomState(42)\n",
    "model = make_pipeline(StandardScaler(), CustomSGDRegression(learning_rate=0.001, n_iter=200, batch_size=9, rng=rng))"
   ],
   "id": "18e6ee915ed4d22b",
   "outputs": [],
   "execution_count": 82
  },
  {
   "metadata": {},
   "cell_type": "markdown",
   "source": "Training on 15 rows, we expect a bias-variance U curve.",
   "id": "e0443a4d219e968a"
  },
  {
   "metadata": {
    "ExecuteTime": {
     "end_time": "2024-08-12T02:56:35.961063Z",
     "start_time": "2024-08-12T02:56:35.958199Z"
    }
   },
   "cell_type": "code",
   "source": "y = pd.DataFrame(y)",
   "id": "73504aeff0549861",
   "outputs": [],
   "execution_count": 83
  },
  {
   "metadata": {
    "ExecuteTime": {
     "end_time": "2024-08-12T02:56:36.496753Z",
     "start_time": "2024-08-12T02:56:36.494352Z"
    }
   },
   "cell_type": "code",
   "source": [
    "num_train_rows = 15\n",
    "def sample_by_num_cols(num_sampled_columns_local):\n",
    "    return sample_eval.sample_and_calc_metric_by_rows_and_cols(X, y, num_train_rows=num_train_rows, num_columns=num_sampled_columns_local, model=model, metric_func=my_metric, replace=False, random_state=random_state)['test']"
   ],
   "id": "e93f47e6cf016cd8",
   "outputs": [],
   "execution_count": 84
  },
  {
   "metadata": {
    "ExecuteTime": {
     "end_time": "2024-08-12T02:57:02.700194Z",
     "start_time": "2024-08-12T02:56:37.290554Z"
    }
   },
   "cell_type": "code",
   "source": [
    "num_samples = 300\n",
    "metric_all_samples = []\n",
    "for num_sampled_columns in range(1, X.shape[1]-1):\n",
    "        metric_all_samples.append((num_sampled_columns, [sample_by_num_cols(num_sampled_columns) for _ in range(num_samples)]))\n",
    "metric_means = [(col_val_tuple[0], np.mean(col_val_tuple[1])) for col_val_tuple in metric_all_samples]\n",
    "res = list(zip(*metric_means))\n",
    "num_cols = res[0]\n",
    "means = res[1]\n",
    "plt.scatter(num_cols, means)\n",
    "plt.xlabel(\"Num sampled columns\")\n",
    "plt.ylabel(\"Mean of \" + my_metric.__name__)\n",
    "plt.show()"
   ],
   "id": "1349ea5459d3a2ff",
   "outputs": [
    {
     "data": {
      "text/plain": [
       "<Figure size 640x480 with 1 Axes>"
      ],
      "image/png": "[encoded data removed]"
     },
     "metadata": {},
     "output_type": "display_data"
    }
   ],
   "execution_count": 85
  },
  {
   "metadata": {},
   "cell_type": "markdown",
   "source": "Training on 7 rows, we hope to see double descent.  We need to lower the batch size because 9 is more than the number of rows!  I also increased the number of iterations because this data might be harder to fit.",
   "id": "931bd6cc7db690c4"
  },
  {
   "metadata": {
    "ExecuteTime": {
     "end_time": "2024-08-12T02:57:20.160568Z",
     "start_time": "2024-08-12T02:57:20.155433Z"
    }
   },
   "cell_type": "code",
   "source": "model = make_pipeline(StandardScaler(), CustomSGDRegression(learning_rate=0.001, n_iter=500, batch_size=6, rng=rng))",
   "id": "22d1b84c3d047f2d",
   "outputs": [],
   "execution_count": 86
  },
  {
   "metadata": {
    "ExecuteTime": {
     "end_time": "2024-08-12T02:57:21.316257Z",
     "start_time": "2024-08-12T02:57:21.313145Z"
    }
   },
   "cell_type": "code",
   "source": [
    "num_train_rows = 7\n",
    "def sample_by_num_cols(num_sampled_columns_local):\n",
    "    return sample_eval.sample_and_calc_metric_by_rows_and_cols(X, y, num_train_rows=num_train_rows, num_columns=num_sampled_columns_local, model=model, metric_func=my_metric, replace=False, random_state=random_state)['test']"
   ],
   "id": "5c458586312c3917",
   "outputs": [],
   "execution_count": 87
  },
  {
   "metadata": {
    "ExecuteTime": {
     "end_time": "2024-08-12T02:58:03.163595Z",
     "start_time": "2024-08-12T02:57:23.767273Z"
    }
   },
   "cell_type": "code",
   "source": [
    "num_samples = 300\n",
    "metric_all_samples = []\n",
    "for num_sampled_columns in range(1, X.shape[1]-1):\n",
    "        metric_all_samples.append((num_sampled_columns, [sample_by_num_cols(num_sampled_columns) for _ in range(num_samples)]))\n",
    "metric_means = [(col_val_tuple[0], np.mean(col_val_tuple[1])) for col_val_tuple in metric_all_samples]\n",
    "res = list(zip(*metric_means))\n",
    "num_cols = res[0]\n",
    "means = res[1]\n",
    "plt.scatter(num_cols, means)\n",
    "plt.xlabel(\"Num sampled columns\")\n",
    "plt.ylabel(\"Mean of \" + my_metric.__name__)\n",
    "plt.show()"
   ],
   "id": "627a3883f183e3a2",
   "outputs": [
    {
     "data": {
      "text/plain": [
       "<Figure size 640x480 with 1 Axes>"
      ],
      "image/png": "[encoded data removed]"
     },
     "metadata": {},
     "output_type": "display_data"
    }
   ],
   "execution_count": 88
  },
  {
   "metadata": {},
   "cell_type": "markdown",
   "source": "# Appendix: Fun with an MLPRegressor",
   "id": "47cfebecdb620012"
  },
  {
   "metadata": {},
   "cell_type": "markdown",
   "source": [
    "Now consider a simple one-layer, feed-forward neural net (MLP = multi-layer perceptron) that is fit with stochastic gradient descent.\n",
    "\n",
    "Warning: the activation function makes it non-linear."
   ],
   "id": "a3c35efaeb54298e"
  },
  {
   "metadata": {},
   "cell_type": "code",
   "source": [
    "from sklearn.neural_network import MLPRegressor\n",
    "\n",
    "from sklearn.pipeline import make_pipeline\n",
    "from sklearn.preprocessing import StandardScaler\n",
    "\n",
    "# TODO: scale hidden layer neurons to number of columns.\n",
    "model = make_pipeline(\n",
    "    StandardScaler(), \n",
    "    MLPRegressor(hidden_layer_sizes=(4,), validation_fraction=0, solver=\"sgd\", random_state=0))"
   ],
   "id": "ab95da73f62a31b7",
   "outputs": [],
   "execution_count": null
  },
  {
   "metadata": {},
   "cell_type": "code",
   "source": [
    "# First just look for the bias-variance U curve\n",
    "num_train_rows = 15"
   ],
   "id": "d79e72330759d6d8",
   "outputs": [],
   "execution_count": null
  },
  {
   "metadata": {},
   "cell_type": "code",
   "source": [
    "def sample_by_num_cols(num_sampled_columns_local):\n",
    "    return sample_eval.sample_and_calc_metric_by_rows_and_cols(X, y, num_train_rows=num_train_rows, num_columns=num_sampled_columns_local, model=model, metric_func=my_metric, replace=False, random_state=random_state)['test']"
   ],
   "id": "6d18fd3208d6825",
   "outputs": [],
   "execution_count": null
  },
  {
   "metadata": {},
   "cell_type": "code",
   "source": [
    "num_samples = 400\n",
    "metric_all_samples = []\n",
    "# This example won't converge because we have such a small data sst\n",
    "# so we catch the warning and ignore it here.\n",
    "with warnings.catch_warnings():\n",
    "    warnings.filterwarnings(\"ignore\", category=ConvergenceWarning, module=\"sklearn\")\n",
    "    for num_sampled_columns in range(1, X.shape[1]-1):\n",
    "        metric_all_samples.append((num_sampled_columns, [sample_by_num_cols(num_sampled_columns) for _ in range(num_samples)]))\n",
    "metric_means = [(col_val_tuple[0], np.mean(col_val_tuple[1])) for col_val_tuple in metric_all_samples]\n",
    "res = list(zip(*metric_means))\n",
    "num_cols = res[0]\n",
    "means = res[1]\n",
    "plt.scatter(num_cols, means)\n",
    "plt.xlabel(\"Num sampled columns\")\n",
    "plt.ylabel(\"Mean of \" + my_metric.__name__)\n",
    "plt.show()"
   ],
   "id": "4c52d1d7618f4c64",
   "outputs": [],
   "execution_count": null
  },
  {
   "metadata": {},
   "cell_type": "markdown",
   "source": "This looks pretty U-shaped.",
   "id": "491dd4ec952e5d4"
  },
  {
   "metadata": {},
   "cell_type": "code",
   "source": [
    "# Lower the number of rows to look for double descent.\n",
    "num_train_rows = 5"
   ],
   "id": "9e60c80629ca8b77",
   "outputs": [],
   "execution_count": null
  },
  {
   "metadata": {},
   "cell_type": "code",
   "source": [
    "num_samples = 500\n",
    "metric_all_samples = []\n",
    "# This example won't converge because we have such a small data sst\n",
    "# so we catch the warning and ignore it here.\n",
    "with warnings.catch_warnings():\n",
    "    warnings.filterwarnings(\"ignore\", category=ConvergenceWarning, module=\"sklearn\")\n",
    "    for num_sampled_columns in range(1, X.shape[1]-1):\n",
    "        metric_all_samples.append((num_sampled_columns, [sample_by_num_cols(num_sampled_columns) for _ in range(num_samples)]))\n",
    "metric_means = [(col_val_tuple[0], np.mean(col_val_tuple[1])) for col_val_tuple in metric_all_samples]\n",
    "res = list(zip(*metric_means))\n",
    "num_cols = res[0]\n",
    "means = res[1]\n",
    "plt.scatter(num_cols, means)\n",
    "plt.xlabel(\"Num sampled columns\")\n",
    "plt.ylabel(\"Mean of \" + my_metric.__name__)\n",
    "plt.show()"
   ],
   "id": "5be719fb3fb28693",
   "outputs": [],
   "execution_count": null
  },
  {
   "metadata": {},
   "cell_type": "markdown",
   "source": "I'm not sure what pattern I'm seeing.  But to do this in an apples-to-apples way with the prior regression studies, the number of hidden layer neurons should correspond to the number of sampled columns (because a weight is estimated for each neuron, and we want the number of parameters to scale, not just number of inputs).  Or maybe something else?  I'm still working on this one.",
   "id": "7ccd4e86eac9c2d3"
  }
 ],
 "metadata": {
  "kernelspec": {
   "display_name": "Python 3",
   "language": "python",
   "name": "python3"
  },
  "language_info": {
   "codemirror_mode": {
    "name": "ipython",
    "version": 2
   },
   "file_extension": ".py",
   "mimetype": "text/x-python",
   "name": "python",
   "nbconvert_exporter": "python",
   "pygments_lexer": "ipython2",
   "version": "2.7.6"
  }
 },
 "nbformat": 4,
 "nbformat_minor": 5
}
