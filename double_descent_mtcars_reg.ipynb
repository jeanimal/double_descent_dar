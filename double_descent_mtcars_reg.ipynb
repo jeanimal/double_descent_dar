{
 "cells": [
  {
   "cell_type": "markdown",
   "id": "9a3884187b7f4019",
   "metadata": {},
   "source": [
    "# Observing \"impossible\" double descent in simple linear regression"
   ]
  },
  {
   "cell_type": "markdown",
   "id": "cd03d0be01071c04",
   "metadata": {},
   "source": [
    "Double descent is the empirical observation that prediction test error can \"descend\" as more and more columns / features are added to the data.  Traditional bias-variance theory indicated it should be impossible because there was a U-curved \"sweet spot\" of optimal test error with only a few columns (features) because sampling variance increased with ss more columns are added.  Before this sweet spot, the model **underfits** the data; training error and test error are both high.  Beyond this sweet spot, the model **overfits** the data, meaning it is fitting noise rather than signal; as a result training error is low but test error is high.\n",
    "\n",
    "At first, double descent was assumed to be due to some special features of deep learning or neural nets.  But in the 2020's, doube descent was observed in linear regression, too.  It was a shock.  Various researchers have started developing the theory on how, when, and where linear regression can exhibit double descent, including the Dar et al. (2023) paper cited below, which greatly inspired me.\n",
    "\n",
    "But the math is complicated.  Code is simpler.  So this notebook illustrates the bias-variance trade-off and double descent in a linear regression model using simple python libraries.  These also help us test our intuitions by running different variations.  I also address an objection by Curth et al. (2023)."
   ]
  },
  {
   "cell_type": "markdown",
   "id": "fae063846b830307",
   "metadata": {},
   "source": [
    "# Libraries"
   ]
  },
  {
   "cell_type": "code",
   "execution_count": 1,
   "id": "initial_id",
   "metadata": {
    "ExecuteTime": {
     "end_time": "2024-08-19T15:27:30.126858Z",
     "start_time": "2024-08-19T15:27:29.101556Z"
    },
    "collapsed": true,
    "jupyter": {
     "outputs_hidden": true
    }
   },
   "outputs": [],
   "source": [
    "import numpy as np\n",
    "import pandas as pd\n",
    "import warnings\n",
    "\n",
    "import matplotlib.pyplot as plt\n",
    "from sklearn.exceptions import ConvergenceWarning\n",
    "from sklearn.metrics import mean_absolute_error, root_mean_squared_error\n",
    "# from sklearn.ensemble import RandomForestRegressor\n",
    "from sklearn import linear_model"
   ]
  },
  {
   "cell_type": "markdown",
   "id": "eed787219daef47c",
   "metadata": {},
   "source": [
    "# Data set"
   ]
  },
  {
   "cell_type": "markdown",
   "id": "f801e81d8967712f",
   "metadata": {},
   "source": [
    "Here I load a data set to analyze.  In an earlier [R version of this notebook](https://github.com/jeanimal/farewell_bias_variance), I used the \"mtcars\" data set which has data on various models in Motor Trend cars of the year.\n",
    "\n",
    "The goal is to predict the miles per gallon (mpg) of various models based on their other characteristics."
   ]
  },
  {
   "cell_type": "code",
   "execution_count": 2,
   "id": "2f6b82fc51e0d3b7",
   "metadata": {
    "ExecuteTime": {
     "end_time": "2024-08-19T15:27:30.129769Z",
     "start_time": "2024-08-19T15:27:30.127768Z"
    }
   },
   "outputs": [
    {
     "name": "stdout",
     "output_type": "stream",
     "text": [
      "/Users/jeanortega/PycharmProjects/pythonProject1/double_descent_mtcars_reg.ipynb\n",
      "/Users/jeanortega/PycharmProjects/pythonProject1/data/mt_cars.csv\n"
     ]
    }
   ],
   "source": [
    "import os\n",
    "notebook_path = os.path.abspath(\"double_descent_mtcars_reg.ipynb\")\n",
    "print(notebook_path)\n",
    "csv_path = os.path.join(os.path.dirname(notebook_path), \"data/mt_cars.csv\")\n",
    "print(csv_path)"
   ]
  },
  {
   "cell_type": "code",
   "execution_count": 3,
   "id": "17f671c041e3a9f3",
   "metadata": {
    "ExecuteTime": {
     "end_time": "2024-08-19T15:27:30.133625Z",
     "start_time": "2024-08-19T15:27:30.130238Z"
    }
   },
   "outputs": [],
   "source": [
    "df = pd.read_csv(csv_path)"
   ]
  },
  {
   "cell_type": "code",
   "execution_count": 4,
   "id": "6c74bee6a1a3c3c3",
   "metadata": {
    "ExecuteTime": {
     "end_time": "2024-08-19T15:27:30.140415Z",
     "start_time": "2024-08-19T15:27:30.134544Z"
    }
   },
   "outputs": [
    {
     "data": {
      "text/html": [
       "<div>\n",
       "<style scoped>\n",
       "    .dataframe tbody tr th:only-of-type {\n",
       "        vertical-align: middle;\n",
       "    }\n",
       "\n",
       "    .dataframe tbody tr th {\n",
       "        vertical-align: top;\n",
       "    }\n",
       "\n",
       "    .dataframe thead th {\n",
       "        text-align: right;\n",
       "    }\n",
       "</style>\n",
       "<table border=\"1\" class=\"dataframe\">\n",
       "  <thead>\n",
       "    <tr style=\"text-align: right;\">\n",
       "      <th></th>\n",
       "      <th>model</th>\n",
       "      <th>mpg</th>\n",
       "      <th>cyl</th>\n",
       "      <th>disp</th>\n",
       "      <th>hp</th>\n",
       "      <th>drat</th>\n",
       "      <th>wt</th>\n",
       "      <th>qsec</th>\n",
       "      <th>vs</th>\n",
       "      <th>am</th>\n",
       "      <th>gear</th>\n",
       "      <th>carb</th>\n",
       "    </tr>\n",
       "  </thead>\n",
       "  <tbody>\n",
       "    <tr>\n",
       "      <th>0</th>\n",
       "      <td>Mazda RX4</td>\n",
       "      <td>21.0</td>\n",
       "      <td>6</td>\n",
       "      <td>160.0</td>\n",
       "      <td>110</td>\n",
       "      <td>3.90</td>\n",
       "      <td>2.620</td>\n",
       "      <td>16.46</td>\n",
       "      <td>0</td>\n",
       "      <td>1</td>\n",
       "      <td>4</td>\n",
       "      <td>4</td>\n",
       "    </tr>\n",
       "    <tr>\n",
       "      <th>1</th>\n",
       "      <td>Mazda RX4 Wag</td>\n",
       "      <td>21.0</td>\n",
       "      <td>6</td>\n",
       "      <td>160.0</td>\n",
       "      <td>110</td>\n",
       "      <td>3.90</td>\n",
       "      <td>2.875</td>\n",
       "      <td>17.02</td>\n",
       "      <td>0</td>\n",
       "      <td>1</td>\n",
       "      <td>4</td>\n",
       "      <td>4</td>\n",
       "    </tr>\n",
       "    <tr>\n",
       "      <th>2</th>\n",
       "      <td>Datsun 710</td>\n",
       "      <td>22.8</td>\n",
       "      <td>4</td>\n",
       "      <td>108.0</td>\n",
       "      <td>93</td>\n",
       "      <td>3.85</td>\n",
       "      <td>2.320</td>\n",
       "      <td>18.61</td>\n",
       "      <td>1</td>\n",
       "      <td>1</td>\n",
       "      <td>4</td>\n",
       "      <td>1</td>\n",
       "    </tr>\n",
       "    <tr>\n",
       "      <th>3</th>\n",
       "      <td>Hornet 4 Drive</td>\n",
       "      <td>21.4</td>\n",
       "      <td>6</td>\n",
       "      <td>258.0</td>\n",
       "      <td>110</td>\n",
       "      <td>3.08</td>\n",
       "      <td>3.215</td>\n",
       "      <td>19.44</td>\n",
       "      <td>1</td>\n",
       "      <td>0</td>\n",
       "      <td>3</td>\n",
       "      <td>1</td>\n",
       "    </tr>\n",
       "    <tr>\n",
       "      <th>4</th>\n",
       "      <td>Hornet Sportabout</td>\n",
       "      <td>18.7</td>\n",
       "      <td>8</td>\n",
       "      <td>360.0</td>\n",
       "      <td>175</td>\n",
       "      <td>3.15</td>\n",
       "      <td>3.440</td>\n",
       "      <td>17.02</td>\n",
       "      <td>0</td>\n",
       "      <td>0</td>\n",
       "      <td>3</td>\n",
       "      <td>2</td>\n",
       "    </tr>\n",
       "  </tbody>\n",
       "</table>\n",
       "</div>"
      ],
      "text/plain": [
       "               model   mpg  cyl   disp   hp  drat     wt   qsec  vs  am  gear  \\\n",
       "0          Mazda RX4  21.0    6  160.0  110  3.90  2.620  16.46   0   1     4   \n",
       "1      Mazda RX4 Wag  21.0    6  160.0  110  3.90  2.875  17.02   0   1     4   \n",
       "2         Datsun 710  22.8    4  108.0   93  3.85  2.320  18.61   1   1     4   \n",
       "3     Hornet 4 Drive  21.4    6  258.0  110  3.08  3.215  19.44   1   0     3   \n",
       "4  Hornet Sportabout  18.7    8  360.0  175  3.15  3.440  17.02   0   0     3   \n",
       "\n",
       "   carb  \n",
       "0     4  \n",
       "1     4  \n",
       "2     1  \n",
       "3     1  \n",
       "4     2  "
      ]
     },
     "execution_count": 4,
     "metadata": {},
     "output_type": "execute_result"
    }
   ],
   "source": [
    "df.head()"
   ]
  },
  {
   "cell_type": "markdown",
   "id": "8e4443878d3f6bf2",
   "metadata": {},
   "source": [
    "# Split X and y"
   ]
  },
  {
   "cell_type": "markdown",
   "id": "e7d0726fac745221",
   "metadata": {},
   "source": [
    "Here we put the data in a standard format for sklearn's model estimtion and error metrics.  If you use your own data set, you will need to tweak the target column and remove the non-numeric columns-- or code them into numbers, e.g. with one-hot encoding."
   ]
  },
  {
   "cell_type": "code",
   "execution_count": 5,
   "id": "ca86d4b670951c61",
   "metadata": {
    "ExecuteTime": {
     "end_time": "2024-08-19T15:27:30.142117Z",
     "start_time": "2024-08-19T15:27:30.140832Z"
    }
   },
   "outputs": [],
   "source": [
    "TARGET_COL = \"mpg\""
   ]
  },
  {
   "cell_type": "code",
   "execution_count": 6,
   "id": "f9089e353c5ac8e1",
   "metadata": {
    "ExecuteTime": {
     "end_time": "2024-08-19T15:27:30.143686Z",
     "start_time": "2024-08-19T15:27:30.142524Z"
    }
   },
   "outputs": [],
   "source": [
    "NON_NUMERIC_COLS = [\"model\"]"
   ]
  },
  {
   "cell_type": "code",
   "execution_count": 7,
   "id": "e00f0ccf1b3a4c09",
   "metadata": {
    "ExecuteTime": {
     "end_time": "2024-08-19T15:27:30.145916Z",
     "start_time": "2024-08-19T15:27:30.144131Z"
    }
   },
   "outputs": [],
   "source": [
    "y = df[TARGET_COL]\n",
    "X = df.drop([TARGET_COL] + NON_NUMERIC_COLS,axis=1)"
   ]
  },
  {
   "cell_type": "markdown",
   "id": "4ee9d64483e400ff",
   "metadata": {},
   "source": [
    "# Making the study of overparameterization easier"
   ]
  },
  {
   "cell_type": "markdown",
   "id": "1dd880ff908277bb",
   "metadata": {},
   "source": [
    "In this section, I summarize functions to sample our data by the number of rows and columns.\n",
    "\n",
    "Why?\n",
    "\n",
    "To study bias-variance and double descent, we need to view our model estimation in terms of the overparameterization ratio, defined as:\n",
    "\n",
    "      `overparametrization ratio = num_parameters / num_rows`\n",
    "\n",
    " The overparametrization ratio distinguish these classes of behavior:\n",
    "    * less than 1: uncerparameterized (where we will see bias-variance U curves)\n",
    "    * equal to 1: interpolating\n",
    "    * greater than 1: overparameterized (where we might see the right half of double descent).\n",
    "\n",
    "In many estimation models, the number of parameters is closely related to the number of columns. For example, in ordinary least squares (OLS) regression without an intercept, the number of parameters equals the number of columns, and when there is an intercept, the number of parameters is number of columns + 1.\n",
    "\n",
    "However, sklearn's train_test_split function takes a proportion of taining rows as input and always uses all columns of the data set.  So I wrote wrappers to directly control the number of training rows and columns.\n",
    "\n",
    "The overparameterization ratio is described in this paper:\n",
    "    Hastie, T., Montanari, A., Rosset, S., & Tibshirani, R. J. (2020). Surprises in High-Dimensional\n",
    "    Ridgeless Least Squares Interpolation. http://arxiv.org/abs/1903.08560\n"
   ]
  },
  {
   "cell_type": "markdown",
   "id": "cab9def38a32afaf",
   "metadata": {},
   "source": [
    "Below I do manual sampling of rows and columns to give an idea of the goal."
   ]
  },
  {
   "cell_type": "code",
   "execution_count": 8,
   "id": "e6ee2422a8f1929",
   "metadata": {
    "ExecuteTime": {
     "end_time": "2024-08-19T15:27:30.147993Z",
     "start_time": "2024-08-19T15:27:30.146514Z"
    }
   },
   "outputs": [],
   "source": [
    "rng = np.random.RandomState(10) # For reproducibility\n",
    "num_sampled_rows = 4\n",
    "num_sampled_columns = 5"
   ]
  },
  {
   "cell_type": "code",
   "execution_count": 9,
   "id": "44d182cc658e7576",
   "metadata": {
    "ExecuteTime": {
     "end_time": "2024-08-19T15:27:30.149734Z",
     "start_time": "2024-08-19T15:27:30.148435Z"
    }
   },
   "outputs": [],
   "source": [
    "row_indices = rng.choice(df.index, num_sampled_rows, replace=False)"
   ]
  },
  {
   "cell_type": "code",
   "execution_count": 10,
   "id": "32a80b5e4f685da2",
   "metadata": {
    "ExecuteTime": {
     "end_time": "2024-08-19T15:27:30.152860Z",
     "start_time": "2024-08-19T15:27:30.151180Z"
    }
   },
   "outputs": [],
   "source": [
    "X_subset = X.iloc[row_indices]\n",
    "y_subset = y.iloc[row_indices]"
   ]
  },
  {
   "cell_type": "code",
   "execution_count": 11,
   "id": "6b43c71651b65f7c",
   "metadata": {
    "ExecuteTime": {
     "end_time": "2024-08-19T15:27:30.154842Z",
     "start_time": "2024-08-19T15:27:30.153346Z"
    }
   },
   "outputs": [],
   "source": [
    "X_subset = X_subset.sample(n=num_sampled_columns, random_state=rng, axis=1)"
   ]
  },
  {
   "cell_type": "code",
   "execution_count": 12,
   "id": "a54d18234f818324",
   "metadata": {
    "ExecuteTime": {
     "end_time": "2024-08-19T15:27:30.158043Z",
     "start_time": "2024-08-19T15:27:30.155231Z"
    }
   },
   "outputs": [
    {
     "data": {
      "text/html": [
       "<div>\n",
       "<style scoped>\n",
       "    .dataframe tbody tr th:only-of-type {\n",
       "        vertical-align: middle;\n",
       "    }\n",
       "\n",
       "    .dataframe tbody tr th {\n",
       "        vertical-align: top;\n",
       "    }\n",
       "\n",
       "    .dataframe thead th {\n",
       "        text-align: right;\n",
       "    }\n",
       "</style>\n",
       "<table border=\"1\" class=\"dataframe\">\n",
       "  <thead>\n",
       "    <tr style=\"text-align: right;\">\n",
       "      <th></th>\n",
       "      <th>hp</th>\n",
       "      <th>cyl</th>\n",
       "      <th>carb</th>\n",
       "      <th>qsec</th>\n",
       "      <th>wt</th>\n",
       "    </tr>\n",
       "  </thead>\n",
       "  <tbody>\n",
       "    <tr>\n",
       "      <th>20</th>\n",
       "      <td>97</td>\n",
       "      <td>4</td>\n",
       "      <td>1</td>\n",
       "      <td>20.01</td>\n",
       "      <td>2.465</td>\n",
       "    </tr>\n",
       "    <tr>\n",
       "      <th>7</th>\n",
       "      <td>62</td>\n",
       "      <td>4</td>\n",
       "      <td>2</td>\n",
       "      <td>20.00</td>\n",
       "      <td>3.190</td>\n",
       "    </tr>\n",
       "    <tr>\n",
       "      <th>5</th>\n",
       "      <td>105</td>\n",
       "      <td>6</td>\n",
       "      <td>1</td>\n",
       "      <td>20.22</td>\n",
       "      <td>3.460</td>\n",
       "    </tr>\n",
       "    <tr>\n",
       "      <th>2</th>\n",
       "      <td>93</td>\n",
       "      <td>4</td>\n",
       "      <td>1</td>\n",
       "      <td>18.61</td>\n",
       "      <td>2.320</td>\n",
       "    </tr>\n",
       "  </tbody>\n",
       "</table>\n",
       "</div>"
      ],
      "text/plain": [
       "     hp  cyl  carb   qsec     wt\n",
       "20   97    4     1  20.01  2.465\n",
       "7    62    4     2  20.00  3.190\n",
       "5   105    6     1  20.22  3.460\n",
       "2    93    4     1  18.61  2.320"
      ]
     },
     "execution_count": 12,
     "metadata": {},
     "output_type": "execute_result"
    }
   ],
   "source": [
    "X_subset"
   ]
  },
  {
   "cell_type": "code",
   "execution_count": 13,
   "id": "dbe431bec849fce0",
   "metadata": {
    "ExecuteTime": {
     "end_time": "2024-08-19T15:27:30.160286Z",
     "start_time": "2024-08-19T15:27:30.158421Z"
    }
   },
   "outputs": [
    {
     "data": {
      "text/plain": [
       "20    21.5\n",
       "7     24.4\n",
       "5     18.1\n",
       "2     22.8\n",
       "Name: mpg, dtype: float64"
      ]
     },
     "execution_count": 13,
     "metadata": {},
     "output_type": "execute_result"
    }
   ],
   "source": [
    "y_subset"
   ]
  },
  {
   "cell_type": "markdown",
   "id": "74ae41d1aa6acc6d",
   "metadata": {},
   "source": [
    "## Using the package just to sample rows and columns"
   ]
  },
  {
   "cell_type": "markdown",
   "id": "5834a459151175e1",
   "metadata": {},
   "source": [
    "I have a python package to help sample a dataframe in a way that makes it easy to control the rows and columns, which helps us control the overparameterization ratio, defined as the number of parameters / number of rows."
   ]
  },
  {
   "cell_type": "code",
   "execution_count": 14,
   "id": "6d962fdbb201615a",
   "metadata": {
    "ExecuteTime": {
     "end_time": "2024-08-19T15:27:30.163449Z",
     "start_time": "2024-08-19T15:27:30.160683Z"
    }
   },
   "outputs": [],
   "source": [
    "from double_descent_dar import sample_eval"
   ]
  },
  {
   "cell_type": "code",
   "execution_count": 15,
   "id": "8f6c7152a2a68f52",
   "metadata": {
    "ExecuteTime": {
     "end_time": "2024-08-19T15:27:30.165263Z",
     "start_time": "2024-08-19T15:27:30.163930Z"
    }
   },
   "outputs": [],
   "source": [
    "random_state = np.random.RandomState(15) # For reproducibility\n",
    "num_sampled_rows = 3\n",
    "num_sampled_columns = 4"
   ]
  },
  {
   "cell_type": "code",
   "execution_count": 16,
   "id": "fddfb904178f467c",
   "metadata": {
    "ExecuteTime": {
     "end_time": "2024-08-19T15:27:30.167792Z",
     "start_time": "2024-08-19T15:27:30.165697Z"
    }
   },
   "outputs": [
    {
     "name": "stdout",
     "output_type": "stream",
     "text": [
      "using train_size 0.09375\n"
     ]
    }
   ],
   "source": [
    "X_train, X_test, y_train, y_test = sample_eval.train_test_split_by_rows_and_cols(X, y, num_train_rows=num_sampled_rows, num_columns=num_sampled_columns, replace=False, random_state=random_state, verbose=True)"
   ]
  },
  {
   "cell_type": "code",
   "execution_count": 17,
   "id": "30d9414e82534d94",
   "metadata": {
    "ExecuteTime": {
     "end_time": "2024-08-19T15:27:30.170749Z",
     "start_time": "2024-08-19T15:27:30.168253Z"
    }
   },
   "outputs": [
    {
     "data": {
      "text/html": [
       "<div>\n",
       "<style scoped>\n",
       "    .dataframe tbody tr th:only-of-type {\n",
       "        vertical-align: middle;\n",
       "    }\n",
       "\n",
       "    .dataframe tbody tr th {\n",
       "        vertical-align: top;\n",
       "    }\n",
       "\n",
       "    .dataframe thead th {\n",
       "        text-align: right;\n",
       "    }\n",
       "</style>\n",
       "<table border=\"1\" class=\"dataframe\">\n",
       "  <thead>\n",
       "    <tr style=\"text-align: right;\">\n",
       "      <th></th>\n",
       "      <th>hp</th>\n",
       "      <th>vs</th>\n",
       "      <th>disp</th>\n",
       "      <th>drat</th>\n",
       "    </tr>\n",
       "  </thead>\n",
       "  <tbody>\n",
       "    <tr>\n",
       "      <th>17</th>\n",
       "      <td>66</td>\n",
       "      <td>1</td>\n",
       "      <td>78.7</td>\n",
       "      <td>4.08</td>\n",
       "    </tr>\n",
       "    <tr>\n",
       "      <th>29</th>\n",
       "      <td>175</td>\n",
       "      <td>0</td>\n",
       "      <td>145.0</td>\n",
       "      <td>3.62</td>\n",
       "    </tr>\n",
       "    <tr>\n",
       "      <th>15</th>\n",
       "      <td>215</td>\n",
       "      <td>0</td>\n",
       "      <td>460.0</td>\n",
       "      <td>3.00</td>\n",
       "    </tr>\n",
       "  </tbody>\n",
       "</table>\n",
       "</div>"
      ],
      "text/plain": [
       "     hp  vs   disp  drat\n",
       "17   66   1   78.7  4.08\n",
       "29  175   0  145.0  3.62\n",
       "15  215   0  460.0  3.00"
      ]
     },
     "execution_count": 17,
     "metadata": {},
     "output_type": "execute_result"
    }
   ],
   "source": [
    "X_train"
   ]
  },
  {
   "cell_type": "code",
   "execution_count": 18,
   "id": "92fd45fdcd4f03aa",
   "metadata": {
    "ExecuteTime": {
     "end_time": "2024-08-19T15:27:30.173278Z",
     "start_time": "2024-08-19T15:27:30.171200Z"
    }
   },
   "outputs": [
    {
     "data": {
      "text/plain": [
       "17    32.4\n",
       "29    19.7\n",
       "15    10.4\n",
       "Name: mpg, dtype: float64"
      ]
     },
     "execution_count": 18,
     "metadata": {},
     "output_type": "execute_result"
    }
   ],
   "source": [
    "y_train"
   ]
  },
  {
   "cell_type": "markdown",
   "id": "f4460d9477b640f1",
   "metadata": {},
   "source": [
    "What we will do is fit a linear regression on this data and then measure out of sample error.\n"
   ]
  },
  {
   "cell_type": "code",
   "execution_count": 19,
   "id": "f62fd18d90e7a6fe",
   "metadata": {
    "ExecuteTime": {
     "end_time": "2024-08-19T15:27:30.175007Z",
     "start_time": "2024-08-19T15:27:30.173705Z"
    }
   },
   "outputs": [],
   "source": [
    "model = linear_model.LinearRegression(fit_intercept=True)"
   ]
  },
  {
   "cell_type": "code",
   "execution_count": 20,
   "id": "e64308095bccd89f",
   "metadata": {
    "ExecuteTime": {
     "end_time": "2024-08-19T15:27:30.184695Z",
     "start_time": "2024-08-19T15:27:30.175410Z"
    }
   },
   "outputs": [
    {
     "data": {
      "text/html": [
       "<style>#sk-container-id-1 {\n",
       "  /* Definition of color scheme common for light and dark mode */\n",
       "  --sklearn-color-text: black;\n",
       "  --sklearn-color-line: gray;\n",
       "  /* Definition of color scheme for unfitted estimators */\n",
       "  --sklearn-color-unfitted-level-0: #fff5e6;\n",
       "  --sklearn-color-unfitted-level-1: #f6e4d2;\n",
       "  --sklearn-color-unfitted-level-2: #ffe0b3;\n",
       "  --sklearn-color-unfitted-level-3: chocolate;\n",
       "  /* Definition of color scheme for fitted estimators */\n",
       "  --sklearn-color-fitted-level-0: #f0f8ff;\n",
       "  --sklearn-color-fitted-level-1: #d4ebff;\n",
       "  --sklearn-color-fitted-level-2: #b3dbfd;\n",
       "  --sklearn-color-fitted-level-3: cornflowerblue;\n",
       "\n",
       "  /* Specific color for light theme */\n",
       "  --sklearn-color-text-on-default-background: var(--sg-text-color, var(--theme-code-foreground, var(--jp-content-font-color1, black)));\n",
       "  --sklearn-color-background: var(--sg-background-color, var(--theme-background, var(--jp-layout-color0, white)));\n",
       "  --sklearn-color-border-box: var(--sg-text-color, var(--theme-code-foreground, var(--jp-content-font-color1, black)));\n",
       "  --sklearn-color-icon: #696969;\n",
       "\n",
       "  @media (prefers-color-scheme: dark) {\n",
       "    /* Redefinition of color scheme for dark theme */\n",
       "    --sklearn-color-text-on-default-background: var(--sg-text-color, var(--theme-code-foreground, var(--jp-content-font-color1, white)));\n",
       "    --sklearn-color-background: var(--sg-background-color, var(--theme-background, var(--jp-layout-color0, #111)));\n",
       "    --sklearn-color-border-box: var(--sg-text-color, var(--theme-code-foreground, var(--jp-content-font-color1, white)));\n",
       "    --sklearn-color-icon: #878787;\n",
       "  }\n",
       "}\n",
       "\n",
       "#sk-container-id-1 {\n",
       "  color: var(--sklearn-color-text);\n",
       "}\n",
       "\n",
       "#sk-container-id-1 pre {\n",
       "  padding: 0;\n",
       "}\n",
       "\n",
       "#sk-container-id-1 input.sk-hidden--visually {\n",
       "  border: 0;\n",
       "  clip: rect(1px 1px 1px 1px);\n",
       "  clip: rect(1px, 1px, 1px, 1px);\n",
       "  height: 1px;\n",
       "  margin: -1px;\n",
       "  overflow: hidden;\n",
       "  padding: 0;\n",
       "  position: absolute;\n",
       "  width: 1px;\n",
       "}\n",
       "\n",
       "#sk-container-id-1 div.sk-dashed-wrapped {\n",
       "  border: 1px dashed var(--sklearn-color-line);\n",
       "  margin: 0 0.4em 0.5em 0.4em;\n",
       "  box-sizing: border-box;\n",
       "  padding-bottom: 0.4em;\n",
       "  background-color: var(--sklearn-color-background);\n",
       "}\n",
       "\n",
       "#sk-container-id-1 div.sk-container {\n",
       "  /* jupyter's `normalize.less` sets `[hidden] { display: none; }`\n",
       "     but bootstrap.min.css set `[hidden] { display: none !important; }`\n",
       "     so we also need the `!important` here to be able to override the\n",
       "     default hidden behavior on the sphinx rendered scikit-learn.org.\n",
       "     See: https://github.com/scikit-learn/scikit-learn/issues/21755 */\n",
       "  display: inline-block !important;\n",
       "  position: relative;\n",
       "}\n",
       "\n",
       "#sk-container-id-1 div.sk-text-repr-fallback {\n",
       "  display: none;\n",
       "}\n",
       "\n",
       "div.sk-parallel-item,\n",
       "div.sk-serial,\n",
       "div.sk-item {\n",
       "  /* draw centered vertical line to link estimators */\n",
       "  background-image: linear-gradient(var(--sklearn-color-text-on-default-background), var(--sklearn-color-text-on-default-background));\n",
       "  background-size: 2px 100%;\n",
       "  background-repeat: no-repeat;\n",
       "  background-position: center center;\n",
       "}\n",
       "\n",
       "/* Parallel-specific style estimator block */\n",
       "\n",
       "#sk-container-id-1 div.sk-parallel-item::after {\n",
       "  content: \"\";\n",
       "  width: 100%;\n",
       "  border-bottom: 2px solid var(--sklearn-color-text-on-default-background);\n",
       "  flex-grow: 1;\n",
       "}\n",
       "\n",
       "#sk-container-id-1 div.sk-parallel {\n",
       "  display: flex;\n",
       "  align-items: stretch;\n",
       "  justify-content: center;\n",
       "  background-color: var(--sklearn-color-background);\n",
       "  position: relative;\n",
       "}\n",
       "\n",
       "#sk-container-id-1 div.sk-parallel-item {\n",
       "  display: flex;\n",
       "  flex-direction: column;\n",
       "}\n",
       "\n",
       "#sk-container-id-1 div.sk-parallel-item:first-child::after {\n",
       "  align-self: flex-end;\n",
       "  width: 50%;\n",
       "}\n",
       "\n",
       "#sk-container-id-1 div.sk-parallel-item:last-child::after {\n",
       "  align-self: flex-start;\n",
       "  width: 50%;\n",
       "}\n",
       "\n",
       "#sk-container-id-1 div.sk-parallel-item:only-child::after {\n",
       "  width: 0;\n",
       "}\n",
       "\n",
       "/* Serial-specific style estimator block */\n",
       "\n",
       "#sk-container-id-1 div.sk-serial {\n",
       "  display: flex;\n",
       "  flex-direction: column;\n",
       "  align-items: center;\n",
       "  background-color: var(--sklearn-color-background);\n",
       "  padding-right: 1em;\n",
       "  padding-left: 1em;\n",
       "}\n",
       "\n",
       "\n",
       "/* Toggleable style: style used for estimator/Pipeline/ColumnTransformer box that is\n",
       "clickable and can be expanded/collapsed.\n",
       "- Pipeline and ColumnTransformer use this feature and define the default style\n",
       "- Estimators will overwrite some part of the style using the `sk-estimator` class\n",
       "*/\n",
       "\n",
       "/* Pipeline and ColumnTransformer style (default) */\n",
       "\n",
       "#sk-container-id-1 div.sk-toggleable {\n",
       "  /* Default theme specific background. It is overwritten whether we have a\n",
       "  specific estimator or a Pipeline/ColumnTransformer */\n",
       "  background-color: var(--sklearn-color-background);\n",
       "}\n",
       "\n",
       "/* Toggleable label */\n",
       "#sk-container-id-1 label.sk-toggleable__label {\n",
       "  cursor: pointer;\n",
       "  display: block;\n",
       "  width: 100%;\n",
       "  margin-bottom: 0;\n",
       "  padding: 0.5em;\n",
       "  box-sizing: border-box;\n",
       "  text-align: center;\n",
       "}\n",
       "\n",
       "#sk-container-id-1 label.sk-toggleable__label-arrow:before {\n",
       "  /* Arrow on the left of the label */\n",
       "  content: \"▸\";\n",
       "  float: left;\n",
       "  margin-right: 0.25em;\n",
       "  color: var(--sklearn-color-icon);\n",
       "}\n",
       "\n",
       "#sk-container-id-1 label.sk-toggleable__label-arrow:hover:before {\n",
       "  color: var(--sklearn-color-text);\n",
       "}\n",
       "\n",
       "/* Toggleable content - dropdown */\n",
       "\n",
       "#sk-container-id-1 div.sk-toggleable__content {\n",
       "  max-height: 0;\n",
       "  max-width: 0;\n",
       "  overflow: hidden;\n",
       "  text-align: left;\n",
       "  /* unfitted */\n",
       "  background-color: var(--sklearn-color-unfitted-level-0);\n",
       "}\n",
       "\n",
       "#sk-container-id-1 div.sk-toggleable__content.fitted {\n",
       "  /* fitted */\n",
       "  background-color: var(--sklearn-color-fitted-level-0);\n",
       "}\n",
       "\n",
       "#sk-container-id-1 div.sk-toggleable__content pre {\n",
       "  margin: 0.2em;\n",
       "  border-radius: 0.25em;\n",
       "  color: var(--sklearn-color-text);\n",
       "  /* unfitted */\n",
       "  background-color: var(--sklearn-color-unfitted-level-0);\n",
       "}\n",
       "\n",
       "#sk-container-id-1 div.sk-toggleable__content.fitted pre {\n",
       "  /* unfitted */\n",
       "  background-color: var(--sklearn-color-fitted-level-0);\n",
       "}\n",
       "\n",
       "#sk-container-id-1 input.sk-toggleable__control:checked~div.sk-toggleable__content {\n",
       "  /* Expand drop-down */\n",
       "  max-height: 200px;\n",
       "  max-width: 100%;\n",
       "  overflow: auto;\n",
       "}\n",
       "\n",
       "#sk-container-id-1 input.sk-toggleable__control:checked~label.sk-toggleable__label-arrow:before {\n",
       "  content: \"▾\";\n",
       "}\n",
       "\n",
       "/* Pipeline/ColumnTransformer-specific style */\n",
       "\n",
       "#sk-container-id-1 div.sk-label input.sk-toggleable__control:checked~label.sk-toggleable__label {\n",
       "  color: var(--sklearn-color-text);\n",
       "  background-color: var(--sklearn-color-unfitted-level-2);\n",
       "}\n",
       "\n",
       "#sk-container-id-1 div.sk-label.fitted input.sk-toggleable__control:checked~label.sk-toggleable__label {\n",
       "  background-color: var(--sklearn-color-fitted-level-2);\n",
       "}\n",
       "\n",
       "/* Estimator-specific style */\n",
       "\n",
       "/* Colorize estimator box */\n",
       "#sk-container-id-1 div.sk-estimator input.sk-toggleable__control:checked~label.sk-toggleable__label {\n",
       "  /* unfitted */\n",
       "  background-color: var(--sklearn-color-unfitted-level-2);\n",
       "}\n",
       "\n",
       "#sk-container-id-1 div.sk-estimator.fitted input.sk-toggleable__control:checked~label.sk-toggleable__label {\n",
       "  /* fitted */\n",
       "  background-color: var(--sklearn-color-fitted-level-2);\n",
       "}\n",
       "\n",
       "#sk-container-id-1 div.sk-label label.sk-toggleable__label,\n",
       "#sk-container-id-1 div.sk-label label {\n",
       "  /* The background is the default theme color */\n",
       "  color: var(--sklearn-color-text-on-default-background);\n",
       "}\n",
       "\n",
       "/* On hover, darken the color of the background */\n",
       "#sk-container-id-1 div.sk-label:hover label.sk-toggleable__label {\n",
       "  color: var(--sklearn-color-text);\n",
       "  background-color: var(--sklearn-color-unfitted-level-2);\n",
       "}\n",
       "\n",
       "/* Label box, darken color on hover, fitted */\n",
       "#sk-container-id-1 div.sk-label.fitted:hover label.sk-toggleable__label.fitted {\n",
       "  color: var(--sklearn-color-text);\n",
       "  background-color: var(--sklearn-color-fitted-level-2);\n",
       "}\n",
       "\n",
       "/* Estimator label */\n",
       "\n",
       "#sk-container-id-1 div.sk-label label {\n",
       "  font-family: monospace;\n",
       "  font-weight: bold;\n",
       "  display: inline-block;\n",
       "  line-height: 1.2em;\n",
       "}\n",
       "\n",
       "#sk-container-id-1 div.sk-label-container {\n",
       "  text-align: center;\n",
       "}\n",
       "\n",
       "/* Estimator-specific */\n",
       "#sk-container-id-1 div.sk-estimator {\n",
       "  font-family: monospace;\n",
       "  border: 1px dotted var(--sklearn-color-border-box);\n",
       "  border-radius: 0.25em;\n",
       "  box-sizing: border-box;\n",
       "  margin-bottom: 0.5em;\n",
       "  /* unfitted */\n",
       "  background-color: var(--sklearn-color-unfitted-level-0);\n",
       "}\n",
       "\n",
       "#sk-container-id-1 div.sk-estimator.fitted {\n",
       "  /* fitted */\n",
       "  background-color: var(--sklearn-color-fitted-level-0);\n",
       "}\n",
       "\n",
       "/* on hover */\n",
       "#sk-container-id-1 div.sk-estimator:hover {\n",
       "  /* unfitted */\n",
       "  background-color: var(--sklearn-color-unfitted-level-2);\n",
       "}\n",
       "\n",
       "#sk-container-id-1 div.sk-estimator.fitted:hover {\n",
       "  /* fitted */\n",
       "  background-color: var(--sklearn-color-fitted-level-2);\n",
       "}\n",
       "\n",
       "/* Specification for estimator info (e.g. \"i\" and \"?\") */\n",
       "\n",
       "/* Common style for \"i\" and \"?\" */\n",
       "\n",
       ".sk-estimator-doc-link,\n",
       "a:link.sk-estimator-doc-link,\n",
       "a:visited.sk-estimator-doc-link {\n",
       "  float: right;\n",
       "  font-size: smaller;\n",
       "  line-height: 1em;\n",
       "  font-family: monospace;\n",
       "  background-color: var(--sklearn-color-background);\n",
       "  border-radius: 1em;\n",
       "  height: 1em;\n",
       "  width: 1em;\n",
       "  text-decoration: none !important;\n",
       "  margin-left: 1ex;\n",
       "  /* unfitted */\n",
       "  border: var(--sklearn-color-unfitted-level-1) 1pt solid;\n",
       "  color: var(--sklearn-color-unfitted-level-1);\n",
       "}\n",
       "\n",
       ".sk-estimator-doc-link.fitted,\n",
       "a:link.sk-estimator-doc-link.fitted,\n",
       "a:visited.sk-estimator-doc-link.fitted {\n",
       "  /* fitted */\n",
       "  border: var(--sklearn-color-fitted-level-1) 1pt solid;\n",
       "  color: var(--sklearn-color-fitted-level-1);\n",
       "}\n",
       "\n",
       "/* On hover */\n",
       "div.sk-estimator:hover .sk-estimator-doc-link:hover,\n",
       ".sk-estimator-doc-link:hover,\n",
       "div.sk-label-container:hover .sk-estimator-doc-link:hover,\n",
       ".sk-estimator-doc-link:hover {\n",
       "  /* unfitted */\n",
       "  background-color: var(--sklearn-color-unfitted-level-3);\n",
       "  color: var(--sklearn-color-background);\n",
       "  text-decoration: none;\n",
       "}\n",
       "\n",
       "div.sk-estimator.fitted:hover .sk-estimator-doc-link.fitted:hover,\n",
       ".sk-estimator-doc-link.fitted:hover,\n",
       "div.sk-label-container:hover .sk-estimator-doc-link.fitted:hover,\n",
       ".sk-estimator-doc-link.fitted:hover {\n",
       "  /* fitted */\n",
       "  background-color: var(--sklearn-color-fitted-level-3);\n",
       "  color: var(--sklearn-color-background);\n",
       "  text-decoration: none;\n",
       "}\n",
       "\n",
       "/* Span, style for the box shown on hovering the info icon */\n",
       ".sk-estimator-doc-link span {\n",
       "  display: none;\n",
       "  z-index: 9999;\n",
       "  position: relative;\n",
       "  font-weight: normal;\n",
       "  right: .2ex;\n",
       "  padding: .5ex;\n",
       "  margin: .5ex;\n",
       "  width: min-content;\n",
       "  min-width: 20ex;\n",
       "  max-width: 50ex;\n",
       "  color: var(--sklearn-color-text);\n",
       "  box-shadow: 2pt 2pt 4pt #999;\n",
       "  /* unfitted */\n",
       "  background: var(--sklearn-color-unfitted-level-0);\n",
       "  border: .5pt solid var(--sklearn-color-unfitted-level-3);\n",
       "}\n",
       "\n",
       ".sk-estimator-doc-link.fitted span {\n",
       "  /* fitted */\n",
       "  background: var(--sklearn-color-fitted-level-0);\n",
       "  border: var(--sklearn-color-fitted-level-3);\n",
       "}\n",
       "\n",
       ".sk-estimator-doc-link:hover span {\n",
       "  display: block;\n",
       "}\n",
       "\n",
       "/* \"?\"-specific style due to the `<a>` HTML tag */\n",
       "\n",
       "#sk-container-id-1 a.estimator_doc_link {\n",
       "  float: right;\n",
       "  font-size: 1rem;\n",
       "  line-height: 1em;\n",
       "  font-family: monospace;\n",
       "  background-color: var(--sklearn-color-background);\n",
       "  border-radius: 1rem;\n",
       "  height: 1rem;\n",
       "  width: 1rem;\n",
       "  text-decoration: none;\n",
       "  /* unfitted */\n",
       "  color: var(--sklearn-color-unfitted-level-1);\n",
       "  border: var(--sklearn-color-unfitted-level-1) 1pt solid;\n",
       "}\n",
       "\n",
       "#sk-container-id-1 a.estimator_doc_link.fitted {\n",
       "  /* fitted */\n",
       "  border: var(--sklearn-color-fitted-level-1) 1pt solid;\n",
       "  color: var(--sklearn-color-fitted-level-1);\n",
       "}\n",
       "\n",
       "/* On hover */\n",
       "#sk-container-id-1 a.estimator_doc_link:hover {\n",
       "  /* unfitted */\n",
       "  background-color: var(--sklearn-color-unfitted-level-3);\n",
       "  color: var(--sklearn-color-background);\n",
       "  text-decoration: none;\n",
       "}\n",
       "\n",
       "#sk-container-id-1 a.estimator_doc_link.fitted:hover {\n",
       "  /* fitted */\n",
       "  background-color: var(--sklearn-color-fitted-level-3);\n",
       "}\n",
       "</style><div id=\"sk-container-id-1\" class=\"sk-top-container\"><div class=\"sk-text-repr-fallback\"><pre>LinearRegression()</pre><b>In a Jupyter environment, please rerun this cell to show the HTML representation or trust the notebook. <br />On GitHub, the HTML representation is unable to render, please try loading this page with nbviewer.org.</b></div><div class=\"sk-container\" hidden><div class=\"sk-item\"><div class=\"sk-estimator fitted sk-toggleable\"><input class=\"sk-toggleable__control sk-hidden--visually\" id=\"sk-estimator-id-1\" type=\"checkbox\" checked><label for=\"sk-estimator-id-1\" class=\"sk-toggleable__label fitted sk-toggleable__label-arrow fitted\">&nbsp;&nbsp;LinearRegression<a class=\"sk-estimator-doc-link fitted\" rel=\"noreferrer\" target=\"_blank\" href=\"https://scikit-learn.org/1.5/modules/generated/sklearn.linear_model.LinearRegression.html\">?<span>Documentation for LinearRegression</span></a><span class=\"sk-estimator-doc-link fitted\">i<span>Fitted</span></span></label><div class=\"sk-toggleable__content fitted\"><pre>LinearRegression()</pre></div> </div></div></div></div>"
      ],
      "text/plain": [
       "LinearRegression()"
      ]
     },
     "execution_count": 20,
     "metadata": {},
     "output_type": "execute_result"
    }
   ],
   "source": [
    "model.fit(X_train, y_train)"
   ]
  },
  {
   "cell_type": "code",
   "execution_count": 21,
   "id": "10d9b7f0d2e577e5",
   "metadata": {
    "ExecuteTime": {
     "end_time": "2024-08-19T15:27:30.186328Z",
     "start_time": "2024-08-19T15:27:30.185123Z"
    }
   },
   "outputs": [],
   "source": [
    "my_metric = root_mean_squared_error\n",
    "# my_metric = mean_absolute_error"
   ]
  },
  {
   "cell_type": "code",
   "execution_count": 22,
   "id": "726945e27ad5b70e",
   "metadata": {
    "ExecuteTime": {
     "end_time": "2024-08-19T15:27:30.189190Z",
     "start_time": "2024-08-19T15:27:30.186754Z"
    }
   },
   "outputs": [
    {
     "data": {
      "text/plain": [
       "np.float64(1.2685725232129475e-14)"
      ]
     },
     "execution_count": 22,
     "metadata": {},
     "output_type": "execute_result"
    }
   ],
   "source": [
    "train_error = my_metric(y_train, model.predict(X_train))\n",
    "train_error"
   ]
  },
  {
   "cell_type": "code",
   "execution_count": 23,
   "id": "b54bc935c4ed9d33",
   "metadata": {
    "ExecuteTime": {
     "end_time": "2024-08-19T15:27:30.191694Z",
     "start_time": "2024-08-19T15:27:30.189603Z"
    }
   },
   "outputs": [
    {
     "data": {
      "text/plain": [
       "np.float64(5.635025655963682)"
      ]
     },
     "execution_count": 23,
     "metadata": {},
     "output_type": "execute_result"
    }
   ],
   "source": [
    "test_error = my_metric(y_test, model.predict(X_test))\n",
    "test_error"
   ]
  },
  {
   "cell_type": "markdown",
   "id": "5fd8cc416c9453b3",
   "metadata": {},
   "source": [
    "As expected, train error (in-sample fit) is lower than test error (out of sample)."
   ]
  },
  {
   "cell_type": "markdown",
   "id": "fdb3ef5b982c73a7",
   "metadata": {},
   "source": [
    "We will do this again and again and look at the mean metric value for combinations of number of rows and columns."
   ]
  },
  {
   "cell_type": "markdown",
   "id": "468c3f23c238ddb",
   "metadata": {},
   "source": [
    "# Bias-variance U curve"
   ]
  },
  {
   "cell_type": "markdown",
   "id": "feedcfd9e6d0f44a",
   "metadata": {},
   "source": [
    "Seeing a traditional bias-variance U curve requires that the number of parameters should be a lot less than the number of rows.  Since the data set has 9 columns, we will need a lot more rows. This section will sample 15 rows (out of a total of 32) to train on.\n",
    "\n",
    "We will sample between 2 and 8 columns (out of a total of 10 numeric columns) to see how the error metric varies by the number of parameters."
   ]
  },
  {
   "cell_type": "markdown",
   "id": "6f14289cbf6c79cb",
   "metadata": {},
   "source": [
    "Note that the regression used here includes an intercept, so 8 columns + 1 intercept -> 9 parameters.  With 15 rows to train on, full interpolation would be reached with 15 columns."
   ]
  },
  {
   "cell_type": "code",
   "execution_count": 24,
   "id": "7492ae8aeb7c67a",
   "metadata": {
    "ExecuteTime": {
     "end_time": "2024-08-19T15:27:30.193636Z",
     "start_time": "2024-08-19T15:27:30.192105Z"
    }
   },
   "outputs": [
    {
     "data": {
      "text/plain": [
       "(32, 10)"
      ]
     },
     "execution_count": 24,
     "metadata": {},
     "output_type": "execute_result"
    }
   ],
   "source": [
    "X.shape"
   ]
  },
  {
   "cell_type": "code",
   "execution_count": 25,
   "id": "ea7437fe5175ee7",
   "metadata": {
    "ExecuteTime": {
     "end_time": "2024-08-19T15:27:30.195182Z",
     "start_time": "2024-08-19T15:27:30.194051Z"
    }
   },
   "outputs": [],
   "source": [
    "num_train_rows = 15"
   ]
  },
  {
   "cell_type": "code",
   "execution_count": 26,
   "id": "309d781835ccb2",
   "metadata": {
    "ExecuteTime": {
     "end_time": "2024-08-19T15:27:30.196685Z",
     "start_time": "2024-08-19T15:27:30.195551Z"
    }
   },
   "outputs": [],
   "source": [
    "model = linear_model.LinearRegression(fit_intercept=True)"
   ]
  },
  {
   "cell_type": "markdown",
   "id": "6fbc182c1858e63",
   "metadata": {},
   "source": [
    "We will look at the train and test error with the root mean squared metric, the metric minimized by Ordinary Least Squares (OLS)-- although OLS minimizes only training (in-sample) error. "
   ]
  },
  {
   "cell_type": "code",
   "execution_count": 27,
   "id": "dbde127003acf47a",
   "metadata": {
    "ExecuteTime": {
     "end_time": "2024-08-19T15:27:30.198449Z",
     "start_time": "2024-08-19T15:27:30.197041Z"
    }
   },
   "outputs": [],
   "source": [
    "metric = root_mean_squared_error\n",
    "metrics = [\n",
    "        sample_eval.MetricTuple('train', metric_func=metric, dataset_type=sample_eval.DatasetType.train),\n",
    "        sample_eval.MetricTuple('test', metric_func=metric, dataset_type=sample_eval.DatasetType.test)\n",
    "    ]"
   ]
  },
  {
   "cell_type": "code",
   "execution_count": 28,
   "id": "676c917033e6c577",
   "metadata": {
    "ExecuteTime": {
     "end_time": "2024-08-19T15:27:33.190910Z",
     "start_time": "2024-08-19T15:27:30.201151Z"
    }
   },
   "outputs": [],
   "source": [
    "num_samples = 300\n",
    "random_state = np.random.RandomState(11)  # set for reproducibility\n",
    "num_columns_list = range(1, X.shape[1])\n",
    "metric_dict = sample_eval.sample_and_calc_metrics_by_rows_and_cols(\n",
    "    X, y, num_train_rows, num_columns_list=num_columns_list, model=model,\n",
    "    metric_tuples=metrics, num_samples=num_samples,\n",
    "    replace=False, random_state=random_state)"
   ]
  },
  {
   "cell_type": "markdown",
   "id": "d5d9314c62747569",
   "metadata": {},
   "source": [
    "Below we see the mean training error decreases for more columns sampled.  Starting at 6 columns sampled, mean root mean square error drops below 2.0.\n",
    "\n",
    "In contrast, mean test error goes down but then goes back up.   Mean test error reaches its minimum at 3 columns sampled, at a value of ~3.45. "
   ]
  },
  {
   "cell_type": "code",
   "execution_count": 29,
   "id": "b0bc450f7f072953",
   "metadata": {
    "ExecuteTime": {
     "end_time": "2024-08-19T15:27:33.195476Z",
     "start_time": "2024-08-19T15:27:33.191975Z"
    }
   },
   "outputs": [
    {
     "name": "stdout",
     "output_type": "stream",
     "text": [
      " cols    train     test\n",
      "    1 3.876230 4.545854\n",
      "    2 3.066004 3.924209\n",
      "    3 2.591921 3.454348\n",
      "    4 2.293291 3.515853\n",
      "    5 2.094819 3.647092\n",
      "    6 1.953831 3.845990\n",
      "    7 1.776364 4.208101\n",
      "    8 1.613586 4.822576\n",
      "    9 1.491465 5.442986\n"
     ]
    }
   ],
   "source": [
    "print(pd.DataFrame({\n",
    "    'cols':num_columns_list,\n",
    "    'train': np.mean(metric_dict['train'], axis=0),\n",
    "    'test': np.mean(metric_dict['test'], axis=0)}).to_string(index=False))"
   ]
  },
  {
   "cell_type": "markdown",
   "id": "db18e32b12b05ddc",
   "metadata": {},
   "source": [
    "Let's plot test error to see the classic U shape."
   ]
  },
  {
   "cell_type": "code",
   "execution_count": 30,
   "id": "a458ae115d906c9d",
   "metadata": {
    "ExecuteTime": {
     "end_time": "2024-08-19T15:27:33.274196Z",
     "start_time": "2024-08-19T15:27:33.196066Z"
    }
   },
   "outputs": [
    {
     "data": {
      "image/png": "[encoded data removed]",
      "text/plain": [
       "<Figure size 640x480 with 1 Axes>"
      ]
     },
     "metadata": {},
     "output_type": "display_data"
    }
   ],
   "source": [
    "plt.scatter(num_columns_list, np.mean(metric_dict['test'], axis=0), label='test')\n",
    "plt.xlabel(\"Num sampled columns\")\n",
    "plt.ylabel(\"Mean of \" + my_metric.__name__)\n",
    "plt.legend()\n",
    "plt.show()"
   ]
  },
  {
   "cell_type": "markdown",
   "id": "aefb99dddbc20e07",
   "metadata": {},
   "source": [
    "The test error (in orange) display a beautiful U shape.  The linear regression's lowest average test (out-of-sample) error was achieved at 4 columns, which with the intercept means 5 parameters to fit.  This is much less than the 9 columns available in the data set.\n",
    "\n",
    "(There is no simple theory that predicts what the optimal number of parameters will be.) \n"
   ]
  },
  {
   "cell_type": "markdown",
   "id": "2505bacb327efdd0",
   "metadata": {},
   "source": [
    "Now let's look at a plot that includes the training error.  Notice that the training error continues to decrease as more columns are added."
   ]
  },
  {
   "cell_type": "code",
   "execution_count": 31,
   "id": "5f77fffd1318acca",
   "metadata": {
    "ExecuteTime": {
     "end_time": "2024-08-19T15:27:33.325442Z",
     "start_time": "2024-08-19T15:27:33.274845Z"
    }
   },
   "outputs": [
    {
     "data": {
      "image/png": "[encoded data removed]",
      "text/plain": [
       "<Figure size 640x480 with 1 Axes>"
      ]
     },
     "metadata": {},
     "output_type": "display_data"
    }
   ],
   "source": [
    "plt.scatter(num_columns_list, np.mean(metric_dict['test'], axis=0), label='test')\n",
    "plt.scatter(num_columns_list, np.mean(metric_dict['train'], axis=0), label='train')\n",
    "plt.xlabel(\"Num sampled columns\")\n",
    "plt.ylabel(\"Mean of \" + my_metric.__name__)\n",
    "plt.legend()\n",
    "plt.show()"
   ]
  },
  {
   "cell_type": "markdown",
   "id": "403b642f573546b5",
   "metadata": {},
   "source": [
    "## Double descent"
   ]
  },
  {
   "cell_type": "markdown",
   "id": "d6197abaf8b716c4",
   "metadata": {},
   "source": [
    "A paper by Dar et al. (), called \"Farewell to Bias Variance?\" showed mathematically that double descent could be exhibited by linear regression under certain conditions. \n",
    "\n",
    "The paper: \n",
    "Yehuda Dar, Muthukumar, V., & Baraniuk, R. (2021). A Farewell to the Bias-Variance Tradeoff? An Overview of the Theory of Overparameterized Machine Learning. https://arxiv.org/abs/2109.02355\n"
   ]
  },
  {
   "cell_type": "markdown",
   "id": "b9c477192eeba6f9",
   "metadata": {},
   "source": [
    "Here I show double descent empirically on the mtcars data set (widely used by R users)."
   ]
  },
  {
   "cell_type": "markdown",
   "id": "b65d29fbef9694e4",
   "metadata": {},
   "source": [
    "Seeing double descent requires that the number of parameters should be a lot MORE than the number of rows. Since the data set has only 9 columns, we achieve this with a trick-- sampling fewer rows.\n",
    "\n",
    "This section will train on 7 rows (out of a total of 32).\n",
    "\n",
    "As before, will sample between 2 and 8 columns (out of a total of 9 columns) to see how the error metric varies by the number of parameters.  "
   ]
  },
  {
   "cell_type": "markdown",
   "id": "e42159c2bbfc8fd9",
   "metadata": {},
   "source": [
    "The linear regression model will be able to fully interpolate the data at 7 columns because it is fit to 7 rows."
   ]
  },
  {
   "cell_type": "code",
   "execution_count": 32,
   "id": "94f7bb946771084c",
   "metadata": {
    "ExecuteTime": {
     "end_time": "2024-08-19T15:27:33.327276Z",
     "start_time": "2024-08-19T15:27:33.325978Z"
    }
   },
   "outputs": [],
   "source": [
    "num_train_rows = 7\n",
    "model = linear_model.LinearRegression(fit_intercept=True)"
   ]
  },
  {
   "cell_type": "markdown",
   "id": "b20653a5969cf874",
   "metadata": {},
   "source": [
    "We will look at the train and test error of root mean squared error."
   ]
  },
  {
   "cell_type": "code",
   "execution_count": 33,
   "id": "a02d50444fab852d",
   "metadata": {
    "ExecuteTime": {
     "end_time": "2024-08-19T15:27:33.329205Z",
     "start_time": "2024-08-19T15:27:33.327802Z"
    }
   },
   "outputs": [],
   "source": [
    "metric = root_mean_squared_error\n",
    "metrics = [\n",
    "        sample_eval.MetricTuple('train', metric_func=metric, dataset_type=sample_eval.DatasetType.train),\n",
    "        sample_eval.MetricTuple('test', metric_func=metric, dataset_type=sample_eval.DatasetType.test)\n",
    "    ]"
   ]
  },
  {
   "cell_type": "code",
   "execution_count": 34,
   "id": "416c3e7ee1f34e19",
   "metadata": {
    "ExecuteTime": {
     "end_time": "2024-08-19T15:27:36.079775Z",
     "start_time": "2024-08-19T15:27:33.329686Z"
    }
   },
   "outputs": [],
   "source": [
    "num_samples = 300\n",
    "num_columns_list = range(1, X.shape[1])\n",
    "random_state = np.random.RandomState(33) # set for reproducibility\n",
    "metric_dict = sample_eval.sample_and_calc_metrics_by_rows_and_cols(X, y, num_train_rows, num_columns_list=num_columns_list, model=model, metric_tuples=metrics, num_samples=num_samples, replace=False, random_state=random_state)"
   ]
  },
  {
   "cell_type": "code",
   "execution_count": 35,
   "id": "80257d46b7fb5b39",
   "metadata": {
    "ExecuteTime": {
     "end_time": "2024-08-19T15:27:36.121893Z",
     "start_time": "2024-08-19T15:27:36.080369Z"
    }
   },
   "outputs": [
    {
     "data": {
      "image/png": "[encoded data removed]",
      "text/plain": [
       "<Figure size 640x480 with 1 Axes>"
      ]
     },
     "metadata": {},
     "output_type": "display_data"
    }
   ],
   "source": [
    "plt.scatter(num_columns_list, np.mean(metric_dict['test'], axis=0), label='test')\n",
    "plt.xlabel(\"Num sampled columns\")\n",
    "plt.ylabel(\"Mean of \" + my_metric.__name__)\n",
    "plt.legend()\n",
    "plt.show()"
   ]
  },
  {
   "cell_type": "markdown",
   "id": "c725d60c9915cc9e",
   "metadata": {},
   "source": [
    "As predicted, there was a spike in test (out of sample) error followed by a descent in error after the spike.  That is double descent in a linear regression.  The maximum was reached at 7 sampled columns.\n",
    "\n",
    "Double descent was formerly thought to be a weird feature of fitting neural nets, but here we observe it with simple, traditional linear regression."
   ]
  },
  {
   "cell_type": "markdown",
   "id": "bd511bcaf154ce88",
   "metadata": {},
   "source": [
    "## Deeper dive into interpolation"
   ]
  },
  {
   "cell_type": "markdown",
   "id": "cc0265ec313a0f3a",
   "metadata": {},
   "source": [
    "The double descent spike should happen at the interpolation point.  Interpolation means the data could be fit perfectly, so the training error is zero.  Let's look at the mean training error for each number of sampled columns"
   ]
  },
  {
   "cell_type": "code",
   "execution_count": 36,
   "id": "2dc4f3e869c9fae1",
   "metadata": {
    "ExecuteTime": {
     "end_time": "2024-08-19T15:27:36.125091Z",
     "start_time": "2024-08-19T15:27:36.122574Z"
    }
   },
   "outputs": [
    {
     "name": "stdout",
     "output_type": "stream",
     "text": [
      " columns  mean train error  mean test error\n",
      "       1      3.498993e+00         5.211286\n",
      "       2      2.498344e+00         4.816154\n",
      "       3      1.860063e+00         4.905365\n",
      "       4      1.361846e+00         6.289021\n",
      "       5      8.270998e-01        24.912459\n",
      "       6      1.546239e-01        34.136874\n",
      "       7      3.457017e-02        50.816633\n",
      "       8      5.923881e-03        15.224733\n",
      "       9      9.871127e-14         8.484712\n"
     ]
    }
   ],
   "source": [
    "print(pd.DataFrame({'columns':num_columns_list, 'mean train error':np.mean(metric_dict['train'], axis=0), 'mean test error':np.mean(metric_dict['test'], axis=0)}).to_string(index=False))"
   ]
  },
  {
   "cell_type": "markdown",
   "id": "1a093c243d55fa0",
   "metadata": {},
   "source": [
    "I predicted that interpolation would happen at 7 sampled columns because we selected 7 rows, but we see the mean training error is not 0 at 7 columns nor even at 8 columns!\n",
    "\n",
    "Considering why, focus on the mtcars data set (documentation: https://www.rdocumentation.org/packages/datasets/versions/3.6.2/topics/mtcars).  It has some very low-variance, uninformative columns.  The column `vs` (engine type v or s) and the column `am` (automatic transmission or not) are both binary.  So if these columns were selected, perfect interpolation would not be achievable even with 7 columns for 7 rows. "
   ]
  },
  {
   "cell_type": "markdown",
   "id": "ea98cf008cbf6fdb",
   "metadata": {},
   "source": [
    "For completeness, below is a plot that includes both training and test error."
   ]
  },
  {
   "cell_type": "code",
   "execution_count": 37,
   "id": "d54a5bbe6a9af0eb",
   "metadata": {
    "ExecuteTime": {
     "end_time": "2024-08-19T15:27:36.172747Z",
     "start_time": "2024-08-19T15:27:36.125544Z"
    }
   },
   "outputs": [
    {
     "data": {
      "image/png": "[encoded data removed]",
      "text/plain": [
       "<Figure size 640x480 with 1 Axes>"
      ]
     },
     "metadata": {},
     "output_type": "display_data"
    }
   ],
   "source": [
    "plt.scatter(num_columns_list, np.mean(metric_dict['test'], axis=0), label='test')\n",
    "plt.scatter(num_columns_list, np.mean(metric_dict['train'], axis=0), label='train')\n",
    "plt.xlabel(\"Num sampled columns\")\n",
    "plt.ylabel(\"Mean of \" + my_metric.__name__)\n",
    "plt.legend()\n",
    "plt.show()"
   ]
  }
 ],
 "metadata": {
  "kernelspec": {
   "display_name": "Python 3 (ipykernel)",
   "language": "python",
   "name": "python3"
  },
  "language_info": {
   "codemirror_mode": {
    "name": "ipython",
    "version": 3
   },
   "file_extension": ".py",
   "mimetype": "text/x-python",
   "name": "python",
   "nbconvert_exporter": "python",
   "pygments_lexer": "ipython3",
   "version": "3.12.4"
  }
 },
 "nbformat": 4,
 "nbformat_minor": 5
}
