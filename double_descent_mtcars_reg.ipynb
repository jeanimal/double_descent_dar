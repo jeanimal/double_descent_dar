{
 "cells": [
  {
   "cell_type": "code",
   "id": "initial_id",
   "metadata": {
    "collapsed": true,
    "ExecuteTime": {
     "end_time": "2024-07-25T14:51:54.843227Z",
     "start_time": "2024-07-25T14:51:53.807165Z"
    }
   },
   "source": [
    "import numpy as np\n",
    "import pandas as pd\n",
    "\n",
    "import matplotlib.pyplot as plt\n",
    "from sklearn.metrics import mean_absolute_error, root_mean_squared_error\n",
    "from sklearn.model_selection import train_test_split\n",
    "from sklearn.ensemble import RandomForestRegressor\n",
    "from sklearn import linear_model"
   ],
   "outputs": [],
   "execution_count": 1
  },
  {
   "metadata": {
    "ExecuteTime": {
     "end_time": "2024-07-25T14:51:54.846396Z",
     "start_time": "2024-07-25T14:51:54.844041Z"
    }
   },
   "cell_type": "code",
   "source": [
    "import os\n",
    "notebook_path = os.path.abspath(\"double_descent_mtcars_reg.ipynb\")\n",
    "print(notebook_path)\n",
    "csv_path = os.path.join(os.path.dirname(notebook_path), \"data/mt_cars.csv\")\n",
    "print(csv_path)"
   ],
   "id": "2f6b82fc51e0d3b7",
   "outputs": [
    {
     "name": "stdout",
     "output_type": "stream",
     "text": [
      "/Users/jeanortega/PycharmProjects/pythonProject1/double_descent_mtcars_reg.ipynb\n",
      "/Users/jeanortega/PycharmProjects/pythonProject1/data/mt_cars.csv\n"
     ]
    }
   ],
   "execution_count": 2
  },
  {
   "metadata": {
    "ExecuteTime": {
     "end_time": "2024-07-25T14:51:54.851564Z",
     "start_time": "2024-07-25T14:51:54.846883Z"
    }
   },
   "cell_type": "code",
   "source": "df = pd.read_csv(csv_path)",
   "id": "17f671c041e3a9f3",
   "outputs": [],
   "execution_count": 3
  },
  {
   "metadata": {
    "ExecuteTime": {
     "end_time": "2024-07-25T14:51:54.861132Z",
     "start_time": "2024-07-25T14:51:54.852478Z"
    }
   },
   "cell_type": "code",
   "source": "df",
   "id": "6c74bee6a1a3c3c3",
   "outputs": [
    {
     "data": {
      "text/plain": [
       "                  model   mpg  cyl   disp   hp  drat     wt   qsec  vs  am  \\\n",
       "0             Mazda RX4  21.0    6  160.0  110  3.90  2.620  16.46   0   1   \n",
       "1         Mazda RX4 Wag  21.0    6  160.0  110  3.90  2.875  17.02   0   1   \n",
       "2            Datsun 710  22.8    4  108.0   93  3.85  2.320  18.61   1   1   \n",
       "3        Hornet 4 Drive  21.4    6  258.0  110  3.08  3.215  19.44   1   0   \n",
       "4     Hornet Sportabout  18.7    8  360.0  175  3.15  3.440  17.02   0   0   \n",
       "5               Valiant  18.1    6  225.0  105  2.76  3.460  20.22   1   0   \n",
       "6            Duster 360  14.3    8  360.0  245  3.21  3.570  15.84   0   0   \n",
       "7             Merc 240D  24.4    4  146.7   62  3.69  3.190  20.00   1   0   \n",
       "8              Merc 230  22.8    4  140.8   95  3.92  3.150  22.90   1   0   \n",
       "9              Merc 280  19.2    6  167.6  123  3.92  3.440  18.30   1   0   \n",
       "10            Merc 280C  17.8    6  167.6  123  3.92  3.440  18.90   1   0   \n",
       "11           Merc 450SE  16.4    8  275.8  180  3.07  4.070  17.40   0   0   \n",
       "12           Merc 450SL  17.3    8  275.8  180  3.07  3.730  17.60   0   0   \n",
       "13          Merc 450SLC  15.2    8  275.8  180  3.07  3.780  18.00   0   0   \n",
       "14   Cadillac Fleetwood  10.4    8  472.0  205  2.93  5.250  17.98   0   0   \n",
       "15  Lincoln Continental  10.4    8  460.0  215  3.00  5.424  17.82   0   0   \n",
       "16    Chrysler Imperial  14.7    8  440.0  230  3.23  5.345  17.42   0   0   \n",
       "17             Fiat 128  32.4    4   78.7   66  4.08  2.200  19.47   1   1   \n",
       "18          Honda Civic  30.4    4   75.7   52  4.93  1.615  18.52   1   1   \n",
       "19       Toyota Corolla  33.9    4   71.1   65  4.22  1.835  19.90   1   1   \n",
       "20        Toyota Corona  21.5    4  120.1   97  3.70  2.465  20.01   1   0   \n",
       "21     Dodge Challenger  15.5    8  318.0  150  2.76  3.520  16.87   0   0   \n",
       "22          AMC Javelin  15.2    8  304.0  150  3.15  3.435  17.30   0   0   \n",
       "23           Camaro Z28  13.3    8  350.0  245  3.73  3.840  15.41   0   0   \n",
       "24     Pontiac Firebird  19.2    8  400.0  175  3.08  3.845  17.05   0   0   \n",
       "25            Fiat X1-9  27.3    4   79.0   66  4.08  1.935  18.90   1   1   \n",
       "26        Porsche 914-2  26.0    4  120.3   91  4.43  2.140  16.70   0   1   \n",
       "27         Lotus Europa  30.4    4   95.1  113  3.77  1.513  16.90   1   1   \n",
       "28       Ford Pantera L  15.8    8  351.0  264  4.22  3.170  14.50   0   1   \n",
       "29         Ferrari Dino  19.7    6  145.0  175  3.62  2.770  15.50   0   1   \n",
       "30        Maserati Bora  15.0    8  301.0  335  3.54  3.570  14.60   0   1   \n",
       "31           Volvo 142E  21.4    4  121.0  109  4.11  2.780  18.60   1   1   \n",
       "\n",
       "    gear  carb  \n",
       "0      4     4  \n",
       "1      4     4  \n",
       "2      4     1  \n",
       "3      3     1  \n",
       "4      3     2  \n",
       "5      3     1  \n",
       "6      3     4  \n",
       "7      4     2  \n",
       "8      4     2  \n",
       "9      4     4  \n",
       "10     4     4  \n",
       "11     3     3  \n",
       "12     3     3  \n",
       "13     3     3  \n",
       "14     3     4  \n",
       "15     3     4  \n",
       "16     3     4  \n",
       "17     4     1  \n",
       "18     4     2  \n",
       "19     4     1  \n",
       "20     3     1  \n",
       "21     3     2  \n",
       "22     3     2  \n",
       "23     3     4  \n",
       "24     3     2  \n",
       "25     4     1  \n",
       "26     5     2  \n",
       "27     5     2  \n",
       "28     5     4  \n",
       "29     5     6  \n",
       "30     5     8  \n",
       "31     4     2  "
      ],
      "text/html": [
       "<div>\n",
       "<style scoped>\n",
       "    .dataframe tbody tr th:only-of-type {\n",
       "        vertical-align: middle;\n",
       "    }\n",
       "\n",
       "    .dataframe tbody tr th {\n",
       "        vertical-align: top;\n",
       "    }\n",
       "\n",
       "    .dataframe thead th {\n",
       "        text-align: right;\n",
       "    }\n",
       "</style>\n",
       "<table border=\"1\" class=\"dataframe\">\n",
       "  <thead>\n",
       "    <tr style=\"text-align: right;\">\n",
       "      <th></th>\n",
       "      <th>model</th>\n",
       "      <th>mpg</th>\n",
       "      <th>cyl</th>\n",
       "      <th>disp</th>\n",
       "      <th>hp</th>\n",
       "      <th>drat</th>\n",
       "      <th>wt</th>\n",
       "      <th>qsec</th>\n",
       "      <th>vs</th>\n",
       "      <th>am</th>\n",
       "      <th>gear</th>\n",
       "      <th>carb</th>\n",
       "    </tr>\n",
       "  </thead>\n",
       "  <tbody>\n",
       "    <tr>\n",
       "      <th>0</th>\n",
       "      <td>Mazda RX4</td>\n",
       "      <td>21.0</td>\n",
       "      <td>6</td>\n",
       "      <td>160.0</td>\n",
       "      <td>110</td>\n",
       "      <td>3.90</td>\n",
       "      <td>2.620</td>\n",
       "      <td>16.46</td>\n",
       "      <td>0</td>\n",
       "      <td>1</td>\n",
       "      <td>4</td>\n",
       "      <td>4</td>\n",
       "    </tr>\n",
       "    <tr>\n",
       "      <th>1</th>\n",
       "      <td>Mazda RX4 Wag</td>\n",
       "      <td>21.0</td>\n",
       "      <td>6</td>\n",
       "      <td>160.0</td>\n",
       "      <td>110</td>\n",
       "      <td>3.90</td>\n",
       "      <td>2.875</td>\n",
       "      <td>17.02</td>\n",
       "      <td>0</td>\n",
       "      <td>1</td>\n",
       "      <td>4</td>\n",
       "      <td>4</td>\n",
       "    </tr>\n",
       "    <tr>\n",
       "      <th>2</th>\n",
       "      <td>Datsun 710</td>\n",
       "      <td>22.8</td>\n",
       "      <td>4</td>\n",
       "      <td>108.0</td>\n",
       "      <td>93</td>\n",
       "      <td>3.85</td>\n",
       "      <td>2.320</td>\n",
       "      <td>18.61</td>\n",
       "      <td>1</td>\n",
       "      <td>1</td>\n",
       "      <td>4</td>\n",
       "      <td>1</td>\n",
       "    </tr>\n",
       "    <tr>\n",
       "      <th>3</th>\n",
       "      <td>Hornet 4 Drive</td>\n",
       "      <td>21.4</td>\n",
       "      <td>6</td>\n",
       "      <td>258.0</td>\n",
       "      <td>110</td>\n",
       "      <td>3.08</td>\n",
       "      <td>3.215</td>\n",
       "      <td>19.44</td>\n",
       "      <td>1</td>\n",
       "      <td>0</td>\n",
       "      <td>3</td>\n",
       "      <td>1</td>\n",
       "    </tr>\n",
       "    <tr>\n",
       "      <th>4</th>\n",
       "      <td>Hornet Sportabout</td>\n",
       "      <td>18.7</td>\n",
       "      <td>8</td>\n",
       "      <td>360.0</td>\n",
       "      <td>175</td>\n",
       "      <td>3.15</td>\n",
       "      <td>3.440</td>\n",
       "      <td>17.02</td>\n",
       "      <td>0</td>\n",
       "      <td>0</td>\n",
       "      <td>3</td>\n",
       "      <td>2</td>\n",
       "    </tr>\n",
       "    <tr>\n",
       "      <th>5</th>\n",
       "      <td>Valiant</td>\n",
       "      <td>18.1</td>\n",
       "      <td>6</td>\n",
       "      <td>225.0</td>\n",
       "      <td>105</td>\n",
       "      <td>2.76</td>\n",
       "      <td>3.460</td>\n",
       "      <td>20.22</td>\n",
       "      <td>1</td>\n",
       "      <td>0</td>\n",
       "      <td>3</td>\n",
       "      <td>1</td>\n",
       "    </tr>\n",
       "    <tr>\n",
       "      <th>6</th>\n",
       "      <td>Duster 360</td>\n",
       "      <td>14.3</td>\n",
       "      <td>8</td>\n",
       "      <td>360.0</td>\n",
       "      <td>245</td>\n",
       "      <td>3.21</td>\n",
       "      <td>3.570</td>\n",
       "      <td>15.84</td>\n",
       "      <td>0</td>\n",
       "      <td>0</td>\n",
       "      <td>3</td>\n",
       "      <td>4</td>\n",
       "    </tr>\n",
       "    <tr>\n",
       "      <th>7</th>\n",
       "      <td>Merc 240D</td>\n",
       "      <td>24.4</td>\n",
       "      <td>4</td>\n",
       "      <td>146.7</td>\n",
       "      <td>62</td>\n",
       "      <td>3.69</td>\n",
       "      <td>3.190</td>\n",
       "      <td>20.00</td>\n",
       "      <td>1</td>\n",
       "      <td>0</td>\n",
       "      <td>4</td>\n",
       "      <td>2</td>\n",
       "    </tr>\n",
       "    <tr>\n",
       "      <th>8</th>\n",
       "      <td>Merc 230</td>\n",
       "      <td>22.8</td>\n",
       "      <td>4</td>\n",
       "      <td>140.8</td>\n",
       "      <td>95</td>\n",
       "      <td>3.92</td>\n",
       "      <td>3.150</td>\n",
       "      <td>22.90</td>\n",
       "      <td>1</td>\n",
       "      <td>0</td>\n",
       "      <td>4</td>\n",
       "      <td>2</td>\n",
       "    </tr>\n",
       "    <tr>\n",
       "      <th>9</th>\n",
       "      <td>Merc 280</td>\n",
       "      <td>19.2</td>\n",
       "      <td>6</td>\n",
       "      <td>167.6</td>\n",
       "      <td>123</td>\n",
       "      <td>3.92</td>\n",
       "      <td>3.440</td>\n",
       "      <td>18.30</td>\n",
       "      <td>1</td>\n",
       "      <td>0</td>\n",
       "      <td>4</td>\n",
       "      <td>4</td>\n",
       "    </tr>\n",
       "    <tr>\n",
       "      <th>10</th>\n",
       "      <td>Merc 280C</td>\n",
       "      <td>17.8</td>\n",
       "      <td>6</td>\n",
       "      <td>167.6</td>\n",
       "      <td>123</td>\n",
       "      <td>3.92</td>\n",
       "      <td>3.440</td>\n",
       "      <td>18.90</td>\n",
       "      <td>1</td>\n",
       "      <td>0</td>\n",
       "      <td>4</td>\n",
       "      <td>4</td>\n",
       "    </tr>\n",
       "    <tr>\n",
       "      <th>11</th>\n",
       "      <td>Merc 450SE</td>\n",
       "      <td>16.4</td>\n",
       "      <td>8</td>\n",
       "      <td>275.8</td>\n",
       "      <td>180</td>\n",
       "      <td>3.07</td>\n",
       "      <td>4.070</td>\n",
       "      <td>17.40</td>\n",
       "      <td>0</td>\n",
       "      <td>0</td>\n",
       "      <td>3</td>\n",
       "      <td>3</td>\n",
       "    </tr>\n",
       "    <tr>\n",
       "      <th>12</th>\n",
       "      <td>Merc 450SL</td>\n",
       "      <td>17.3</td>\n",
       "      <td>8</td>\n",
       "      <td>275.8</td>\n",
       "      <td>180</td>\n",
       "      <td>3.07</td>\n",
       "      <td>3.730</td>\n",
       "      <td>17.60</td>\n",
       "      <td>0</td>\n",
       "      <td>0</td>\n",
       "      <td>3</td>\n",
       "      <td>3</td>\n",
       "    </tr>\n",
       "    <tr>\n",
       "      <th>13</th>\n",
       "      <td>Merc 450SLC</td>\n",
       "      <td>15.2</td>\n",
       "      <td>8</td>\n",
       "      <td>275.8</td>\n",
       "      <td>180</td>\n",
       "      <td>3.07</td>\n",
       "      <td>3.780</td>\n",
       "      <td>18.00</td>\n",
       "      <td>0</td>\n",
       "      <td>0</td>\n",
       "      <td>3</td>\n",
       "      <td>3</td>\n",
       "    </tr>\n",
       "    <tr>\n",
       "      <th>14</th>\n",
       "      <td>Cadillac Fleetwood</td>\n",
       "      <td>10.4</td>\n",
       "      <td>8</td>\n",
       "      <td>472.0</td>\n",
       "      <td>205</td>\n",
       "      <td>2.93</td>\n",
       "      <td>5.250</td>\n",
       "      <td>17.98</td>\n",
       "      <td>0</td>\n",
       "      <td>0</td>\n",
       "      <td>3</td>\n",
       "      <td>4</td>\n",
       "    </tr>\n",
       "    <tr>\n",
       "      <th>15</th>\n",
       "      <td>Lincoln Continental</td>\n",
       "      <td>10.4</td>\n",
       "      <td>8</td>\n",
       "      <td>460.0</td>\n",
       "      <td>215</td>\n",
       "      <td>3.00</td>\n",
       "      <td>5.424</td>\n",
       "      <td>17.82</td>\n",
       "      <td>0</td>\n",
       "      <td>0</td>\n",
       "      <td>3</td>\n",
       "      <td>4</td>\n",
       "    </tr>\n",
       "    <tr>\n",
       "      <th>16</th>\n",
       "      <td>Chrysler Imperial</td>\n",
       "      <td>14.7</td>\n",
       "      <td>8</td>\n",
       "      <td>440.0</td>\n",
       "      <td>230</td>\n",
       "      <td>3.23</td>\n",
       "      <td>5.345</td>\n",
       "      <td>17.42</td>\n",
       "      <td>0</td>\n",
       "      <td>0</td>\n",
       "      <td>3</td>\n",
       "      <td>4</td>\n",
       "    </tr>\n",
       "    <tr>\n",
       "      <th>17</th>\n",
       "      <td>Fiat 128</td>\n",
       "      <td>32.4</td>\n",
       "      <td>4</td>\n",
       "      <td>78.7</td>\n",
       "      <td>66</td>\n",
       "      <td>4.08</td>\n",
       "      <td>2.200</td>\n",
       "      <td>19.47</td>\n",
       "      <td>1</td>\n",
       "      <td>1</td>\n",
       "      <td>4</td>\n",
       "      <td>1</td>\n",
       "    </tr>\n",
       "    <tr>\n",
       "      <th>18</th>\n",
       "      <td>Honda Civic</td>\n",
       "      <td>30.4</td>\n",
       "      <td>4</td>\n",
       "      <td>75.7</td>\n",
       "      <td>52</td>\n",
       "      <td>4.93</td>\n",
       "      <td>1.615</td>\n",
       "      <td>18.52</td>\n",
       "      <td>1</td>\n",
       "      <td>1</td>\n",
       "      <td>4</td>\n",
       "      <td>2</td>\n",
       "    </tr>\n",
       "    <tr>\n",
       "      <th>19</th>\n",
       "      <td>Toyota Corolla</td>\n",
       "      <td>33.9</td>\n",
       "      <td>4</td>\n",
       "      <td>71.1</td>\n",
       "      <td>65</td>\n",
       "      <td>4.22</td>\n",
       "      <td>1.835</td>\n",
       "      <td>19.90</td>\n",
       "      <td>1</td>\n",
       "      <td>1</td>\n",
       "      <td>4</td>\n",
       "      <td>1</td>\n",
       "    </tr>\n",
       "    <tr>\n",
       "      <th>20</th>\n",
       "      <td>Toyota Corona</td>\n",
       "      <td>21.5</td>\n",
       "      <td>4</td>\n",
       "      <td>120.1</td>\n",
       "      <td>97</td>\n",
       "      <td>3.70</td>\n",
       "      <td>2.465</td>\n",
       "      <td>20.01</td>\n",
       "      <td>1</td>\n",
       "      <td>0</td>\n",
       "      <td>3</td>\n",
       "      <td>1</td>\n",
       "    </tr>\n",
       "    <tr>\n",
       "      <th>21</th>\n",
       "      <td>Dodge Challenger</td>\n",
       "      <td>15.5</td>\n",
       "      <td>8</td>\n",
       "      <td>318.0</td>\n",
       "      <td>150</td>\n",
       "      <td>2.76</td>\n",
       "      <td>3.520</td>\n",
       "      <td>16.87</td>\n",
       "      <td>0</td>\n",
       "      <td>0</td>\n",
       "      <td>3</td>\n",
       "      <td>2</td>\n",
       "    </tr>\n",
       "    <tr>\n",
       "      <th>22</th>\n",
       "      <td>AMC Javelin</td>\n",
       "      <td>15.2</td>\n",
       "      <td>8</td>\n",
       "      <td>304.0</td>\n",
       "      <td>150</td>\n",
       "      <td>3.15</td>\n",
       "      <td>3.435</td>\n",
       "      <td>17.30</td>\n",
       "      <td>0</td>\n",
       "      <td>0</td>\n",
       "      <td>3</td>\n",
       "      <td>2</td>\n",
       "    </tr>\n",
       "    <tr>\n",
       "      <th>23</th>\n",
       "      <td>Camaro Z28</td>\n",
       "      <td>13.3</td>\n",
       "      <td>8</td>\n",
       "      <td>350.0</td>\n",
       "      <td>245</td>\n",
       "      <td>3.73</td>\n",
       "      <td>3.840</td>\n",
       "      <td>15.41</td>\n",
       "      <td>0</td>\n",
       "      <td>0</td>\n",
       "      <td>3</td>\n",
       "      <td>4</td>\n",
       "    </tr>\n",
       "    <tr>\n",
       "      <th>24</th>\n",
       "      <td>Pontiac Firebird</td>\n",
       "      <td>19.2</td>\n",
       "      <td>8</td>\n",
       "      <td>400.0</td>\n",
       "      <td>175</td>\n",
       "      <td>3.08</td>\n",
       "      <td>3.845</td>\n",
       "      <td>17.05</td>\n",
       "      <td>0</td>\n",
       "      <td>0</td>\n",
       "      <td>3</td>\n",
       "      <td>2</td>\n",
       "    </tr>\n",
       "    <tr>\n",
       "      <th>25</th>\n",
       "      <td>Fiat X1-9</td>\n",
       "      <td>27.3</td>\n",
       "      <td>4</td>\n",
       "      <td>79.0</td>\n",
       "      <td>66</td>\n",
       "      <td>4.08</td>\n",
       "      <td>1.935</td>\n",
       "      <td>18.90</td>\n",
       "      <td>1</td>\n",
       "      <td>1</td>\n",
       "      <td>4</td>\n",
       "      <td>1</td>\n",
       "    </tr>\n",
       "    <tr>\n",
       "      <th>26</th>\n",
       "      <td>Porsche 914-2</td>\n",
       "      <td>26.0</td>\n",
       "      <td>4</td>\n",
       "      <td>120.3</td>\n",
       "      <td>91</td>\n",
       "      <td>4.43</td>\n",
       "      <td>2.140</td>\n",
       "      <td>16.70</td>\n",
       "      <td>0</td>\n",
       "      <td>1</td>\n",
       "      <td>5</td>\n",
       "      <td>2</td>\n",
       "    </tr>\n",
       "    <tr>\n",
       "      <th>27</th>\n",
       "      <td>Lotus Europa</td>\n",
       "      <td>30.4</td>\n",
       "      <td>4</td>\n",
       "      <td>95.1</td>\n",
       "      <td>113</td>\n",
       "      <td>3.77</td>\n",
       "      <td>1.513</td>\n",
       "      <td>16.90</td>\n",
       "      <td>1</td>\n",
       "      <td>1</td>\n",
       "      <td>5</td>\n",
       "      <td>2</td>\n",
       "    </tr>\n",
       "    <tr>\n",
       "      <th>28</th>\n",
       "      <td>Ford Pantera L</td>\n",
       "      <td>15.8</td>\n",
       "      <td>8</td>\n",
       "      <td>351.0</td>\n",
       "      <td>264</td>\n",
       "      <td>4.22</td>\n",
       "      <td>3.170</td>\n",
       "      <td>14.50</td>\n",
       "      <td>0</td>\n",
       "      <td>1</td>\n",
       "      <td>5</td>\n",
       "      <td>4</td>\n",
       "    </tr>\n",
       "    <tr>\n",
       "      <th>29</th>\n",
       "      <td>Ferrari Dino</td>\n",
       "      <td>19.7</td>\n",
       "      <td>6</td>\n",
       "      <td>145.0</td>\n",
       "      <td>175</td>\n",
       "      <td>3.62</td>\n",
       "      <td>2.770</td>\n",
       "      <td>15.50</td>\n",
       "      <td>0</td>\n",
       "      <td>1</td>\n",
       "      <td>5</td>\n",
       "      <td>6</td>\n",
       "    </tr>\n",
       "    <tr>\n",
       "      <th>30</th>\n",
       "      <td>Maserati Bora</td>\n",
       "      <td>15.0</td>\n",
       "      <td>8</td>\n",
       "      <td>301.0</td>\n",
       "      <td>335</td>\n",
       "      <td>3.54</td>\n",
       "      <td>3.570</td>\n",
       "      <td>14.60</td>\n",
       "      <td>0</td>\n",
       "      <td>1</td>\n",
       "      <td>5</td>\n",
       "      <td>8</td>\n",
       "    </tr>\n",
       "    <tr>\n",
       "      <th>31</th>\n",
       "      <td>Volvo 142E</td>\n",
       "      <td>21.4</td>\n",
       "      <td>4</td>\n",
       "      <td>121.0</td>\n",
       "      <td>109</td>\n",
       "      <td>4.11</td>\n",
       "      <td>2.780</td>\n",
       "      <td>18.60</td>\n",
       "      <td>1</td>\n",
       "      <td>1</td>\n",
       "      <td>4</td>\n",
       "      <td>2</td>\n",
       "    </tr>\n",
       "  </tbody>\n",
       "</table>\n",
       "</div>"
      ]
     },
     "execution_count": 4,
     "metadata": {},
     "output_type": "execute_result"
    }
   ],
   "execution_count": 4
  },
  {
   "metadata": {},
   "cell_type": "markdown",
   "source": "# Split X and y",
   "id": "8e4443878d3f6bf2"
  },
  {
   "metadata": {
    "ExecuteTime": {
     "end_time": "2024-07-25T14:51:54.862834Z",
     "start_time": "2024-07-25T14:51:54.861654Z"
    }
   },
   "cell_type": "code",
   "source": "TARGET_COL = \"mpg\"",
   "id": "ca86d4b670951c61",
   "outputs": [],
   "execution_count": 5
  },
  {
   "metadata": {
    "ExecuteTime": {
     "end_time": "2024-07-25T14:51:54.864311Z",
     "start_time": "2024-07-25T14:51:54.863275Z"
    }
   },
   "cell_type": "code",
   "source": "NON_NUMERIC_COLS = [\"model\"]",
   "id": "f9089e353c5ac8e1",
   "outputs": [],
   "execution_count": 6
  },
  {
   "metadata": {
    "ExecuteTime": {
     "end_time": "2024-07-25T14:51:54.867641Z",
     "start_time": "2024-07-25T14:51:54.864756Z"
    }
   },
   "cell_type": "code",
   "source": [
    "y = df[TARGET_COL]\n",
    "X = df.drop([TARGET_COL] + NON_NUMERIC_COLS,axis=1)"
   ],
   "id": "e00f0ccf1b3a4c09",
   "outputs": [],
   "execution_count": 7
  },
  {
   "metadata": {},
   "cell_type": "markdown",
   "source": "# Functions",
   "id": "4ee9d64483e400ff"
  },
  {
   "metadata": {
    "ExecuteTime": {
     "end_time": "2024-07-25T14:51:54.869352Z",
     "start_time": "2024-07-25T14:51:54.868124Z"
    }
   },
   "cell_type": "code",
   "source": [
    "random_state = 10 # For reproducibility\n",
    "num_sampled_rows = 4\n",
    "num_sampled_columns = 5"
   ],
   "id": "e6ee2422a8f1929",
   "outputs": [],
   "execution_count": 8
  },
  {
   "metadata": {
    "ExecuteTime": {
     "end_time": "2024-07-25T14:51:54.871514Z",
     "start_time": "2024-07-25T14:51:54.869943Z"
    }
   },
   "cell_type": "code",
   "source": "",
   "id": "36fc393461fb506b",
   "outputs": [],
   "execution_count": 8
  },
  {
   "metadata": {
    "ExecuteTime": {
     "end_time": "2024-07-25T14:51:54.875328Z",
     "start_time": "2024-07-25T14:51:54.873234Z"
    }
   },
   "cell_type": "code",
   "source": "indices = np.random.choice(df.index, num_sampled_rows, replace=False)",
   "id": "44d182cc658e7576",
   "outputs": [],
   "execution_count": 9
  },
  {
   "metadata": {
    "ExecuteTime": {
     "end_time": "2024-07-25T14:51:54.877333Z",
     "start_time": "2024-07-25T14:51:54.875684Z"
    }
   },
   "cell_type": "code",
   "source": [
    "# X_subset = X.sample(n=num_sampled_rows, random_state=random_state, axis=0)\n",
    "X_subset = X.iloc[indices]\n",
    "y_subset = y.iloc[indices]"
   ],
   "id": "32a80b5e4f685da2",
   "outputs": [],
   "execution_count": 10
  },
  {
   "metadata": {
    "ExecuteTime": {
     "end_time": "2024-07-25T14:51:54.879616Z",
     "start_time": "2024-07-25T14:51:54.877691Z"
    }
   },
   "cell_type": "code",
   "source": "X_subset = X_subset.sample(n=num_sampled_columns, random_state=random_state, axis=1)",
   "id": "6b43c71651b65f7c",
   "outputs": [],
   "execution_count": 11
  },
  {
   "metadata": {
    "ExecuteTime": {
     "end_time": "2024-07-25T14:51:54.883244Z",
     "start_time": "2024-07-25T14:51:54.880004Z"
    }
   },
   "cell_type": "code",
   "source": "X_subset",
   "id": "a54d18234f818324",
   "outputs": [
    {
     "data": {
      "text/plain": [
       "    gear   hp   qsec  vs  drat\n",
       "28     5  264  14.50   0  4.22\n",
       "9      4  123  18.30   1  3.92\n",
       "3      3  110  19.44   1  3.08\n",
       "22     3  150  17.30   0  3.15"
      ],
      "text/html": [
       "<div>\n",
       "<style scoped>\n",
       "    .dataframe tbody tr th:only-of-type {\n",
       "        vertical-align: middle;\n",
       "    }\n",
       "\n",
       "    .dataframe tbody tr th {\n",
       "        vertical-align: top;\n",
       "    }\n",
       "\n",
       "    .dataframe thead th {\n",
       "        text-align: right;\n",
       "    }\n",
       "</style>\n",
       "<table border=\"1\" class=\"dataframe\">\n",
       "  <thead>\n",
       "    <tr style=\"text-align: right;\">\n",
       "      <th></th>\n",
       "      <th>gear</th>\n",
       "      <th>hp</th>\n",
       "      <th>qsec</th>\n",
       "      <th>vs</th>\n",
       "      <th>drat</th>\n",
       "    </tr>\n",
       "  </thead>\n",
       "  <tbody>\n",
       "    <tr>\n",
       "      <th>28</th>\n",
       "      <td>5</td>\n",
       "      <td>264</td>\n",
       "      <td>14.50</td>\n",
       "      <td>0</td>\n",
       "      <td>4.22</td>\n",
       "    </tr>\n",
       "    <tr>\n",
       "      <th>9</th>\n",
       "      <td>4</td>\n",
       "      <td>123</td>\n",
       "      <td>18.30</td>\n",
       "      <td>1</td>\n",
       "      <td>3.92</td>\n",
       "    </tr>\n",
       "    <tr>\n",
       "      <th>3</th>\n",
       "      <td>3</td>\n",
       "      <td>110</td>\n",
       "      <td>19.44</td>\n",
       "      <td>1</td>\n",
       "      <td>3.08</td>\n",
       "    </tr>\n",
       "    <tr>\n",
       "      <th>22</th>\n",
       "      <td>3</td>\n",
       "      <td>150</td>\n",
       "      <td>17.30</td>\n",
       "      <td>0</td>\n",
       "      <td>3.15</td>\n",
       "    </tr>\n",
       "  </tbody>\n",
       "</table>\n",
       "</div>"
      ]
     },
     "execution_count": 12,
     "metadata": {},
     "output_type": "execute_result"
    }
   ],
   "execution_count": 12
  },
  {
   "metadata": {
    "ExecuteTime": {
     "end_time": "2024-07-25T14:51:54.885955Z",
     "start_time": "2024-07-25T14:51:54.883756Z"
    }
   },
   "cell_type": "code",
   "source": "y_subset",
   "id": "dbe431bec849fce0",
   "outputs": [
    {
     "data": {
      "text/plain": [
       "28    15.8\n",
       "9     19.2\n",
       "3     21.4\n",
       "22    15.2\n",
       "Name: mpg, dtype: float64"
      ]
     },
     "execution_count": 13,
     "metadata": {},
     "output_type": "execute_result"
    }
   ],
   "execution_count": 13
  },
  {
   "metadata": {},
   "cell_type": "markdown",
   "source": "# Split train and test and fit one model",
   "id": "8115d07e6213ac9e"
  },
  {
   "metadata": {},
   "cell_type": "markdown",
   "source": "TODO: Run this with the subsets not full data",
   "id": "d048a7191a4cbe0d"
  },
  {
   "metadata": {
    "ExecuteTime": {
     "end_time": "2024-07-25T14:51:54.888705Z",
     "start_time": "2024-07-25T14:51:54.886532Z"
    }
   },
   "cell_type": "code",
   "source": [
    "#X= X_subset\n",
    "#y= y_subset"
   ],
   "id": "f86fd31b24db2b06",
   "outputs": [],
   "execution_count": 14
  },
  {
   "metadata": {
    "ExecuteTime": {
     "end_time": "2024-07-25T14:51:54.891907Z",
     "start_time": "2024-07-25T14:51:54.889355Z"
    }
   },
   "cell_type": "code",
   "source": [
    "X_train, X_valid, y_train, y_valid = train_test_split(\n",
    "    X, y, test_size=0.50, random_state=42)"
   ],
   "id": "66c0e3a8db84717a",
   "outputs": [],
   "execution_count": 15
  },
  {
   "metadata": {
    "ExecuteTime": {
     "end_time": "2024-07-25T14:51:54.893595Z",
     "start_time": "2024-07-25T14:51:54.892336Z"
    }
   },
   "cell_type": "code",
   "source": "model = RandomForestRegressor()",
   "id": "b8b3c707a2069425",
   "outputs": [],
   "execution_count": 16
  },
  {
   "metadata": {
    "ExecuteTime": {
     "end_time": "2024-07-25T14:51:54.929677Z",
     "start_time": "2024-07-25T14:51:54.894077Z"
    }
   },
   "cell_type": "code",
   "source": [
    "model.fit(X_train, y_train)\n",
    "preds_valid = model.predict(X_valid)\n",
    "print(\"MAE: \", mean_absolute_error(y_valid, preds_valid))\n",
    "print(\"RMSE: \", root_mean_squared_error(y_valid, preds_valid))"
   ],
   "id": "60518589b426fa50",
   "outputs": [
    {
     "name": "stdout",
     "output_type": "stream",
     "text": [
      "MAE:  1.6484374999999987\n",
      "RMSE:  2.1430025519116853\n"
     ]
    }
   ],
   "execution_count": 17
  },
  {
   "metadata": {
    "ExecuteTime": {
     "end_time": "2024-07-25T14:51:54.931926Z",
     "start_time": "2024-07-25T14:51:54.930321Z"
    }
   },
   "cell_type": "code",
   "source": "model = linear_model.LinearRegression()",
   "id": "349b832685c0dc47",
   "outputs": [],
   "execution_count": 18
  },
  {
   "metadata": {
    "ExecuteTime": {
     "end_time": "2024-07-25T14:51:54.943329Z",
     "start_time": "2024-07-25T14:51:54.932464Z"
    }
   },
   "cell_type": "code",
   "source": [
    "model.fit(X_train, y_train)\n",
    "preds_valid = model.predict(X_valid)\n",
    "print(\"MAE: \", mean_absolute_error(y_valid, preds_valid))\n",
    "print(\"RMSE: \", root_mean_squared_error(y_valid, preds_valid))"
   ],
   "id": "2623eabfaa47fc37",
   "outputs": [
    {
     "name": "stdout",
     "output_type": "stream",
     "text": [
      "MAE:  4.495948962157878\n",
      "RMSE:  5.503421875972531\n"
     ]
    }
   ],
   "execution_count": 19
  },
  {
   "metadata": {
    "ExecuteTime": {
     "end_time": "2024-07-25T14:51:54.945758Z",
     "start_time": "2024-07-25T14:51:54.943910Z"
    }
   },
   "cell_type": "code",
   "source": "model = linear_model.Ridge(alpha=.5)",
   "id": "e18fb1c0c31c70da",
   "outputs": [],
   "execution_count": 20
  },
  {
   "metadata": {
    "ExecuteTime": {
     "end_time": "2024-07-25T14:51:54.953113Z",
     "start_time": "2024-07-25T14:51:54.946133Z"
    }
   },
   "cell_type": "code",
   "source": [
    "model.fit(X_train, y_train)\n",
    "preds_valid = model.predict(X_valid)\n",
    "print(\"MAE: \", mean_absolute_error(y_valid, preds_valid))\n",
    "print(\"RMSE: \", root_mean_squared_error(y_valid, preds_valid))"
   ],
   "id": "3fc6703af335c05e",
   "outputs": [
    {
     "name": "stdout",
     "output_type": "stream",
     "text": [
      "MAE:  2.9910012844823486\n",
      "RMSE:  3.5905385276849437\n"
     ]
    }
   ],
   "execution_count": 21
  },
  {
   "metadata": {
    "ExecuteTime": {
     "end_time": "2024-07-25T14:51:54.955001Z",
     "start_time": "2024-07-25T14:51:54.953716Z"
    }
   },
   "cell_type": "code",
   "source": "",
   "id": "cd28081934dac150",
   "outputs": [],
   "execution_count": 21
  },
  {
   "metadata": {},
   "cell_type": "markdown",
   "source": "Functions needed to get rmse by num parameters sampled",
   "id": "920fde9f4a02054f"
  },
  {
   "metadata": {
    "ExecuteTime": {
     "end_time": "2024-07-25T14:51:54.957620Z",
     "start_time": "2024-07-25T14:51:54.955407Z"
    }
   },
   "cell_type": "code",
   "source": [
    "def sample_rows_and_cols(X, y, num_sampled_rows: int, num_sampled_columns: int, random_state: int):\n",
    "    indices = np.random.choice(df.index, num_sampled_rows, replace=False)\n",
    "    X_subset = X.iloc[indices]\n",
    "    y_subset = y.iloc[indices]\n",
    "    X_subset = X_subset.sample(n=num_sampled_columns, random_state=random_state, axis=1)\n",
    "    return X_subset, y_subset"
   ],
   "id": "c54effd5504f7665",
   "outputs": [],
   "execution_count": 22
  },
  {
   "metadata": {
    "ExecuteTime": {
     "end_time": "2024-07-25T14:51:54.959572Z",
     "start_time": "2024-07-25T14:51:54.958135Z"
    }
   },
   "cell_type": "code",
   "source": [
    "random_state = 10 # For reproducibility\n",
    "num_sampled_rows = 4\n",
    "num_sampled_columns = 5"
   ],
   "id": "540a5c410956c16a",
   "outputs": [],
   "execution_count": 23
  },
  {
   "metadata": {
    "ExecuteTime": {
     "end_time": "2024-07-25T14:51:54.962585Z",
     "start_time": "2024-07-25T14:51:54.960081Z"
    }
   },
   "cell_type": "code",
   "source": "X_sub, y_sub = sample_rows_and_cols(X, y, num_sampled_rows, num_sampled_columns, random_state)",
   "id": "a9bb542c64f17e7e",
   "outputs": [],
   "execution_count": 24
  },
  {
   "metadata": {
    "ExecuteTime": {
     "end_time": "2024-07-25T14:51:54.964685Z",
     "start_time": "2024-07-25T14:51:54.963043Z"
    }
   },
   "cell_type": "code",
   "source": "X_sub.shape, len(y_sub)",
   "id": "1c11af9447734362",
   "outputs": [
    {
     "data": {
      "text/plain": [
       "((4, 5), 4)"
      ]
     },
     "execution_count": 25,
     "metadata": {},
     "output_type": "execute_result"
    }
   ],
   "execution_count": 25
  },
  {
   "metadata": {
    "ExecuteTime": {
     "end_time": "2024-07-25T14:51:54.968720Z",
     "start_time": "2024-07-25T14:51:54.967508Z"
    }
   },
   "cell_type": "code",
   "source": "model = linear_model.Ridge(alpha=.5)",
   "id": "3978994c0db27753",
   "outputs": [],
   "execution_count": 26
  },
  {
   "metadata": {
    "ExecuteTime": {
     "end_time": "2024-07-25T14:51:54.970636Z",
     "start_time": "2024-07-25T14:51:54.969129Z"
    }
   },
   "cell_type": "code",
   "source": [
    "def split_and_calc_metric(X, y, test_size, metric_func, random_state):\n",
    "    X_train, X_valid, y_train, y_valid = train_test_split(\n",
    "        X, y, test_size=test_size, random_state=random_state)\n",
    "    model.fit(X_train, y_train)\n",
    "    metric = metric_func(y_valid, model.predict(X_valid))\n",
    "    return metric"
   ],
   "id": "1673691b78d6212f",
   "outputs": [],
   "execution_count": 27
  },
  {
   "metadata": {
    "ExecuteTime": {
     "end_time": "2024-07-25T14:51:54.974361Z",
     "start_time": "2024-07-25T14:51:54.971141Z"
    }
   },
   "cell_type": "code",
   "source": "split_and_calc_metric(X_sub, y_sub, 0.5, root_mean_squared_error, random_state)",
   "id": "c04bf3e82ac1dbcc",
   "outputs": [
    {
     "data": {
      "text/plain": [
       "np.float64(5.875397988393388)"
      ]
     },
     "execution_count": 28,
     "metadata": {},
     "output_type": "execute_result"
    }
   ],
   "execution_count": 28
  },
  {
   "metadata": {
    "ExecuteTime": {
     "end_time": "2024-07-25T14:51:54.976737Z",
     "start_time": "2024-07-25T14:51:54.975124Z"
    }
   },
   "cell_type": "code",
   "source": [
    "def sample_and_calc_metric(X, y, num_sampled_rows, num_sampled_columns, test_size, metric_func, random_state):\n",
    "    X_sub, y_sub = sample_rows_and_cols(X, y, num_sampled_rows, num_sampled_columns, random_state+1)\n",
    "    metric = split_and_calc_metric(X_sub, y_sub, test_size, metric_func, random_state)\n",
    "    return metric"
   ],
   "id": "4e3fe639cbb75621",
   "outputs": [],
   "execution_count": 29
  },
  {
   "metadata": {
    "ExecuteTime": {
     "end_time": "2024-07-25T14:51:54.978484Z",
     "start_time": "2024-07-25T14:51:54.977196Z"
    }
   },
   "cell_type": "code",
   "source": [
    "def sample_it(num_sampled_column):\n",
    "    return sample_and_calc_metric(X, y, num_sampled_rows, num_sampled_columns, 0.5, root_mean_squared_error, random_state)"
   ],
   "id": "64042332613683ba",
   "outputs": [],
   "execution_count": 30
  },
  {
   "metadata": {
    "ExecuteTime": {
     "end_time": "2024-07-25T14:51:55.301361Z",
     "start_time": "2024-07-25T14:51:54.978962Z"
    }
   },
   "cell_type": "code",
   "source": [
    "num_samples = 40\n",
    "rmse_list = []\n",
    "for num_sampled_columns in range(1, X.shape[1]-1):\n",
    "    rmse_list.append((num_sampled_columns, [sample_it(num_sampled_columns) for _ in range(num_samples)]))"
   ],
   "id": "5e49cd8379ccb16a",
   "outputs": [],
   "execution_count": 31
  },
  {
   "metadata": {
    "ExecuteTime": {
     "end_time": "2024-07-25T14:51:55.303685Z",
     "start_time": "2024-07-25T14:51:55.302020Z"
    }
   },
   "cell_type": "code",
   "source": [
    "for key, values in rmse_list:\n",
    "    the_mean = np.mean(values)\n",
    "    print(f'num_cols: {key}, mean rmse: {the_mean:9.4f}')"
   ],
   "id": "d94d471d0b96eb12",
   "outputs": [
    {
     "name": "stdout",
     "output_type": "stream",
     "text": [
      "num_cols: 1, mean rmse:    7.2760\n",
      "num_cols: 2, mean rmse:    6.4455\n",
      "num_cols: 3, mean rmse:   10.5310\n",
      "num_cols: 4, mean rmse:    6.8735\n",
      "num_cols: 5, mean rmse:   10.8484\n",
      "num_cols: 6, mean rmse:    9.8522\n",
      "num_cols: 7, mean rmse:    5.4284\n",
      "num_cols: 8, mean rmse:    6.8766\n"
     ]
    }
   ],
   "execution_count": 32
  },
  {
   "metadata": {
    "ExecuteTime": {
     "end_time": "2024-07-25T14:51:55.305271Z",
     "start_time": "2024-07-25T14:51:55.304162Z"
    }
   },
   "cell_type": "code",
   "source": "",
   "id": "63f9972e568647b3",
   "outputs": [],
   "execution_count": 32
  },
  {
   "metadata": {},
   "cell_type": "markdown",
   "source": "# Using the package",
   "id": "74ae41d1aa6acc6d"
  },
  {
   "metadata": {
    "ExecuteTime": {
     "end_time": "2024-07-25T14:51:55.308176Z",
     "start_time": "2024-07-25T14:51:55.305661Z"
    }
   },
   "cell_type": "code",
   "source": "from double_descent_dar import sample_eval",
   "id": "6d962fdbb201615a",
   "outputs": [],
   "execution_count": 33
  },
  {
   "metadata": {
    "ExecuteTime": {
     "end_time": "2024-07-25T14:51:55.309948Z",
     "start_time": "2024-07-25T14:51:55.308666Z"
    }
   },
   "cell_type": "code",
   "source": [
    "random_state = 10 # For reproducibility\n",
    "num_sampled_rows = 10\n",
    "num_sampled_columns = 5"
   ],
   "id": "8f6c7152a2a68f52",
   "outputs": [],
   "execution_count": 34
  },
  {
   "metadata": {
    "ExecuteTime": {
     "end_time": "2024-07-25T14:51:55.312626Z",
     "start_time": "2024-07-25T14:51:55.310494Z"
    }
   },
   "cell_type": "code",
   "source": "X_sub, y_sub = sample_eval.sample_rows_and_cols(X, y, num_sampled_rows=num_sampled_rows, num_sampled_columns=num_sampled_columns, random_state=random_state, replace=False) ",
   "id": "64104e3e4be21ba3",
   "outputs": [],
   "execution_count": 35
  },
  {
   "metadata": {
    "ExecuteTime": {
     "end_time": "2024-07-25T14:51:55.316571Z",
     "start_time": "2024-07-25T14:51:55.313014Z"
    }
   },
   "cell_type": "code",
   "source": "X_sub",
   "id": "563e0f9180363fb4",
   "outputs": [
    {
     "data": {
      "text/plain": [
       "    gear   hp   qsec  vs  drat\n",
       "20     3   97  20.01   1  3.70\n",
       "22     3  150  17.30   0  3.15\n",
       "0      4  110  16.46   0  3.90\n",
       "30     5  335  14.60   0  3.54\n",
       "21     3  150  16.87   0  2.76\n",
       "3      3  110  19.44   1  3.08\n",
       "14     3  205  17.98   0  2.93\n",
       "24     3  175  17.05   0  3.08\n",
       "11     3  180  17.40   0  3.07\n",
       "27     5  113  16.90   1  3.77"
      ],
      "text/html": [
       "<div>\n",
       "<style scoped>\n",
       "    .dataframe tbody tr th:only-of-type {\n",
       "        vertical-align: middle;\n",
       "    }\n",
       "\n",
       "    .dataframe tbody tr th {\n",
       "        vertical-align: top;\n",
       "    }\n",
       "\n",
       "    .dataframe thead th {\n",
       "        text-align: right;\n",
       "    }\n",
       "</style>\n",
       "<table border=\"1\" class=\"dataframe\">\n",
       "  <thead>\n",
       "    <tr style=\"text-align: right;\">\n",
       "      <th></th>\n",
       "      <th>gear</th>\n",
       "      <th>hp</th>\n",
       "      <th>qsec</th>\n",
       "      <th>vs</th>\n",
       "      <th>drat</th>\n",
       "    </tr>\n",
       "  </thead>\n",
       "  <tbody>\n",
       "    <tr>\n",
       "      <th>20</th>\n",
       "      <td>3</td>\n",
       "      <td>97</td>\n",
       "      <td>20.01</td>\n",
       "      <td>1</td>\n",
       "      <td>3.70</td>\n",
       "    </tr>\n",
       "    <tr>\n",
       "      <th>22</th>\n",
       "      <td>3</td>\n",
       "      <td>150</td>\n",
       "      <td>17.30</td>\n",
       "      <td>0</td>\n",
       "      <td>3.15</td>\n",
       "    </tr>\n",
       "    <tr>\n",
       "      <th>0</th>\n",
       "      <td>4</td>\n",
       "      <td>110</td>\n",
       "      <td>16.46</td>\n",
       "      <td>0</td>\n",
       "      <td>3.90</td>\n",
       "    </tr>\n",
       "    <tr>\n",
       "      <th>30</th>\n",
       "      <td>5</td>\n",
       "      <td>335</td>\n",
       "      <td>14.60</td>\n",
       "      <td>0</td>\n",
       "      <td>3.54</td>\n",
       "    </tr>\n",
       "    <tr>\n",
       "      <th>21</th>\n",
       "      <td>3</td>\n",
       "      <td>150</td>\n",
       "      <td>16.87</td>\n",
       "      <td>0</td>\n",
       "      <td>2.76</td>\n",
       "    </tr>\n",
       "    <tr>\n",
       "      <th>3</th>\n",
       "      <td>3</td>\n",
       "      <td>110</td>\n",
       "      <td>19.44</td>\n",
       "      <td>1</td>\n",
       "      <td>3.08</td>\n",
       "    </tr>\n",
       "    <tr>\n",
       "      <th>14</th>\n",
       "      <td>3</td>\n",
       "      <td>205</td>\n",
       "      <td>17.98</td>\n",
       "      <td>0</td>\n",
       "      <td>2.93</td>\n",
       "    </tr>\n",
       "    <tr>\n",
       "      <th>24</th>\n",
       "      <td>3</td>\n",
       "      <td>175</td>\n",
       "      <td>17.05</td>\n",
       "      <td>0</td>\n",
       "      <td>3.08</td>\n",
       "    </tr>\n",
       "    <tr>\n",
       "      <th>11</th>\n",
       "      <td>3</td>\n",
       "      <td>180</td>\n",
       "      <td>17.40</td>\n",
       "      <td>0</td>\n",
       "      <td>3.07</td>\n",
       "    </tr>\n",
       "    <tr>\n",
       "      <th>27</th>\n",
       "      <td>5</td>\n",
       "      <td>113</td>\n",
       "      <td>16.90</td>\n",
       "      <td>1</td>\n",
       "      <td>3.77</td>\n",
       "    </tr>\n",
       "  </tbody>\n",
       "</table>\n",
       "</div>"
      ]
     },
     "execution_count": 36,
     "metadata": {},
     "output_type": "execute_result"
    }
   ],
   "execution_count": 36
  },
  {
   "metadata": {
    "ExecuteTime": {
     "end_time": "2024-07-25T14:51:55.319586Z",
     "start_time": "2024-07-25T14:51:55.317194Z"
    }
   },
   "cell_type": "code",
   "source": "y_sub",
   "id": "647dca7b07f04e4a",
   "outputs": [
    {
     "data": {
      "text/plain": [
       "20    21.5\n",
       "22    15.2\n",
       "0     21.0\n",
       "30    15.0\n",
       "21    15.5\n",
       "3     21.4\n",
       "14    10.4\n",
       "24    19.2\n",
       "11    16.4\n",
       "27    30.4\n",
       "Name: mpg, dtype: float64"
      ]
     },
     "execution_count": 37,
     "metadata": {},
     "output_type": "execute_result"
    }
   ],
   "execution_count": 37
  },
  {
   "metadata": {
    "ExecuteTime": {
     "end_time": "2024-07-25T14:51:55.321412Z",
     "start_time": "2024-07-25T14:51:55.320006Z"
    }
   },
   "cell_type": "code",
   "source": [
    "# model = RandomForestRegressor()\n",
    "model = linear_model.LinearRegression()"
   ],
   "id": "f62fd18d90e7a6fe",
   "outputs": [],
   "execution_count": 38
  },
  {
   "metadata": {
    "ExecuteTime": {
     "end_time": "2024-07-25T14:51:55.323360Z",
     "start_time": "2024-07-25T14:51:55.321877Z"
    }
   },
   "cell_type": "code",
   "source": [
    "my_metric = root_mean_squared_error\n",
    "# my_metric = mean_absolute_error"
   ],
   "id": "10d9b7f0d2e577e5",
   "outputs": [],
   "execution_count": 39
  },
  {
   "metadata": {
    "ExecuteTime": {
     "end_time": "2024-07-25T14:51:55.328042Z",
     "start_time": "2024-07-25T14:51:55.323706Z"
    }
   },
   "cell_type": "code",
   "source": [
    "train_proportion = 0.5\n",
    "sample_and_calc_metric(X, y, num_sampled_rows, num_sampled_columns, train_proportion, my_metric, random_state=1)"
   ],
   "id": "c4b6e238f823c2eb",
   "outputs": [
    {
     "data": {
      "text/plain": [
       "np.float64(7.308202420481995)"
      ]
     },
     "execution_count": 40,
     "metadata": {},
     "output_type": "execute_result"
    }
   ],
   "execution_count": 40
  },
  {
   "metadata": {
    "ExecuteTime": {
     "end_time": "2024-07-25T14:51:55.329887Z",
     "start_time": "2024-07-25T14:51:55.328555Z"
    }
   },
   "cell_type": "code",
   "source": [
    "def sample_by_num_cols(num_sampled_columns_local):\n",
    "    return sample_and_calc_metric(X, y, num_sampled_rows, num_sampled_columns_local, train_proportion, my_metric, random_state=1)"
   ],
   "id": "470c0a2cf691d5a5",
   "outputs": [],
   "execution_count": 41
  },
  {
   "metadata": {
    "ExecuteTime": {
     "end_time": "2024-07-25T14:51:56.298264Z",
     "start_time": "2024-07-25T14:51:55.330301Z"
    }
   },
   "cell_type": "code",
   "source": [
    "num_samples = 100\n",
    "metric_all_samples = []\n",
    "for num_sampled_columns in range(1, X.shape[1]-1):\n",
    "    metric_all_samples.append((num_sampled_columns, [sample_by_num_cols(num_sampled_columns) for _ in range(num_samples)]))"
   ],
   "id": "d7325206424428ea",
   "outputs": [],
   "execution_count": 42
  },
  {
   "metadata": {
    "ExecuteTime": {
     "end_time": "2024-07-25T14:51:56.302225Z",
     "start_time": "2024-07-25T14:51:56.299509Z"
    }
   },
   "cell_type": "code",
   "source": [
    "for key, values in metric_all_samples:\n",
    "    the_mean = np.mean(values)\n",
    "    print(f'num_cols: {key}, mean rmse: {the_mean:9.4f}')"
   ],
   "id": "dbf9285b78f9aad0",
   "outputs": [
    {
     "name": "stdout",
     "output_type": "stream",
     "text": [
      "num_cols: 1, mean rmse:    3.7858\n",
      "num_cols: 2, mean rmse:    4.5757\n",
      "num_cols: 3, mean rmse:    6.5632\n",
      "num_cols: 4, mean rmse:   21.0947\n",
      "num_cols: 5, mean rmse:    8.3871\n",
      "num_cols: 6, mean rmse:   57.4328\n",
      "num_cols: 7, mean rmse:    9.8003\n",
      "num_cols: 8, mean rmse:    8.1102\n"
     ]
    }
   ],
   "execution_count": 43
  },
  {
   "metadata": {
    "ExecuteTime": {
     "end_time": "2024-07-25T14:51:56.304787Z",
     "start_time": "2024-07-25T14:51:56.303006Z"
    }
   },
   "cell_type": "code",
   "source": "metric_means = [(col_val_tuple[0], np.mean(col_val_tuple[1])) for col_val_tuple in metric_all_samples]",
   "id": "f451a12836473549",
   "outputs": [],
   "execution_count": 44
  },
  {
   "metadata": {
    "ExecuteTime": {
     "end_time": "2024-07-25T14:51:56.307462Z",
     "start_time": "2024-07-25T14:51:56.305711Z"
    }
   },
   "cell_type": "code",
   "source": [
    "res = list(zip(*metric_means))\n",
    "num_cols = res[0]\n",
    "means = res[1]"
   ],
   "id": "cb17a7d97a7ad5b9",
   "outputs": [],
   "execution_count": 45
  },
  {
   "metadata": {
    "ExecuteTime": {
     "end_time": "2024-07-25T14:51:56.310745Z",
     "start_time": "2024-07-25T14:51:56.308244Z"
    }
   },
   "cell_type": "code",
   "source": "my_metric.__name__",
   "id": "1c71c61f70371b",
   "outputs": [
    {
     "data": {
      "text/plain": [
       "'root_mean_squared_error'"
      ]
     },
     "execution_count": 46,
     "metadata": {},
     "output_type": "execute_result"
    }
   ],
   "execution_count": 46
  },
  {
   "metadata": {
    "ExecuteTime": {
     "end_time": "2024-07-25T14:51:56.374447Z",
     "start_time": "2024-07-25T14:51:56.311440Z"
    }
   },
   "cell_type": "code",
   "source": [
    "plt.scatter(num_cols, means)\n",
    "plt.xlabel(\"Num sampled columns\")\n",
    "plt.ylabel(\"Mean of \" + my_metric.__name__)\n",
    "plt.show()"
   ],
   "id": "a458ae115d906c9d",
   "outputs": [
    {
     "data": {
      "text/plain": [
       "<Figure size 640x480 with 1 Axes>"
      ],
      "image/png": "[encoded data removed]"
     },
     "metadata": {},
     "output_type": "display_data"
    }
   ],
   "execution_count": 47
  },
  {
   "metadata": {
    "ExecuteTime": {
     "end_time": "2024-07-25T14:51:56.376436Z",
     "start_time": "2024-07-25T14:51:56.375064Z"
    }
   },
   "cell_type": "code",
   "source": "",
   "id": "c95a78770578c745",
   "outputs": [],
   "execution_count": 47
  }
 ],
 "metadata": {
  "kernelspec": {
   "display_name": "Python 3",
   "language": "python",
   "name": "python3"
  },
  "language_info": {
   "codemirror_mode": {
    "name": "ipython",
    "version": 2
   },
   "file_extension": ".py",
   "mimetype": "text/x-python",
   "name": "python",
   "nbconvert_exporter": "python",
   "pygments_lexer": "ipython2",
   "version": "2.7.6"
  }
 },
 "nbformat": 4,
 "nbformat_minor": 5
}
