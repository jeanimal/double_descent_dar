{
 "cells": [
  {
   "cell_type": "markdown",
   "id": "9a3884187b7f4019",
   "metadata": {},
   "source": [
    "# Observing \"impossible\" double descent in simple linear regression"
   ]
  },
  {
   "cell_type": "markdown",
   "id": "cd03d0be01071c04",
   "metadata": {},
   "source": [
    "Double descent is the empirical observation that test error (also called prediction error or out of sample error) rises with more parameter added to the model but sometimes can can also \"descend\" again as more parameters are added.  Traditional bias-variance theory led many to believe this should be impossible.  There was a U-curved \"sweet spot\" of optimal test error with only a few parameters.  Simple math shows that sampling variance increases as more parameters are added (in the absence of regularization).\n",
    "\n",
    "More specifically, the U curve has various regions:\n",
    " * With fewer parameters than the \"sweet spot,\" the model **underfits** the data; training error and test error are both high. \n",
    " * With more parameters than the sweet spot, the model **overfits** the data, meaning the parameters are fitting noise rather than signal; as a result training error is low but test error is high.\n",
    "So... how could adding even more parameters avoid the curve of overfitting?\n",
    "\n",
    "At first, the empirical observation of double descent was assumed to be due to  special features of deep learning or neural nets.  But in the 2020's, double descent was observed in linear regression, too.  It was a shock.  Various researchers then started developing the theory on how, when, and where linear regression can exhibit double descent, including the Dar et al. (2023) paper cited below.  The Dar paper greatly inspired me.\n",
    "\n",
    "But the math is complicated.  Code is simpler.  So this notebook illustrates the bias-variance trade-off and double descent in a linear regression model using simple python libraries.  These also help us test our intuitions by running different variations.  I also address an objection by Curth et al. (2023)."
   ]
  },
  {
   "cell_type": "markdown",
   "id": "fae063846b830307",
   "metadata": {},
   "source": [
    "# Libraries"
   ]
  },
  {
   "cell_type": "code",
   "id": "initial_id",
   "metadata": {
    "collapsed": true,
    "jupyter": {
     "outputs_hidden": true
    },
    "ExecuteTime": {
     "end_time": "2024-09-02T14:17:51.855459Z",
     "start_time": "2024-09-02T14:17:51.695290Z"
    }
   },
   "source": [
    "import numpy as np\n",
    "import pandas as pd\n",
    "import warnings\n",
    "\n",
    "import matplotlib.pyplot as plt\n",
    "import seaborn as sns\n",
    "from sklearn.metrics import mean_absolute_error, root_mean_squared_error\n",
    "# from sklearn.ensemble import RandomForestRegressor\n",
    "from sklearn import linear_model"
   ],
   "outputs": [],
   "execution_count": 1
  },
  {
   "cell_type": "markdown",
   "id": "eed787219daef47c",
   "metadata": {},
   "source": [
    "# Data set"
   ]
  },
  {
   "cell_type": "markdown",
   "id": "f801e81d8967712f",
   "metadata": {},
   "source": [
    "Here I load a data set to analyze.  In an earlier [R version of this notebook](https://github.com/jeanimal/farewell_bias_variance), I used the \"mtcars\" data set which has data on various models in Motor Trend cars of the year.\n",
    "\n",
    "The goal is to predict the miles per gallon (mpg) of various models based on their other characteristics."
   ]
  },
  {
   "cell_type": "code",
   "id": "2f6b82fc51e0d3b7",
   "metadata": {
    "ExecuteTime": {
     "end_time": "2024-09-02T14:17:52.030563Z",
     "start_time": "2024-09-02T14:17:52.027831Z"
    }
   },
   "source": [
    "import os\n",
    "notebook_path = os.path.abspath(\"double_descent_mtcars_reg.ipynb\")\n",
    "print(notebook_path)\n",
    "csv_path = os.path.join(os.path.dirname(notebook_path), \"data/mt_cars.csv\")\n",
    "print(csv_path)"
   ],
   "outputs": [
    {
     "name": "stdout",
     "output_type": "stream",
     "text": [
      "/Users/jeanortega/PycharmProjects/pythonProject1/double_descent_mtcars_reg.ipynb\n",
      "/Users/jeanortega/PycharmProjects/pythonProject1/data/mt_cars.csv\n"
     ]
    }
   ],
   "execution_count": 2
  },
  {
   "cell_type": "code",
   "id": "17f671c041e3a9f3",
   "metadata": {
    "ExecuteTime": {
     "end_time": "2024-09-02T14:17:52.064610Z",
     "start_time": "2024-09-02T14:17:52.056703Z"
    }
   },
   "source": [
    "df = pd.read_csv(csv_path)"
   ],
   "outputs": [],
   "execution_count": 3
  },
  {
   "cell_type": "code",
   "id": "6c74bee6a1a3c3c3",
   "metadata": {
    "ExecuteTime": {
     "end_time": "2024-09-02T14:17:52.106989Z",
     "start_time": "2024-09-02T14:17:52.098561Z"
    }
   },
   "source": [
    "df.head()"
   ],
   "outputs": [
    {
     "data": {
      "text/plain": [
       "               model   mpg  cyl   disp   hp  drat     wt   qsec  vs  am  gear  \\\n",
       "0          Mazda RX4  21.0    6  160.0  110  3.90  2.620  16.46   0   1     4   \n",
       "1      Mazda RX4 Wag  21.0    6  160.0  110  3.90  2.875  17.02   0   1     4   \n",
       "2         Datsun 710  22.8    4  108.0   93  3.85  2.320  18.61   1   1     4   \n",
       "3     Hornet 4 Drive  21.4    6  258.0  110  3.08  3.215  19.44   1   0     3   \n",
       "4  Hornet Sportabout  18.7    8  360.0  175  3.15  3.440  17.02   0   0     3   \n",
       "\n",
       "   carb  \n",
       "0     4  \n",
       "1     4  \n",
       "2     1  \n",
       "3     1  \n",
       "4     2  "
      ],
      "text/html": [
       "<div>\n",
       "<style scoped>\n",
       "    .dataframe tbody tr th:only-of-type {\n",
       "        vertical-align: middle;\n",
       "    }\n",
       "\n",
       "    .dataframe tbody tr th {\n",
       "        vertical-align: top;\n",
       "    }\n",
       "\n",
       "    .dataframe thead th {\n",
       "        text-align: right;\n",
       "    }\n",
       "</style>\n",
       "<table border=\"1\" class=\"dataframe\">\n",
       "  <thead>\n",
       "    <tr style=\"text-align: right;\">\n",
       "      <th></th>\n",
       "      <th>model</th>\n",
       "      <th>mpg</th>\n",
       "      <th>cyl</th>\n",
       "      <th>disp</th>\n",
       "      <th>hp</th>\n",
       "      <th>drat</th>\n",
       "      <th>wt</th>\n",
       "      <th>qsec</th>\n",
       "      <th>vs</th>\n",
       "      <th>am</th>\n",
       "      <th>gear</th>\n",
       "      <th>carb</th>\n",
       "    </tr>\n",
       "  </thead>\n",
       "  <tbody>\n",
       "    <tr>\n",
       "      <th>0</th>\n",
       "      <td>Mazda RX4</td>\n",
       "      <td>21.0</td>\n",
       "      <td>6</td>\n",
       "      <td>160.0</td>\n",
       "      <td>110</td>\n",
       "      <td>3.90</td>\n",
       "      <td>2.620</td>\n",
       "      <td>16.46</td>\n",
       "      <td>0</td>\n",
       "      <td>1</td>\n",
       "      <td>4</td>\n",
       "      <td>4</td>\n",
       "    </tr>\n",
       "    <tr>\n",
       "      <th>1</th>\n",
       "      <td>Mazda RX4 Wag</td>\n",
       "      <td>21.0</td>\n",
       "      <td>6</td>\n",
       "      <td>160.0</td>\n",
       "      <td>110</td>\n",
       "      <td>3.90</td>\n",
       "      <td>2.875</td>\n",
       "      <td>17.02</td>\n",
       "      <td>0</td>\n",
       "      <td>1</td>\n",
       "      <td>4</td>\n",
       "      <td>4</td>\n",
       "    </tr>\n",
       "    <tr>\n",
       "      <th>2</th>\n",
       "      <td>Datsun 710</td>\n",
       "      <td>22.8</td>\n",
       "      <td>4</td>\n",
       "      <td>108.0</td>\n",
       "      <td>93</td>\n",
       "      <td>3.85</td>\n",
       "      <td>2.320</td>\n",
       "      <td>18.61</td>\n",
       "      <td>1</td>\n",
       "      <td>1</td>\n",
       "      <td>4</td>\n",
       "      <td>1</td>\n",
       "    </tr>\n",
       "    <tr>\n",
       "      <th>3</th>\n",
       "      <td>Hornet 4 Drive</td>\n",
       "      <td>21.4</td>\n",
       "      <td>6</td>\n",
       "      <td>258.0</td>\n",
       "      <td>110</td>\n",
       "      <td>3.08</td>\n",
       "      <td>3.215</td>\n",
       "      <td>19.44</td>\n",
       "      <td>1</td>\n",
       "      <td>0</td>\n",
       "      <td>3</td>\n",
       "      <td>1</td>\n",
       "    </tr>\n",
       "    <tr>\n",
       "      <th>4</th>\n",
       "      <td>Hornet Sportabout</td>\n",
       "      <td>18.7</td>\n",
       "      <td>8</td>\n",
       "      <td>360.0</td>\n",
       "      <td>175</td>\n",
       "      <td>3.15</td>\n",
       "      <td>3.440</td>\n",
       "      <td>17.02</td>\n",
       "      <td>0</td>\n",
       "      <td>0</td>\n",
       "      <td>3</td>\n",
       "      <td>2</td>\n",
       "    </tr>\n",
       "  </tbody>\n",
       "</table>\n",
       "</div>"
      ]
     },
     "execution_count": 4,
     "metadata": {},
     "output_type": "execute_result"
    }
   ],
   "execution_count": 4
  },
  {
   "cell_type": "markdown",
   "id": "8e4443878d3f6bf2",
   "metadata": {},
   "source": [
    "# Split X and y"
   ]
  },
  {
   "cell_type": "markdown",
   "id": "e7d0726fac745221",
   "metadata": {},
   "source": [
    "Here we put the data in a standard format for sklearn's model estimtion and error metrics.  If you use your own data set, you will need to tweak the target column and remove the non-numeric columns-- or code them into numbers, e.g. with one-hot encoding."
   ]
  },
  {
   "cell_type": "code",
   "id": "ca86d4b670951c61",
   "metadata": {
    "ExecuteTime": {
     "end_time": "2024-09-02T14:17:52.121115Z",
     "start_time": "2024-09-02T14:17:52.117403Z"
    }
   },
   "source": [
    "TARGET_COL = \"mpg\""
   ],
   "outputs": [],
   "execution_count": 5
  },
  {
   "cell_type": "code",
   "id": "f9089e353c5ac8e1",
   "metadata": {
    "ExecuteTime": {
     "end_time": "2024-09-02T14:17:52.136497Z",
     "start_time": "2024-09-02T14:17:52.134660Z"
    }
   },
   "source": [
    "NON_NUMERIC_COLS = [\"model\"]"
   ],
   "outputs": [],
   "execution_count": 6
  },
  {
   "cell_type": "code",
   "id": "e00f0ccf1b3a4c09",
   "metadata": {
    "ExecuteTime": {
     "end_time": "2024-09-02T14:17:52.171354Z",
     "start_time": "2024-09-02T14:17:52.168648Z"
    }
   },
   "source": [
    "y = df[TARGET_COL]\n",
    "X = df.drop([TARGET_COL] + NON_NUMERIC_COLS,axis=1)"
   ],
   "outputs": [],
   "execution_count": 7
  },
  {
   "cell_type": "markdown",
   "id": "4ee9d64483e400ff",
   "metadata": {},
   "source": [
    "# Making the study of overparameterization easier"
   ]
  },
  {
   "cell_type": "markdown",
   "id": "1dd880ff908277bb",
   "metadata": {},
   "source": [
    "In this section, I summarize functions to sample our data by the number of rows and columns.\n",
    "\n",
    "Why?\n",
    "\n",
    "To study bias-variance and double descent, we need to view our model estimation in terms of the overparameterization ratio, defined as:\n",
    "\n",
    "      `overparametrization ratio = num_parameters / num_rows`\n",
    "\n",
    " The overparametrization ratio distinguish these classes of behavior:\n",
    "    * less than 1: uncerparameterized (where we will see bias-variance U curves)\n",
    "    * equal to 1: interpolating\n",
    "    * greater than 1: overparameterized (where we might see the right half of double descent).\n",
    "\n",
    "In many estimation models, the number of parameters is closely related to the number of columns. For example, in ordinary least squares (OLS) regression without an intercept, the number of parameters equals the number of columns, and when there is an intercept, the number of parameters is number of columns + 1.\n",
    "\n",
    "However, sklearn's train_test_split function takes a proportion of taining rows as input and always uses all columns of the data set.  So I wrote wrappers to directly control the number of training rows and columns.\n",
    "\n",
    "The overparameterization ratio is described in this paper:\n",
    "    Hastie, T., Montanari, A., Rosset, S., & Tibshirani, R. J. (2020). Surprises in High-Dimensional\n",
    "    Ridgeless Least Squares Interpolation. http://arxiv.org/abs/1903.08560\n"
   ]
  },
  {
   "cell_type": "markdown",
   "id": "cab9def38a32afaf",
   "metadata": {},
   "source": [
    "Below I do manual sampling of rows and columns to give an idea of the goal."
   ]
  },
  {
   "cell_type": "code",
   "id": "e6ee2422a8f1929",
   "metadata": {
    "ExecuteTime": {
     "end_time": "2024-09-02T14:17:52.184882Z",
     "start_time": "2024-09-02T14:17:52.181592Z"
    }
   },
   "source": [
    "rng = np.random.RandomState(10) # For reproducibility\n",
    "num_sampled_rows = 4\n",
    "num_sampled_columns = 5"
   ],
   "outputs": [],
   "execution_count": 8
  },
  {
   "cell_type": "code",
   "id": "44d182cc658e7576",
   "metadata": {
    "ExecuteTime": {
     "end_time": "2024-09-02T14:17:52.216795Z",
     "start_time": "2024-09-02T14:17:52.214251Z"
    }
   },
   "source": [
    "row_indices = rng.choice(df.index, num_sampled_rows, replace=False)"
   ],
   "outputs": [],
   "execution_count": 9
  },
  {
   "cell_type": "code",
   "id": "32a80b5e4f685da2",
   "metadata": {
    "ExecuteTime": {
     "end_time": "2024-09-02T14:17:52.241460Z",
     "start_time": "2024-09-02T14:17:52.238403Z"
    }
   },
   "source": [
    "X_subset = X.iloc[row_indices]\n",
    "y_subset = y.iloc[row_indices]"
   ],
   "outputs": [],
   "execution_count": 10
  },
  {
   "cell_type": "code",
   "id": "6b43c71651b65f7c",
   "metadata": {
    "ExecuteTime": {
     "end_time": "2024-09-02T14:17:52.261150Z",
     "start_time": "2024-09-02T14:17:52.258950Z"
    }
   },
   "source": [
    "X_subset = X_subset.sample(n=num_sampled_columns, random_state=rng, axis=1)"
   ],
   "outputs": [],
   "execution_count": 11
  },
  {
   "cell_type": "code",
   "id": "a54d18234f818324",
   "metadata": {
    "ExecuteTime": {
     "end_time": "2024-09-02T14:17:52.303810Z",
     "start_time": "2024-09-02T14:17:52.300010Z"
    }
   },
   "source": [
    "X_subset"
   ],
   "outputs": [
    {
     "data": {
      "text/plain": [
       "     hp  cyl  carb   qsec     wt\n",
       "20   97    4     1  20.01  2.465\n",
       "7    62    4     2  20.00  3.190\n",
       "5   105    6     1  20.22  3.460\n",
       "2    93    4     1  18.61  2.320"
      ],
      "text/html": [
       "<div>\n",
       "<style scoped>\n",
       "    .dataframe tbody tr th:only-of-type {\n",
       "        vertical-align: middle;\n",
       "    }\n",
       "\n",
       "    .dataframe tbody tr th {\n",
       "        vertical-align: top;\n",
       "    }\n",
       "\n",
       "    .dataframe thead th {\n",
       "        text-align: right;\n",
       "    }\n",
       "</style>\n",
       "<table border=\"1\" class=\"dataframe\">\n",
       "  <thead>\n",
       "    <tr style=\"text-align: right;\">\n",
       "      <th></th>\n",
       "      <th>hp</th>\n",
       "      <th>cyl</th>\n",
       "      <th>carb</th>\n",
       "      <th>qsec</th>\n",
       "      <th>wt</th>\n",
       "    </tr>\n",
       "  </thead>\n",
       "  <tbody>\n",
       "    <tr>\n",
       "      <th>20</th>\n",
       "      <td>97</td>\n",
       "      <td>4</td>\n",
       "      <td>1</td>\n",
       "      <td>20.01</td>\n",
       "      <td>2.465</td>\n",
       "    </tr>\n",
       "    <tr>\n",
       "      <th>7</th>\n",
       "      <td>62</td>\n",
       "      <td>4</td>\n",
       "      <td>2</td>\n",
       "      <td>20.00</td>\n",
       "      <td>3.190</td>\n",
       "    </tr>\n",
       "    <tr>\n",
       "      <th>5</th>\n",
       "      <td>105</td>\n",
       "      <td>6</td>\n",
       "      <td>1</td>\n",
       "      <td>20.22</td>\n",
       "      <td>3.460</td>\n",
       "    </tr>\n",
       "    <tr>\n",
       "      <th>2</th>\n",
       "      <td>93</td>\n",
       "      <td>4</td>\n",
       "      <td>1</td>\n",
       "      <td>18.61</td>\n",
       "      <td>2.320</td>\n",
       "    </tr>\n",
       "  </tbody>\n",
       "</table>\n",
       "</div>"
      ]
     },
     "execution_count": 12,
     "metadata": {},
     "output_type": "execute_result"
    }
   ],
   "execution_count": 12
  },
  {
   "cell_type": "code",
   "id": "dbe431bec849fce0",
   "metadata": {
    "ExecuteTime": {
     "end_time": "2024-09-02T14:17:52.340421Z",
     "start_time": "2024-09-02T14:17:52.338176Z"
    }
   },
   "source": [
    "y_subset"
   ],
   "outputs": [
    {
     "data": {
      "text/plain": [
       "20    21.5\n",
       "7     24.4\n",
       "5     18.1\n",
       "2     22.8\n",
       "Name: mpg, dtype: float64"
      ]
     },
     "execution_count": 13,
     "metadata": {},
     "output_type": "execute_result"
    }
   ],
   "execution_count": 13
  },
  {
   "cell_type": "markdown",
   "id": "74ae41d1aa6acc6d",
   "metadata": {},
   "source": [
    "## Using the package just to sample rows and columns"
   ]
  },
  {
   "cell_type": "markdown",
   "id": "5834a459151175e1",
   "metadata": {},
   "source": [
    "I have a python package to help sample a dataframe in a way that makes it easy to control the rows and columns, which helps us control the overparameterization ratio, defined as the number of parameters / number of rows."
   ]
  },
  {
   "cell_type": "code",
   "id": "6d962fdbb201615a",
   "metadata": {
    "ExecuteTime": {
     "end_time": "2024-09-02T14:17:52.350609Z",
     "start_time": "2024-09-02T14:17:52.346884Z"
    }
   },
   "source": [
    "from double_descent_dar import sample_eval"
   ],
   "outputs": [],
   "execution_count": 14
  },
  {
   "cell_type": "code",
   "id": "8f6c7152a2a68f52",
   "metadata": {
    "ExecuteTime": {
     "end_time": "2024-09-02T14:17:52.366370Z",
     "start_time": "2024-09-02T14:17:52.364289Z"
    }
   },
   "source": [
    "random_state = np.random.RandomState(15) # For reproducibility\n",
    "num_sampled_rows = 3\n",
    "num_sampled_columns = 4"
   ],
   "outputs": [],
   "execution_count": 15
  },
  {
   "cell_type": "code",
   "id": "fddfb904178f467c",
   "metadata": {
    "ExecuteTime": {
     "end_time": "2024-09-02T14:17:52.430666Z",
     "start_time": "2024-09-02T14:17:52.426137Z"
    }
   },
   "source": [
    "X_train, X_test, y_train, y_test = sample_eval.train_test_split_by_rows_and_cols(X, y, num_train_rows=num_sampled_rows, num_columns=num_sampled_columns, replace=False, random_state=random_state, verbose=True)"
   ],
   "outputs": [
    {
     "name": "stdout",
     "output_type": "stream",
     "text": [
      "using train_size 0.09375\n"
     ]
    }
   ],
   "execution_count": 16
  },
  {
   "cell_type": "code",
   "id": "30d9414e82534d94",
   "metadata": {
    "ExecuteTime": {
     "end_time": "2024-09-02T14:17:52.479050Z",
     "start_time": "2024-09-02T14:17:52.472804Z"
    }
   },
   "source": [
    "X_train"
   ],
   "outputs": [
    {
     "data": {
      "text/plain": [
       "     hp  vs   disp  drat\n",
       "17   66   1   78.7  4.08\n",
       "29  175   0  145.0  3.62\n",
       "15  215   0  460.0  3.00"
      ],
      "text/html": [
       "<div>\n",
       "<style scoped>\n",
       "    .dataframe tbody tr th:only-of-type {\n",
       "        vertical-align: middle;\n",
       "    }\n",
       "\n",
       "    .dataframe tbody tr th {\n",
       "        vertical-align: top;\n",
       "    }\n",
       "\n",
       "    .dataframe thead th {\n",
       "        text-align: right;\n",
       "    }\n",
       "</style>\n",
       "<table border=\"1\" class=\"dataframe\">\n",
       "  <thead>\n",
       "    <tr style=\"text-align: right;\">\n",
       "      <th></th>\n",
       "      <th>hp</th>\n",
       "      <th>vs</th>\n",
       "      <th>disp</th>\n",
       "      <th>drat</th>\n",
       "    </tr>\n",
       "  </thead>\n",
       "  <tbody>\n",
       "    <tr>\n",
       "      <th>17</th>\n",
       "      <td>66</td>\n",
       "      <td>1</td>\n",
       "      <td>78.7</td>\n",
       "      <td>4.08</td>\n",
       "    </tr>\n",
       "    <tr>\n",
       "      <th>29</th>\n",
       "      <td>175</td>\n",
       "      <td>0</td>\n",
       "      <td>145.0</td>\n",
       "      <td>3.62</td>\n",
       "    </tr>\n",
       "    <tr>\n",
       "      <th>15</th>\n",
       "      <td>215</td>\n",
       "      <td>0</td>\n",
       "      <td>460.0</td>\n",
       "      <td>3.00</td>\n",
       "    </tr>\n",
       "  </tbody>\n",
       "</table>\n",
       "</div>"
      ]
     },
     "execution_count": 17,
     "metadata": {},
     "output_type": "execute_result"
    }
   ],
   "execution_count": 17
  },
  {
   "cell_type": "code",
   "id": "92fd45fdcd4f03aa",
   "metadata": {
    "ExecuteTime": {
     "end_time": "2024-09-02T14:17:52.568599Z",
     "start_time": "2024-09-02T14:17:52.566133Z"
    }
   },
   "source": [
    "y_train"
   ],
   "outputs": [
    {
     "data": {
      "text/plain": [
       "17    32.4\n",
       "29    19.7\n",
       "15    10.4\n",
       "Name: mpg, dtype: float64"
      ]
     },
     "execution_count": 18,
     "metadata": {},
     "output_type": "execute_result"
    }
   ],
   "execution_count": 18
  },
  {
   "cell_type": "markdown",
   "id": "f4460d9477b640f1",
   "metadata": {},
   "source": [
    "What we will do is fit a linear regression on this data and then measure out of sample error.\n"
   ]
  },
  {
   "cell_type": "code",
   "id": "f62fd18d90e7a6fe",
   "metadata": {
    "ExecuteTime": {
     "end_time": "2024-09-02T14:17:52.676894Z",
     "start_time": "2024-09-02T14:17:52.672756Z"
    }
   },
   "source": [
    "model = linear_model.LinearRegression(fit_intercept=True)"
   ],
   "outputs": [],
   "execution_count": 19
  },
  {
   "cell_type": "code",
   "id": "e64308095bccd89f",
   "metadata": {
    "ExecuteTime": {
     "end_time": "2024-09-02T14:17:52.766407Z",
     "start_time": "2024-09-02T14:17:52.747643Z"
    }
   },
   "source": [
    "model.fit(X_train, y_train)"
   ],
   "outputs": [
    {
     "data": {
      "text/plain": [
       "LinearRegression()"
      ],
      "text/html": [
       "<style>#sk-container-id-1 {\n",
       "  /* Definition of color scheme common for light and dark mode */\n",
       "  --sklearn-color-text: black;\n",
       "  --sklearn-color-line: gray;\n",
       "  /* Definition of color scheme for unfitted estimators */\n",
       "  --sklearn-color-unfitted-level-0: #fff5e6;\n",
       "  --sklearn-color-unfitted-level-1: #f6e4d2;\n",
       "  --sklearn-color-unfitted-level-2: #ffe0b3;\n",
       "  --sklearn-color-unfitted-level-3: chocolate;\n",
       "  /* Definition of color scheme for fitted estimators */\n",
       "  --sklearn-color-fitted-level-0: #f0f8ff;\n",
       "  --sklearn-color-fitted-level-1: #d4ebff;\n",
       "  --sklearn-color-fitted-level-2: #b3dbfd;\n",
       "  --sklearn-color-fitted-level-3: cornflowerblue;\n",
       "\n",
       "  /* Specific color for light theme */\n",
       "  --sklearn-color-text-on-default-background: var(--sg-text-color, var(--theme-code-foreground, var(--jp-content-font-color1, black)));\n",
       "  --sklearn-color-background: var(--sg-background-color, var(--theme-background, var(--jp-layout-color0, white)));\n",
       "  --sklearn-color-border-box: var(--sg-text-color, var(--theme-code-foreground, var(--jp-content-font-color1, black)));\n",
       "  --sklearn-color-icon: #696969;\n",
       "\n",
       "  @media (prefers-color-scheme: dark) {\n",
       "    /* Redefinition of color scheme for dark theme */\n",
       "    --sklearn-color-text-on-default-background: var(--sg-text-color, var(--theme-code-foreground, var(--jp-content-font-color1, white)));\n",
       "    --sklearn-color-background: var(--sg-background-color, var(--theme-background, var(--jp-layout-color0, #111)));\n",
       "    --sklearn-color-border-box: var(--sg-text-color, var(--theme-code-foreground, var(--jp-content-font-color1, white)));\n",
       "    --sklearn-color-icon: #878787;\n",
       "  }\n",
       "}\n",
       "\n",
       "#sk-container-id-1 {\n",
       "  color: var(--sklearn-color-text);\n",
       "}\n",
       "\n",
       "#sk-container-id-1 pre {\n",
       "  padding: 0;\n",
       "}\n",
       "\n",
       "#sk-container-id-1 input.sk-hidden--visually {\n",
       "  border: 0;\n",
       "  clip: rect(1px 1px 1px 1px);\n",
       "  clip: rect(1px, 1px, 1px, 1px);\n",
       "  height: 1px;\n",
       "  margin: -1px;\n",
       "  overflow: hidden;\n",
       "  padding: 0;\n",
       "  position: absolute;\n",
       "  width: 1px;\n",
       "}\n",
       "\n",
       "#sk-container-id-1 div.sk-dashed-wrapped {\n",
       "  border: 1px dashed var(--sklearn-color-line);\n",
       "  margin: 0 0.4em 0.5em 0.4em;\n",
       "  box-sizing: border-box;\n",
       "  padding-bottom: 0.4em;\n",
       "  background-color: var(--sklearn-color-background);\n",
       "}\n",
       "\n",
       "#sk-container-id-1 div.sk-container {\n",
       "  /* jupyter's `normalize.less` sets `[hidden] { display: none; }`\n",
       "     but bootstrap.min.css set `[hidden] { display: none !important; }`\n",
       "     so we also need the `!important` here to be able to override the\n",
       "     default hidden behavior on the sphinx rendered scikit-learn.org.\n",
       "     See: https://github.com/scikit-learn/scikit-learn/issues/21755 */\n",
       "  display: inline-block !important;\n",
       "  position: relative;\n",
       "}\n",
       "\n",
       "#sk-container-id-1 div.sk-text-repr-fallback {\n",
       "  display: none;\n",
       "}\n",
       "\n",
       "div.sk-parallel-item,\n",
       "div.sk-serial,\n",
       "div.sk-item {\n",
       "  /* draw centered vertical line to link estimators */\n",
       "  background-image: linear-gradient(var(--sklearn-color-text-on-default-background), var(--sklearn-color-text-on-default-background));\n",
       "  background-size: 2px 100%;\n",
       "  background-repeat: no-repeat;\n",
       "  background-position: center center;\n",
       "}\n",
       "\n",
       "/* Parallel-specific style estimator block */\n",
       "\n",
       "#sk-container-id-1 div.sk-parallel-item::after {\n",
       "  content: \"\";\n",
       "  width: 100%;\n",
       "  border-bottom: 2px solid var(--sklearn-color-text-on-default-background);\n",
       "  flex-grow: 1;\n",
       "}\n",
       "\n",
       "#sk-container-id-1 div.sk-parallel {\n",
       "  display: flex;\n",
       "  align-items: stretch;\n",
       "  justify-content: center;\n",
       "  background-color: var(--sklearn-color-background);\n",
       "  position: relative;\n",
       "}\n",
       "\n",
       "#sk-container-id-1 div.sk-parallel-item {\n",
       "  display: flex;\n",
       "  flex-direction: column;\n",
       "}\n",
       "\n",
       "#sk-container-id-1 div.sk-parallel-item:first-child::after {\n",
       "  align-self: flex-end;\n",
       "  width: 50%;\n",
       "}\n",
       "\n",
       "#sk-container-id-1 div.sk-parallel-item:last-child::after {\n",
       "  align-self: flex-start;\n",
       "  width: 50%;\n",
       "}\n",
       "\n",
       "#sk-container-id-1 div.sk-parallel-item:only-child::after {\n",
       "  width: 0;\n",
       "}\n",
       "\n",
       "/* Serial-specific style estimator block */\n",
       "\n",
       "#sk-container-id-1 div.sk-serial {\n",
       "  display: flex;\n",
       "  flex-direction: column;\n",
       "  align-items: center;\n",
       "  background-color: var(--sklearn-color-background);\n",
       "  padding-right: 1em;\n",
       "  padding-left: 1em;\n",
       "}\n",
       "\n",
       "\n",
       "/* Toggleable style: style used for estimator/Pipeline/ColumnTransformer box that is\n",
       "clickable and can be expanded/collapsed.\n",
       "- Pipeline and ColumnTransformer use this feature and define the default style\n",
       "- Estimators will overwrite some part of the style using the `sk-estimator` class\n",
       "*/\n",
       "\n",
       "/* Pipeline and ColumnTransformer style (default) */\n",
       "\n",
       "#sk-container-id-1 div.sk-toggleable {\n",
       "  /* Default theme specific background. It is overwritten whether we have a\n",
       "  specific estimator or a Pipeline/ColumnTransformer */\n",
       "  background-color: var(--sklearn-color-background);\n",
       "}\n",
       "\n",
       "/* Toggleable label */\n",
       "#sk-container-id-1 label.sk-toggleable__label {\n",
       "  cursor: pointer;\n",
       "  display: block;\n",
       "  width: 100%;\n",
       "  margin-bottom: 0;\n",
       "  padding: 0.5em;\n",
       "  box-sizing: border-box;\n",
       "  text-align: center;\n",
       "}\n",
       "\n",
       "#sk-container-id-1 label.sk-toggleable__label-arrow:before {\n",
       "  /* Arrow on the left of the label */\n",
       "  content: \"▸\";\n",
       "  float: left;\n",
       "  margin-right: 0.25em;\n",
       "  color: var(--sklearn-color-icon);\n",
       "}\n",
       "\n",
       "#sk-container-id-1 label.sk-toggleable__label-arrow:hover:before {\n",
       "  color: var(--sklearn-color-text);\n",
       "}\n",
       "\n",
       "/* Toggleable content - dropdown */\n",
       "\n",
       "#sk-container-id-1 div.sk-toggleable__content {\n",
       "  max-height: 0;\n",
       "  max-width: 0;\n",
       "  overflow: hidden;\n",
       "  text-align: left;\n",
       "  /* unfitted */\n",
       "  background-color: var(--sklearn-color-unfitted-level-0);\n",
       "}\n",
       "\n",
       "#sk-container-id-1 div.sk-toggleable__content.fitted {\n",
       "  /* fitted */\n",
       "  background-color: var(--sklearn-color-fitted-level-0);\n",
       "}\n",
       "\n",
       "#sk-container-id-1 div.sk-toggleable__content pre {\n",
       "  margin: 0.2em;\n",
       "  border-radius: 0.25em;\n",
       "  color: var(--sklearn-color-text);\n",
       "  /* unfitted */\n",
       "  background-color: var(--sklearn-color-unfitted-level-0);\n",
       "}\n",
       "\n",
       "#sk-container-id-1 div.sk-toggleable__content.fitted pre {\n",
       "  /* unfitted */\n",
       "  background-color: var(--sklearn-color-fitted-level-0);\n",
       "}\n",
       "\n",
       "#sk-container-id-1 input.sk-toggleable__control:checked~div.sk-toggleable__content {\n",
       "  /* Expand drop-down */\n",
       "  max-height: 200px;\n",
       "  max-width: 100%;\n",
       "  overflow: auto;\n",
       "}\n",
       "\n",
       "#sk-container-id-1 input.sk-toggleable__control:checked~label.sk-toggleable__label-arrow:before {\n",
       "  content: \"▾\";\n",
       "}\n",
       "\n",
       "/* Pipeline/ColumnTransformer-specific style */\n",
       "\n",
       "#sk-container-id-1 div.sk-label input.sk-toggleable__control:checked~label.sk-toggleable__label {\n",
       "  color: var(--sklearn-color-text);\n",
       "  background-color: var(--sklearn-color-unfitted-level-2);\n",
       "}\n",
       "\n",
       "#sk-container-id-1 div.sk-label.fitted input.sk-toggleable__control:checked~label.sk-toggleable__label {\n",
       "  background-color: var(--sklearn-color-fitted-level-2);\n",
       "}\n",
       "\n",
       "/* Estimator-specific style */\n",
       "\n",
       "/* Colorize estimator box */\n",
       "#sk-container-id-1 div.sk-estimator input.sk-toggleable__control:checked~label.sk-toggleable__label {\n",
       "  /* unfitted */\n",
       "  background-color: var(--sklearn-color-unfitted-level-2);\n",
       "}\n",
       "\n",
       "#sk-container-id-1 div.sk-estimator.fitted input.sk-toggleable__control:checked~label.sk-toggleable__label {\n",
       "  /* fitted */\n",
       "  background-color: var(--sklearn-color-fitted-level-2);\n",
       "}\n",
       "\n",
       "#sk-container-id-1 div.sk-label label.sk-toggleable__label,\n",
       "#sk-container-id-1 div.sk-label label {\n",
       "  /* The background is the default theme color */\n",
       "  color: var(--sklearn-color-text-on-default-background);\n",
       "}\n",
       "\n",
       "/* On hover, darken the color of the background */\n",
       "#sk-container-id-1 div.sk-label:hover label.sk-toggleable__label {\n",
       "  color: var(--sklearn-color-text);\n",
       "  background-color: var(--sklearn-color-unfitted-level-2);\n",
       "}\n",
       "\n",
       "/* Label box, darken color on hover, fitted */\n",
       "#sk-container-id-1 div.sk-label.fitted:hover label.sk-toggleable__label.fitted {\n",
       "  color: var(--sklearn-color-text);\n",
       "  background-color: var(--sklearn-color-fitted-level-2);\n",
       "}\n",
       "\n",
       "/* Estimator label */\n",
       "\n",
       "#sk-container-id-1 div.sk-label label {\n",
       "  font-family: monospace;\n",
       "  font-weight: bold;\n",
       "  display: inline-block;\n",
       "  line-height: 1.2em;\n",
       "}\n",
       "\n",
       "#sk-container-id-1 div.sk-label-container {\n",
       "  text-align: center;\n",
       "}\n",
       "\n",
       "/* Estimator-specific */\n",
       "#sk-container-id-1 div.sk-estimator {\n",
       "  font-family: monospace;\n",
       "  border: 1px dotted var(--sklearn-color-border-box);\n",
       "  border-radius: 0.25em;\n",
       "  box-sizing: border-box;\n",
       "  margin-bottom: 0.5em;\n",
       "  /* unfitted */\n",
       "  background-color: var(--sklearn-color-unfitted-level-0);\n",
       "}\n",
       "\n",
       "#sk-container-id-1 div.sk-estimator.fitted {\n",
       "  /* fitted */\n",
       "  background-color: var(--sklearn-color-fitted-level-0);\n",
       "}\n",
       "\n",
       "/* on hover */\n",
       "#sk-container-id-1 div.sk-estimator:hover {\n",
       "  /* unfitted */\n",
       "  background-color: var(--sklearn-color-unfitted-level-2);\n",
       "}\n",
       "\n",
       "#sk-container-id-1 div.sk-estimator.fitted:hover {\n",
       "  /* fitted */\n",
       "  background-color: var(--sklearn-color-fitted-level-2);\n",
       "}\n",
       "\n",
       "/* Specification for estimator info (e.g. \"i\" and \"?\") */\n",
       "\n",
       "/* Common style for \"i\" and \"?\" */\n",
       "\n",
       ".sk-estimator-doc-link,\n",
       "a:link.sk-estimator-doc-link,\n",
       "a:visited.sk-estimator-doc-link {\n",
       "  float: right;\n",
       "  font-size: smaller;\n",
       "  line-height: 1em;\n",
       "  font-family: monospace;\n",
       "  background-color: var(--sklearn-color-background);\n",
       "  border-radius: 1em;\n",
       "  height: 1em;\n",
       "  width: 1em;\n",
       "  text-decoration: none !important;\n",
       "  margin-left: 1ex;\n",
       "  /* unfitted */\n",
       "  border: var(--sklearn-color-unfitted-level-1) 1pt solid;\n",
       "  color: var(--sklearn-color-unfitted-level-1);\n",
       "}\n",
       "\n",
       ".sk-estimator-doc-link.fitted,\n",
       "a:link.sk-estimator-doc-link.fitted,\n",
       "a:visited.sk-estimator-doc-link.fitted {\n",
       "  /* fitted */\n",
       "  border: var(--sklearn-color-fitted-level-1) 1pt solid;\n",
       "  color: var(--sklearn-color-fitted-level-1);\n",
       "}\n",
       "\n",
       "/* On hover */\n",
       "div.sk-estimator:hover .sk-estimator-doc-link:hover,\n",
       ".sk-estimator-doc-link:hover,\n",
       "div.sk-label-container:hover .sk-estimator-doc-link:hover,\n",
       ".sk-estimator-doc-link:hover {\n",
       "  /* unfitted */\n",
       "  background-color: var(--sklearn-color-unfitted-level-3);\n",
       "  color: var(--sklearn-color-background);\n",
       "  text-decoration: none;\n",
       "}\n",
       "\n",
       "div.sk-estimator.fitted:hover .sk-estimator-doc-link.fitted:hover,\n",
       ".sk-estimator-doc-link.fitted:hover,\n",
       "div.sk-label-container:hover .sk-estimator-doc-link.fitted:hover,\n",
       ".sk-estimator-doc-link.fitted:hover {\n",
       "  /* fitted */\n",
       "  background-color: var(--sklearn-color-fitted-level-3);\n",
       "  color: var(--sklearn-color-background);\n",
       "  text-decoration: none;\n",
       "}\n",
       "\n",
       "/* Span, style for the box shown on hovering the info icon */\n",
       ".sk-estimator-doc-link span {\n",
       "  display: none;\n",
       "  z-index: 9999;\n",
       "  position: relative;\n",
       "  font-weight: normal;\n",
       "  right: .2ex;\n",
       "  padding: .5ex;\n",
       "  margin: .5ex;\n",
       "  width: min-content;\n",
       "  min-width: 20ex;\n",
       "  max-width: 50ex;\n",
       "  color: var(--sklearn-color-text);\n",
       "  box-shadow: 2pt 2pt 4pt #999;\n",
       "  /* unfitted */\n",
       "  background: var(--sklearn-color-unfitted-level-0);\n",
       "  border: .5pt solid var(--sklearn-color-unfitted-level-3);\n",
       "}\n",
       "\n",
       ".sk-estimator-doc-link.fitted span {\n",
       "  /* fitted */\n",
       "  background: var(--sklearn-color-fitted-level-0);\n",
       "  border: var(--sklearn-color-fitted-level-3);\n",
       "}\n",
       "\n",
       ".sk-estimator-doc-link:hover span {\n",
       "  display: block;\n",
       "}\n",
       "\n",
       "/* \"?\"-specific style due to the `<a>` HTML tag */\n",
       "\n",
       "#sk-container-id-1 a.estimator_doc_link {\n",
       "  float: right;\n",
       "  font-size: 1rem;\n",
       "  line-height: 1em;\n",
       "  font-family: monospace;\n",
       "  background-color: var(--sklearn-color-background);\n",
       "  border-radius: 1rem;\n",
       "  height: 1rem;\n",
       "  width: 1rem;\n",
       "  text-decoration: none;\n",
       "  /* unfitted */\n",
       "  color: var(--sklearn-color-unfitted-level-1);\n",
       "  border: var(--sklearn-color-unfitted-level-1) 1pt solid;\n",
       "}\n",
       "\n",
       "#sk-container-id-1 a.estimator_doc_link.fitted {\n",
       "  /* fitted */\n",
       "  border: var(--sklearn-color-fitted-level-1) 1pt solid;\n",
       "  color: var(--sklearn-color-fitted-level-1);\n",
       "}\n",
       "\n",
       "/* On hover */\n",
       "#sk-container-id-1 a.estimator_doc_link:hover {\n",
       "  /* unfitted */\n",
       "  background-color: var(--sklearn-color-unfitted-level-3);\n",
       "  color: var(--sklearn-color-background);\n",
       "  text-decoration: none;\n",
       "}\n",
       "\n",
       "#sk-container-id-1 a.estimator_doc_link.fitted:hover {\n",
       "  /* fitted */\n",
       "  background-color: var(--sklearn-color-fitted-level-3);\n",
       "}\n",
       "</style><div id=\"sk-container-id-1\" class=\"sk-top-container\"><div class=\"sk-text-repr-fallback\"><pre>LinearRegression()</pre><b>In a Jupyter environment, please rerun this cell to show the HTML representation or trust the notebook. <br />On GitHub, the HTML representation is unable to render, please try loading this page with nbviewer.org.</b></div><div class=\"sk-container\" hidden><div class=\"sk-item\"><div class=\"sk-estimator fitted sk-toggleable\"><input class=\"sk-toggleable__control sk-hidden--visually\" id=\"sk-estimator-id-1\" type=\"checkbox\" checked><label for=\"sk-estimator-id-1\" class=\"sk-toggleable__label fitted sk-toggleable__label-arrow fitted\">&nbsp;&nbsp;LinearRegression<a class=\"sk-estimator-doc-link fitted\" rel=\"noreferrer\" target=\"_blank\" href=\"https://scikit-learn.org/1.5/modules/generated/sklearn.linear_model.LinearRegression.html\">?<span>Documentation for LinearRegression</span></a><span class=\"sk-estimator-doc-link fitted\">i<span>Fitted</span></span></label><div class=\"sk-toggleable__content fitted\"><pre>LinearRegression()</pre></div> </div></div></div></div>"
      ]
     },
     "execution_count": 20,
     "metadata": {},
     "output_type": "execute_result"
    }
   ],
   "execution_count": 20
  },
  {
   "cell_type": "code",
   "id": "10d9b7f0d2e577e5",
   "metadata": {
    "ExecuteTime": {
     "end_time": "2024-09-02T14:17:52.859201Z",
     "start_time": "2024-09-02T14:17:52.856113Z"
    }
   },
   "source": [
    "my_metric = root_mean_squared_error\n",
    "# my_metric = mean_absolute_error"
   ],
   "outputs": [],
   "execution_count": 21
  },
  {
   "cell_type": "code",
   "id": "726945e27ad5b70e",
   "metadata": {
    "ExecuteTime": {
     "end_time": "2024-09-02T14:17:53.056358Z",
     "start_time": "2024-09-02T14:17:52.998390Z"
    }
   },
   "source": [
    "train_error = my_metric(y_train, model.predict(X_train))\n",
    "train_error"
   ],
   "outputs": [
    {
     "data": {
      "text/plain": [
       "np.float64(1.2685725232129475e-14)"
      ]
     },
     "execution_count": 22,
     "metadata": {},
     "output_type": "execute_result"
    }
   ],
   "execution_count": 22
  },
  {
   "cell_type": "code",
   "id": "b54bc935c4ed9d33",
   "metadata": {
    "ExecuteTime": {
     "end_time": "2024-09-02T14:17:53.288489Z",
     "start_time": "2024-09-02T14:17:53.270503Z"
    }
   },
   "source": [
    "test_error = my_metric(y_test, model.predict(X_test))\n",
    "test_error"
   ],
   "outputs": [
    {
     "data": {
      "text/plain": [
       "np.float64(5.635025655963682)"
      ]
     },
     "execution_count": 23,
     "metadata": {},
     "output_type": "execute_result"
    }
   ],
   "execution_count": 23
  },
  {
   "cell_type": "markdown",
   "id": "5fd8cc416c9453b3",
   "metadata": {},
   "source": [
    "As expected, train error (in-sample fit) is lower than test error (out of sample)."
   ]
  },
  {
   "cell_type": "markdown",
   "id": "fdb3ef5b982c73a7",
   "metadata": {},
   "source": [
    "We will do this again and again and look at the mean metric value for combinations of number of rows and columns."
   ]
  },
  {
   "cell_type": "markdown",
   "id": "468c3f23c238ddb",
   "metadata": {},
   "source": [
    "# Bias-variance U curve"
   ]
  },
  {
   "cell_type": "markdown",
   "id": "feedcfd9e6d0f44a",
   "metadata": {},
   "source": [
    "Seeing a traditional bias-variance U curve requires that the number of parameters should be a lot less than the number of rows.  Since the data set has 9 columns, we will need a lot more rows. This section will sample 15 rows (out of a total of 32) to train on.\n",
    "\n",
    "We will sample between 2 and 8 columns (out of a total of 10 numeric columns) to see how the error metric varies by the number of parameters."
   ]
  },
  {
   "cell_type": "markdown",
   "id": "6f14289cbf6c79cb",
   "metadata": {},
   "source": [
    "Note that the regression used here includes an intercept, so 8 columns + 1 intercept -> 9 parameters.  With 15 rows to train on, full interpolation would be reached with 15 columns."
   ]
  },
  {
   "cell_type": "code",
   "id": "7492ae8aeb7c67a",
   "metadata": {
    "ExecuteTime": {
     "end_time": "2024-09-02T14:17:53.427024Z",
     "start_time": "2024-09-02T14:17:53.419265Z"
    }
   },
   "source": [
    "X.shape"
   ],
   "outputs": [
    {
     "data": {
      "text/plain": [
       "(32, 10)"
      ]
     },
     "execution_count": 24,
     "metadata": {},
     "output_type": "execute_result"
    }
   ],
   "execution_count": 24
  },
  {
   "cell_type": "code",
   "id": "ea7437fe5175ee7",
   "metadata": {
    "ExecuteTime": {
     "end_time": "2024-09-02T14:17:53.611458Z",
     "start_time": "2024-09-02T14:17:53.603699Z"
    }
   },
   "source": [
    "num_train_rows = 15"
   ],
   "outputs": [],
   "execution_count": 25
  },
  {
   "cell_type": "code",
   "id": "309d781835ccb2",
   "metadata": {
    "ExecuteTime": {
     "end_time": "2024-09-02T14:17:53.714451Z",
     "start_time": "2024-09-02T14:17:53.711972Z"
    }
   },
   "source": [
    "model = linear_model.LinearRegression(fit_intercept=True)"
   ],
   "outputs": [],
   "execution_count": 26
  },
  {
   "cell_type": "markdown",
   "id": "6fbc182c1858e63",
   "metadata": {},
   "source": [
    "We will look at the train and test error with the root mean squared metric, the metric minimized by Ordinary Least Squares (OLS)-- although OLS minimizes only training (in-sample) error. "
   ]
  },
  {
   "cell_type": "code",
   "id": "dbde127003acf47a",
   "metadata": {
    "ExecuteTime": {
     "end_time": "2024-09-02T14:17:53.732659Z",
     "start_time": "2024-09-02T14:17:53.730909Z"
    }
   },
   "source": [
    "metric = root_mean_squared_error\n",
    "metrics = [\n",
    "        sample_eval.MetricTuple('train', metric_func=metric, dataset_type=sample_eval.DatasetType.train),\n",
    "        sample_eval.MetricTuple('test', metric_func=metric, dataset_type=sample_eval.DatasetType.test)\n",
    "    ]"
   ],
   "outputs": [],
   "execution_count": 27
  },
  {
   "cell_type": "code",
   "id": "676c917033e6c577",
   "metadata": {
    "ExecuteTime": {
     "end_time": "2024-09-02T14:17:57.212593Z",
     "start_time": "2024-09-02T14:17:53.747498Z"
    }
   },
   "source": [
    "num_samples = 300\n",
    "random_state = np.random.RandomState(11)  # set for reproducibility\n",
    "num_columns_list = range(1, X.shape[1])\n",
    "metric_dict = sample_eval.sample_and_calc_metrics_by_rows_and_cols(\n",
    "    X, y, num_train_rows, num_columns_list=num_columns_list, model=model,\n",
    "    metric_tuples=metrics, num_samples=num_samples,\n",
    "    replace=False, random_state=random_state)"
   ],
   "outputs": [],
   "execution_count": 28
  },
  {
   "cell_type": "markdown",
   "id": "d5d9314c62747569",
   "metadata": {},
   "source": [
    "Below we see the mean training error decreases for more columns sampled.  Starting at 6 columns sampled, mean root mean square error drops below 2.0.\n",
    "\n",
    "In contrast, mean test error goes down but then goes back up.   Mean test error reaches its minimum at 3 columns sampled, at a value of ~3.45. "
   ]
  },
  {
   "cell_type": "code",
   "id": "b0bc450f7f072953",
   "metadata": {
    "ExecuteTime": {
     "end_time": "2024-09-02T14:17:57.218584Z",
     "start_time": "2024-09-02T14:17:57.214160Z"
    }
   },
   "source": [
    "print(pd.DataFrame({\n",
    "    'cols':num_columns_list,\n",
    "    'train': np.mean(metric_dict['train'], axis=0),\n",
    "    'test': np.mean(metric_dict['test'], axis=0)}).to_string(index=False))"
   ],
   "outputs": [
    {
     "name": "stdout",
     "output_type": "stream",
     "text": [
      " cols    train     test\n",
      "    1 3.876230 4.545854\n",
      "    2 3.066004 3.924209\n",
      "    3 2.591921 3.454348\n",
      "    4 2.293291 3.515853\n",
      "    5 2.094819 3.647092\n",
      "    6 1.953831 3.845990\n",
      "    7 1.776364 4.208101\n",
      "    8 1.613586 4.822576\n",
      "    9 1.491465 5.442986\n"
     ]
    }
   ],
   "execution_count": 29
  },
  {
   "cell_type": "markdown",
   "id": "db18e32b12b05ddc",
   "metadata": {},
   "source": [
    "Let's plot test error to see the classic U shape."
   ]
  },
  {
   "cell_type": "code",
   "id": "a458ae115d906c9d",
   "metadata": {
    "ExecuteTime": {
     "end_time": "2024-09-02T14:17:57.335225Z",
     "start_time": "2024-09-02T14:17:57.219470Z"
    }
   },
   "source": [
    "plt.scatter(num_columns_list, np.mean(metric_dict['test'], axis=0), label='test')\n",
    "plt.xlabel(\"Num sampled columns\")\n",
    "plt.ylabel(\"Mean of \" + my_metric.__name__)\n",
    "plt.legend()\n",
    "plt.show()"
   ],
   "outputs": [
    {
     "data": {
      "text/plain": [
       "<Figure size 640x480 with 1 Axes>"
      ],
      "image/png": "[encoded data removed]"
     },
     "metadata": {},
     "output_type": "display_data"
    }
   ],
   "execution_count": 30
  },
  {
   "cell_type": "markdown",
   "id": "aefb99dddbc20e07",
   "metadata": {},
   "source": [
    "The test error (in orange) display a beautiful U shape.  The linear regression's lowest average test (out-of-sample) error was achieved at 4 columns, which with the intercept means 5 parameters to fit.  This is much less than the 9 columns available in the data set.\n",
    "\n",
    "(There is no simple theory that predicts what the optimal number of parameters will be.) \n"
   ]
  },
  {
   "cell_type": "markdown",
   "id": "2505bacb327efdd0",
   "metadata": {},
   "source": [
    "Now let's look at a plot that includes the training error.  Notice that the training error continues to decrease as more columns are added."
   ]
  },
  {
   "cell_type": "code",
   "id": "5f77fffd1318acca",
   "metadata": {
    "ExecuteTime": {
     "end_time": "2024-09-02T14:17:57.404572Z",
     "start_time": "2024-09-02T14:17:57.337625Z"
    }
   },
   "source": [
    "plt.scatter(num_columns_list, np.mean(metric_dict['test'], axis=0), label='test')\n",
    "plt.scatter(num_columns_list, np.mean(metric_dict['train'], axis=0), label='train')\n",
    "plt.xlabel(\"Num sampled columns\")\n",
    "plt.ylabel(\"Mean of \" + my_metric.__name__)\n",
    "plt.legend()\n",
    "plt.show()"
   ],
   "outputs": [
    {
     "data": {
      "text/plain": [
       "<Figure size 640x480 with 1 Axes>"
      ],
      "image/png": "[encoded data removed]"
     },
     "metadata": {},
     "output_type": "display_data"
    }
   ],
   "execution_count": 31
  },
  {
   "cell_type": "markdown",
   "id": "403b642f573546b5",
   "metadata": {},
   "source": [
    "## Double descent"
   ]
  },
  {
   "cell_type": "markdown",
   "id": "d6197abaf8b716c4",
   "metadata": {},
   "source": [
    "A paper by Dar et al. (), called \"Farewell to Bias Variance?\" showed mathematically that double descent could be exhibited by linear regression under certain conditions. \n",
    "\n",
    "The paper: \n",
    "Yehuda Dar, Muthukumar, V., & Baraniuk, R. (2021). A Farewell to the Bias-Variance Tradeoff? An Overview of the Theory of Overparameterized Machine Learning. https://arxiv.org/abs/2109.02355\n"
   ]
  },
  {
   "cell_type": "markdown",
   "id": "b9c477192eeba6f9",
   "metadata": {},
   "source": [
    "Here I show double descent empirically on the mtcars data set (widely used by R users)."
   ]
  },
  {
   "cell_type": "markdown",
   "id": "b65d29fbef9694e4",
   "metadata": {},
   "source": [
    "Seeing double descent requires that the number of parameters should be a lot MORE than the number of rows. Since the data set has only 9 columns, we achieve this with a trick-- sampling fewer rows.\n",
    "\n",
    "This section will train on 7 rows (out of a total of 32).\n",
    "\n",
    "As before, will sample between 2 and 8 columns (out of a total of 9 columns) to see how the error metric varies by the number of parameters.  "
   ]
  },
  {
   "cell_type": "markdown",
   "id": "e42159c2bbfc8fd9",
   "metadata": {},
   "source": [
    "The linear regression model will be able to fully interpolate the data at 7 columns because it is fit to 7 rows."
   ]
  },
  {
   "cell_type": "code",
   "id": "94f7bb946771084c",
   "metadata": {
    "ExecuteTime": {
     "end_time": "2024-09-02T14:17:57.406723Z",
     "start_time": "2024-09-02T14:17:57.405096Z"
    }
   },
   "source": [
    "num_train_rows = 7\n",
    "model = linear_model.LinearRegression(fit_intercept=True)"
   ],
   "outputs": [],
   "execution_count": 32
  },
  {
   "cell_type": "markdown",
   "id": "b20653a5969cf874",
   "metadata": {},
   "source": [
    "We will look at the train and test error of root mean squared error."
   ]
  },
  {
   "cell_type": "code",
   "id": "a02d50444fab852d",
   "metadata": {
    "ExecuteTime": {
     "end_time": "2024-09-02T14:17:57.408833Z",
     "start_time": "2024-09-02T14:17:57.407352Z"
    }
   },
   "source": [
    "metric = root_mean_squared_error\n",
    "metrics = [\n",
    "        sample_eval.MetricTuple('train', metric_func=metric, dataset_type=sample_eval.DatasetType.train),\n",
    "        sample_eval.MetricTuple('test', metric_func=metric, dataset_type=sample_eval.DatasetType.test)\n",
    "    ]"
   ],
   "outputs": [],
   "execution_count": 33
  },
  {
   "cell_type": "code",
   "id": "416c3e7ee1f34e19",
   "metadata": {
    "ExecuteTime": {
     "end_time": "2024-09-02T14:18:00.126192Z",
     "start_time": "2024-09-02T14:17:57.409335Z"
    }
   },
   "source": [
    "num_samples = 300\n",
    "num_columns_list = range(1, X.shape[1])\n",
    "random_state = np.random.RandomState(33) # set for reproducibility\n",
    "metric_dict = sample_eval.sample_and_calc_metrics_by_rows_and_cols(X, y, num_train_rows, num_columns_list=num_columns_list, model=model, metric_tuples=metrics, num_samples=num_samples, replace=False, random_state=random_state)"
   ],
   "outputs": [],
   "execution_count": 34
  },
  {
   "cell_type": "code",
   "id": "80257d46b7fb5b39",
   "metadata": {
    "ExecuteTime": {
     "end_time": "2024-09-02T14:18:00.207166Z",
     "start_time": "2024-09-02T14:18:00.131936Z"
    }
   },
   "source": [
    "plt.scatter(num_columns_list, np.mean(metric_dict['test'], axis=0), label='test')\n",
    "plt.xlabel(\"Num sampled columns\")\n",
    "plt.ylabel(\"Mean of \" + my_metric.__name__)\n",
    "plt.legend()\n",
    "plt.show()"
   ],
   "outputs": [
    {
     "data": {
      "text/plain": [
       "<Figure size 640x480 with 1 Axes>"
      ],
      "image/png": "[encoded data removed]"
     },
     "metadata": {},
     "output_type": "display_data"
    }
   ],
   "execution_count": 35
  },
  {
   "cell_type": "markdown",
   "id": "c725d60c9915cc9e",
   "metadata": {},
   "source": [
    "As predicted, there was a spike in test (out of sample) error followed by a descent in error after the spike.  That is double descent in a linear regression.  The maximum was reached at 7 sampled columns.\n",
    "\n",
    "Double descent was formerly thought to be a weird feature of fitting neural nets, but here we observe it with simple, traditional linear regression."
   ]
  },
  {
   "cell_type": "markdown",
   "id": "bd511bcaf154ce88",
   "metadata": {},
   "source": [
    "## Deeper dive into interpolation"
   ]
  },
  {
   "cell_type": "markdown",
   "id": "cc0265ec313a0f3a",
   "metadata": {},
   "source": "The double descent spike should happen at the interpolation threshold.  Interpolation means the data could be fit perfectly, so the training error is zero.  Let's look at the mean training error for each number of sampled columns"
  },
  {
   "cell_type": "code",
   "id": "2dc4f3e869c9fae1",
   "metadata": {
    "ExecuteTime": {
     "end_time": "2024-09-02T14:18:00.211Z",
     "start_time": "2024-09-02T14:18:00.207724Z"
    }
   },
   "source": [
    "print(pd.DataFrame({'columns':num_columns_list, 'mean train error':np.mean(metric_dict['train'], axis=0), 'mean test error':np.mean(metric_dict['test'], axis=0)}).to_string(index=False))"
   ],
   "outputs": [
    {
     "name": "stdout",
     "output_type": "stream",
     "text": [
      " columns  mean train error  mean test error\n",
      "       1      3.498993e+00         5.211286\n",
      "       2      2.498344e+00         4.816154\n",
      "       3      1.860063e+00         4.905365\n",
      "       4      1.361846e+00         6.289021\n",
      "       5      8.270998e-01        24.912459\n",
      "       6      1.546239e-01        34.136874\n",
      "       7      3.457017e-02        50.816633\n",
      "       8      5.923881e-03        15.224733\n",
      "       9      9.871127e-14         8.484712\n"
     ]
    }
   ],
   "execution_count": 36
  },
  {
   "cell_type": "markdown",
   "id": "1a093c243d55fa0",
   "metadata": {},
   "source": [
    "I predicted that interpolation would happen at 7 sampled columns because we selected 7 rows, but we see the mean training error is not 0 at 7 columns nor even at 8 columns!\n",
    "\n",
    "Considering why, focus on the mtcars data set (documentation: https://www.rdocumentation.org/packages/datasets/versions/3.6.2/topics/mtcars).  It has some very low-variance, uninformative columns.  The column `vs` (engine type v or s) and the column `am` (automatic transmission or not) are both binary.  So if these columns were selected, perfect interpolation would not be achievable even with 7 columns for 7 rows. "
   ]
  },
  {
   "cell_type": "markdown",
   "id": "ea98cf008cbf6fdb",
   "metadata": {},
   "source": [
    "For completeness, below is a plot that includes both training and test error."
   ]
  },
  {
   "cell_type": "code",
   "id": "d54a5bbe6a9af0eb",
   "metadata": {
    "ExecuteTime": {
     "end_time": "2024-09-02T14:18:00.306556Z",
     "start_time": "2024-09-02T14:18:00.212787Z"
    }
   },
   "source": [
    "plt.scatter(num_columns_list, np.mean(metric_dict['test'], axis=0), label='test')\n",
    "plt.scatter(num_columns_list, np.mean(metric_dict['train'], axis=0), label='train')\n",
    "plt.xlabel(\"Num sampled columns\")\n",
    "plt.ylabel(\"Mean of \" + my_metric.__name__)\n",
    "plt.legend()\n",
    "plt.show()"
   ],
   "outputs": [
    {
     "data": {
      "text/plain": [
       "<Figure size 640x480 with 1 Axes>"
      ],
      "image/png": "[encoded data removed]"
     },
     "metadata": {},
     "output_type": "display_data"
    }
   ],
   "execution_count": 37
  },
  {
   "metadata": {},
   "cell_type": "markdown",
   "source": "# MOAR parameters-- deeper double descent",
   "id": "2f0d07caf07def46"
  },
  {
   "metadata": {},
   "cell_type": "markdown",
   "source": [
    "So far, we have been limited in checking out the right side of the double descent curve because our data set has only 9 columns.  But the conditions in the paper by Dar et al mentioned the degree of signal and noise in the data, saying double descent predominates when noise is high relative to signal.  That gave me an idea to extend the data set by adding noisy columns.  Not only will that give us more \"room\" for the right side of the plot but also it fits the conditions of the theorem to give a high chance of double descent.\n",
    "\n",
    "So let's add 20 noisy columns!"
   ],
   "id": "e65cf6fce4ad8360"
  },
  {
   "metadata": {
    "ExecuteTime": {
     "end_time": "2024-09-02T14:18:00.310519Z",
     "start_time": "2024-09-02T14:18:00.307346Z"
    }
   },
   "cell_type": "code",
   "source": [
    "rng = np.random.default_rng(2) # For reproducibility\n",
    "num_random_columns = 20\n",
    "rand_array = rng.standard_normal(size=(X.shape[0], num_random_columns))\n",
    "rand_df = pd.DataFrame(rand_array, columns=[f'rand_{i}' for i in range(num_random_columns)])"
   ],
   "id": "f27d98f517122a72",
   "outputs": [],
   "execution_count": 38
  },
  {
   "metadata": {
    "ExecuteTime": {
     "end_time": "2024-09-02T14:18:00.319024Z",
     "start_time": "2024-09-02T14:18:00.311339Z"
    }
   },
   "cell_type": "code",
   "source": [
    "X_plus_rand = pd.concat([X, rand_df], axis=1)\n",
    "X_plus_rand.head()"
   ],
   "id": "fd0cd7531d4f23ae",
   "outputs": [
    {
     "data": {
      "text/plain": [
       "   cyl   disp   hp  drat     wt   qsec  vs  am  gear  carb  ...   rand_10  \\\n",
       "0    6  160.0  110  3.90  2.620  16.46   0   1     4     4  ...  0.977567   \n",
       "1    6  160.0  110  3.90  2.875  17.02   0   1     4     4  ...  0.841459   \n",
       "2    4  108.0   93  3.85  2.320  18.61   1   1     4     1  ...  1.034866   \n",
       "3    6  258.0  110  3.08  3.215  19.44   1   0     3     1  ...  1.510119   \n",
       "4    8  360.0  175  3.15  3.440  17.02   0   0     3     2  ...  1.428544   \n",
       "\n",
       "    rand_11   rand_12   rand_13   rand_14   rand_15   rand_16   rand_17  \\\n",
       "0 -0.310557 -0.328824 -0.792147  0.454958 -0.099198  0.545289 -0.607186   \n",
       "1  0.128716  1.078342  0.722431  0.210572  0.284038 -0.169760  0.868460   \n",
       "2 -1.418666  0.153582  1.215758  0.087919  0.999701  2.374887  0.273932   \n",
       "3 -0.008956 -0.742155  0.477929 -0.076588 -1.254187 -0.885067  1.766779   \n",
       "4 -0.667620  0.153412 -0.836387 -0.222235  0.047404 -0.434685 -0.702888   \n",
       "\n",
       "    rand_18   rand_19  \n",
       "0  0.126828 -0.892274  \n",
       "1 -1.129716 -0.421859  \n",
       "2 -0.280382 -0.771052  \n",
       "3  0.354351  0.416387  \n",
       "4 -0.677886 -0.821160  \n",
       "\n",
       "[5 rows x 30 columns]"
      ],
      "text/html": [
       "<div>\n",
       "<style scoped>\n",
       "    .dataframe tbody tr th:only-of-type {\n",
       "        vertical-align: middle;\n",
       "    }\n",
       "\n",
       "    .dataframe tbody tr th {\n",
       "        vertical-align: top;\n",
       "    }\n",
       "\n",
       "    .dataframe thead th {\n",
       "        text-align: right;\n",
       "    }\n",
       "</style>\n",
       "<table border=\"1\" class=\"dataframe\">\n",
       "  <thead>\n",
       "    <tr style=\"text-align: right;\">\n",
       "      <th></th>\n",
       "      <th>cyl</th>\n",
       "      <th>disp</th>\n",
       "      <th>hp</th>\n",
       "      <th>drat</th>\n",
       "      <th>wt</th>\n",
       "      <th>qsec</th>\n",
       "      <th>vs</th>\n",
       "      <th>am</th>\n",
       "      <th>gear</th>\n",
       "      <th>carb</th>\n",
       "      <th>...</th>\n",
       "      <th>rand_10</th>\n",
       "      <th>rand_11</th>\n",
       "      <th>rand_12</th>\n",
       "      <th>rand_13</th>\n",
       "      <th>rand_14</th>\n",
       "      <th>rand_15</th>\n",
       "      <th>rand_16</th>\n",
       "      <th>rand_17</th>\n",
       "      <th>rand_18</th>\n",
       "      <th>rand_19</th>\n",
       "    </tr>\n",
       "  </thead>\n",
       "  <tbody>\n",
       "    <tr>\n",
       "      <th>0</th>\n",
       "      <td>6</td>\n",
       "      <td>160.0</td>\n",
       "      <td>110</td>\n",
       "      <td>3.90</td>\n",
       "      <td>2.620</td>\n",
       "      <td>16.46</td>\n",
       "      <td>0</td>\n",
       "      <td>1</td>\n",
       "      <td>4</td>\n",
       "      <td>4</td>\n",
       "      <td>...</td>\n",
       "      <td>0.977567</td>\n",
       "      <td>-0.310557</td>\n",
       "      <td>-0.328824</td>\n",
       "      <td>-0.792147</td>\n",
       "      <td>0.454958</td>\n",
       "      <td>-0.099198</td>\n",
       "      <td>0.545289</td>\n",
       "      <td>-0.607186</td>\n",
       "      <td>0.126828</td>\n",
       "      <td>-0.892274</td>\n",
       "    </tr>\n",
       "    <tr>\n",
       "      <th>1</th>\n",
       "      <td>6</td>\n",
       "      <td>160.0</td>\n",
       "      <td>110</td>\n",
       "      <td>3.90</td>\n",
       "      <td>2.875</td>\n",
       "      <td>17.02</td>\n",
       "      <td>0</td>\n",
       "      <td>1</td>\n",
       "      <td>4</td>\n",
       "      <td>4</td>\n",
       "      <td>...</td>\n",
       "      <td>0.841459</td>\n",
       "      <td>0.128716</td>\n",
       "      <td>1.078342</td>\n",
       "      <td>0.722431</td>\n",
       "      <td>0.210572</td>\n",
       "      <td>0.284038</td>\n",
       "      <td>-0.169760</td>\n",
       "      <td>0.868460</td>\n",
       "      <td>-1.129716</td>\n",
       "      <td>-0.421859</td>\n",
       "    </tr>\n",
       "    <tr>\n",
       "      <th>2</th>\n",
       "      <td>4</td>\n",
       "      <td>108.0</td>\n",
       "      <td>93</td>\n",
       "      <td>3.85</td>\n",
       "      <td>2.320</td>\n",
       "      <td>18.61</td>\n",
       "      <td>1</td>\n",
       "      <td>1</td>\n",
       "      <td>4</td>\n",
       "      <td>1</td>\n",
       "      <td>...</td>\n",
       "      <td>1.034866</td>\n",
       "      <td>-1.418666</td>\n",
       "      <td>0.153582</td>\n",
       "      <td>1.215758</td>\n",
       "      <td>0.087919</td>\n",
       "      <td>0.999701</td>\n",
       "      <td>2.374887</td>\n",
       "      <td>0.273932</td>\n",
       "      <td>-0.280382</td>\n",
       "      <td>-0.771052</td>\n",
       "    </tr>\n",
       "    <tr>\n",
       "      <th>3</th>\n",
       "      <td>6</td>\n",
       "      <td>258.0</td>\n",
       "      <td>110</td>\n",
       "      <td>3.08</td>\n",
       "      <td>3.215</td>\n",
       "      <td>19.44</td>\n",
       "      <td>1</td>\n",
       "      <td>0</td>\n",
       "      <td>3</td>\n",
       "      <td>1</td>\n",
       "      <td>...</td>\n",
       "      <td>1.510119</td>\n",
       "      <td>-0.008956</td>\n",
       "      <td>-0.742155</td>\n",
       "      <td>0.477929</td>\n",
       "      <td>-0.076588</td>\n",
       "      <td>-1.254187</td>\n",
       "      <td>-0.885067</td>\n",
       "      <td>1.766779</td>\n",
       "      <td>0.354351</td>\n",
       "      <td>0.416387</td>\n",
       "    </tr>\n",
       "    <tr>\n",
       "      <th>4</th>\n",
       "      <td>8</td>\n",
       "      <td>360.0</td>\n",
       "      <td>175</td>\n",
       "      <td>3.15</td>\n",
       "      <td>3.440</td>\n",
       "      <td>17.02</td>\n",
       "      <td>0</td>\n",
       "      <td>0</td>\n",
       "      <td>3</td>\n",
       "      <td>2</td>\n",
       "      <td>...</td>\n",
       "      <td>1.428544</td>\n",
       "      <td>-0.667620</td>\n",
       "      <td>0.153412</td>\n",
       "      <td>-0.836387</td>\n",
       "      <td>-0.222235</td>\n",
       "      <td>0.047404</td>\n",
       "      <td>-0.434685</td>\n",
       "      <td>-0.702888</td>\n",
       "      <td>-0.677886</td>\n",
       "      <td>-0.821160</td>\n",
       "    </tr>\n",
       "  </tbody>\n",
       "</table>\n",
       "<p>5 rows × 30 columns</p>\n",
       "</div>"
      ]
     },
     "execution_count": 39,
     "metadata": {},
     "output_type": "execute_result"
    }
   ],
   "execution_count": 39
  },
  {
   "metadata": {
    "ExecuteTime": {
     "end_time": "2024-09-02T14:18:09.791275Z",
     "start_time": "2024-09-02T14:18:00.319651Z"
    }
   },
   "cell_type": "code",
   "source": [
    "num_samples = 300\n",
    "num_columns_list_with_rand = range(1, X_plus_rand.shape[1])\n",
    "random_state = np.random.RandomState(33) # set for reproducibility\n",
    "metric_dict_with_rand = sample_eval.sample_and_calc_metrics_by_rows_and_cols(X_plus_rand, y, num_train_rows, num_columns_list=num_columns_list_with_rand, model=model, metric_tuples=metrics, num_samples=num_samples, replace=False, random_state=random_state)"
   ],
   "id": "bd64d69e0128840e",
   "outputs": [],
   "execution_count": 40
  },
  {
   "metadata": {
    "ExecuteTime": {
     "end_time": "2024-09-02T14:18:09.885525Z",
     "start_time": "2024-09-02T14:18:09.792481Z"
    }
   },
   "cell_type": "code",
   "source": [
    "plt.scatter(num_columns_list_with_rand, np.mean(metric_dict_with_rand['test'], axis=0), label='test')\n",
    "plt.scatter(num_columns_list_with_rand, np.mean(metric_dict_with_rand['train'], axis=0), label='train')\n",
    "plt.xlabel(\"Num sampled columns\")\n",
    "plt.ylabel(\"Mean of \" + my_metric.__name__)\n",
    "plt.legend()\n",
    "plt.show()"
   ],
   "id": "d1a4b31611d831df",
   "outputs": [
    {
     "data": {
      "text/plain": [
       "<Figure size 640x480 with 1 Axes>"
      ],
      "image/png": "[encoded data removed]"
     },
     "metadata": {},
     "output_type": "display_data"
    }
   ],
   "execution_count": 41
  },
  {
   "metadata": {},
   "cell_type": "markdown",
   "source": "Wow, that is a beautiful double descent shape!  It looks textbook ready.",
   "id": "c5a794c86ef6f781"
  },
  {
   "metadata": {},
   "cell_type": "markdown",
   "source": [
    "But note that I crafted a situation that was well-suited for double descent to demonstrate that it can happen even with simple linear regression.  Applying ordinary least squares regression will not exhibit double descent on *every* data set.  The Dar et al. paper found necessary and sufficient conditions that are required for double descent.  Below is a somewhat intuitive (but inevitably inaccurate) summary of the conditions in section 3.3.3 [2]:\n",
    "\n",
    "* Low-dimensional signal structure in the data (where signal means de-noised).\n",
    "* Low effective dimension in the data (a few large eigenvectors). (A tutorial on effective dimension and its distinction from intrinsic dimension: https://pubmed.ncbi.nlm.nih.gov/32223436/.)\n",
    "* Alignment: The highest-signal data dimensions must be aligned with the highest effective dimensions (largest eigenvectors in the data).\n",
    "* An abundance of low-signal (but non-zero) features in the model.\n",
    "\n",
    "Without these conditions, there is a “rich variety of generalization behaviors” in the overparameterized regime of linear regression."
   ],
   "id": "684ef7882167fa85"
  },
  {
   "metadata": {},
   "cell_type": "markdown",
   "source": [
    "### Comparing fits on data with and without noise\n",
    "\n",
    "If you compare the y-axis across graphs, you will notice that overall error is higher with the noisy data.  Here I will plot on the same graph to make it easier to see.\n",
    "\n",
    "The lesson from this observation is that you will achieve lower out-of-sample error if you can get your hands on the noise-free data, where you would want to fit a relatively small model.  However, if you have noisy data, you might want to add as many features as possible in order to try to achieve the benefits of double descent."
   ],
   "id": "f112895545fcccb4"
  },
  {
   "metadata": {},
   "cell_type": "markdown",
   "source": "I will use seaborn to plot the comparison because otherwise the points overlap too much.",
   "id": "90385674efff4e90"
  },
  {
   "metadata": {
    "ExecuteTime": {
     "end_time": "2024-09-02T14:18:09.892213Z",
     "start_time": "2024-09-02T14:18:09.886704Z"
    }
   },
   "cell_type": "code",
   "source": [
    "pad_len = len(num_columns_list_with_rand) - len(num_columns_list)\n",
    "padded_mt_cars = np.concatenate((np.mean(metric_dict['test'], axis=0), np.array([np.nan] * pad_len)))\n",
    "df_wide = pd.DataFrame(\n",
    "    {'cols':num_columns_list_with_rand,\n",
    "     'mt_cars':padded_mt_cars,\n",
    "     'mt_cars_plus_rand':np.mean(metric_dict_with_rand['test'], axis=0)})\n",
    "df = pd.melt(df_wide, ['cols'], var_name='data_set', value_name='mean test error')\n",
    "df.head()"
   ],
   "id": "73c5b50aef98c31d",
   "outputs": [
    {
     "data": {
      "text/plain": [
       "   cols data_set  mean test error\n",
       "0     1  mt_cars         5.211286\n",
       "1     2  mt_cars         4.816154\n",
       "2     3  mt_cars         4.905365\n",
       "3     4  mt_cars         6.289021\n",
       "4     5  mt_cars        24.912459"
      ],
      "text/html": [
       "<div>\n",
       "<style scoped>\n",
       "    .dataframe tbody tr th:only-of-type {\n",
       "        vertical-align: middle;\n",
       "    }\n",
       "\n",
       "    .dataframe tbody tr th {\n",
       "        vertical-align: top;\n",
       "    }\n",
       "\n",
       "    .dataframe thead th {\n",
       "        text-align: right;\n",
       "    }\n",
       "</style>\n",
       "<table border=\"1\" class=\"dataframe\">\n",
       "  <thead>\n",
       "    <tr style=\"text-align: right;\">\n",
       "      <th></th>\n",
       "      <th>cols</th>\n",
       "      <th>data_set</th>\n",
       "      <th>mean test error</th>\n",
       "    </tr>\n",
       "  </thead>\n",
       "  <tbody>\n",
       "    <tr>\n",
       "      <th>0</th>\n",
       "      <td>1</td>\n",
       "      <td>mt_cars</td>\n",
       "      <td>5.211286</td>\n",
       "    </tr>\n",
       "    <tr>\n",
       "      <th>1</th>\n",
       "      <td>2</td>\n",
       "      <td>mt_cars</td>\n",
       "      <td>4.816154</td>\n",
       "    </tr>\n",
       "    <tr>\n",
       "      <th>2</th>\n",
       "      <td>3</td>\n",
       "      <td>mt_cars</td>\n",
       "      <td>4.905365</td>\n",
       "    </tr>\n",
       "    <tr>\n",
       "      <th>3</th>\n",
       "      <td>4</td>\n",
       "      <td>mt_cars</td>\n",
       "      <td>6.289021</td>\n",
       "    </tr>\n",
       "    <tr>\n",
       "      <th>4</th>\n",
       "      <td>5</td>\n",
       "      <td>mt_cars</td>\n",
       "      <td>24.912459</td>\n",
       "    </tr>\n",
       "  </tbody>\n",
       "</table>\n",
       "</div>"
      ]
     },
     "execution_count": 42,
     "metadata": {},
     "output_type": "execute_result"
    }
   ],
   "execution_count": 42
  },
  {
   "metadata": {
    "ExecuteTime": {
     "end_time": "2024-09-02T14:18:10.049273Z",
     "start_time": "2024-09-02T14:18:09.892708Z"
    }
   },
   "cell_type": "code",
   "source": [
    "sns.set_theme()\n",
    "sns.lineplot(data=df, x='cols', y='mean test error', hue='data_set')"
   ],
   "id": "1651bd6add95831c",
   "outputs": [
    {
     "data": {
      "text/plain": [
       "<Axes: xlabel='cols', ylabel='mean test error'>"
      ]
     },
     "execution_count": 43,
     "metadata": {},
     "output_type": "execute_result"
    },
    {
     "data": {
      "text/plain": [
       "<Figure size 640x480 with 1 Axes>"
      ],
      "image/png": "[encoded data removed]"
     },
     "metadata": {},
     "output_type": "display_data"
    }
   ],
   "execution_count": 43
  },
  {
   "metadata": {},
   "cell_type": "markdown",
   "source": [
    "Recall this was for \n",
    "`num_train_rows = 7`"
   ],
   "id": "8e09686a7a843e68"
  },
  {
   "metadata": {},
   "cell_type": "markdown",
   "source": "### Comparison with training on 9 rows",
   "id": "b7a855cf0235dc13"
  },
  {
   "metadata": {},
   "cell_type": "markdown",
   "source": "Let's try again with 9 training rows, which reaches interpolation at the full sample of 9 columns.  We predict this will push the interpolation threshold to the right because the interpolation threshold is higher.",
   "id": "88f09eced8a0874e"
  },
  {
   "metadata": {
    "ExecuteTime": {
     "end_time": "2024-09-02T14:18:10.052215Z",
     "start_time": "2024-09-02T14:18:10.049887Z"
    }
   },
   "cell_type": "code",
   "source": "num_train_rows = 10",
   "id": "c3ebe8be15f33058",
   "outputs": [],
   "execution_count": 44
  },
  {
   "metadata": {
    "ExecuteTime": {
     "end_time": "2024-09-02T14:18:12.872307Z",
     "start_time": "2024-09-02T14:18:10.052762Z"
    }
   },
   "cell_type": "code",
   "source": [
    "num_samples = 300\n",
    "num_columns_list = range(1, X.shape[1])\n",
    "random_state = np.random.RandomState(33) # set for reproducibility\n",
    "metric_dict = sample_eval.sample_and_calc_metrics_by_rows_and_cols(X, y, num_train_rows, num_columns_list=num_columns_list, model=model, metric_tuples=metrics, num_samples=num_samples, replace=False, random_state=random_state)"
   ],
   "id": "f35643783f36daf0",
   "outputs": [],
   "execution_count": 45
  },
  {
   "metadata": {
    "ExecuteTime": {
     "end_time": "2024-09-02T14:18:22.226794Z",
     "start_time": "2024-09-02T14:18:12.873596Z"
    }
   },
   "cell_type": "code",
   "source": [
    "num_samples = 300\n",
    "num_columns_list_with_rand = range(1, X_plus_rand.shape[1])\n",
    "random_state = np.random.RandomState(33) # set for reproducibility\n",
    "metric_dict_with_rand = sample_eval.sample_and_calc_metrics_by_rows_and_cols(X_plus_rand, y, num_train_rows, num_columns_list=num_columns_list_with_rand, model=model, metric_tuples=metrics, num_samples=num_samples, replace=False, random_state=random_state)"
   ],
   "id": "e72ec0d8ed8a5394",
   "outputs": [],
   "execution_count": 46
  },
  {
   "metadata": {
    "ExecuteTime": {
     "end_time": "2024-09-02T14:18:22.231860Z",
     "start_time": "2024-09-02T14:18:22.227991Z"
    }
   },
   "cell_type": "code",
   "source": [
    "pad_len = len(num_columns_list_with_rand) - len(num_columns_list)\n",
    "padded_mt_cars = np.concatenate((np.mean(metric_dict['test'], axis=0), np.array([np.nan] * pad_len)))\n",
    "df_wide = pd.DataFrame(\n",
    "    {'cols':num_columns_list_with_rand,\n",
    "     'mt_cars':padded_mt_cars,\n",
    "     'mt_cars_plus_rand':np.mean(metric_dict_with_rand['test'], axis=0)})\n",
    "df = pd.melt(df_wide, ['cols'], var_name='data_type', value_name='mean test error')"
   ],
   "id": "cd8bffcbb056aef0",
   "outputs": [],
   "execution_count": 47
  },
  {
   "metadata": {
    "ExecuteTime": {
     "end_time": "2024-09-02T14:18:22.346182Z",
     "start_time": "2024-09-02T14:18:22.232430Z"
    }
   },
   "cell_type": "code",
   "source": [
    "sns.set_theme()\n",
    "sns.lineplot(data=df, x='cols', y='mean test error', hue='data_type')"
   ],
   "id": "24721386cbacb850",
   "outputs": [
    {
     "data": {
      "text/plain": [
       "<Axes: xlabel='cols', ylabel='mean test error'>"
      ]
     },
     "execution_count": 48,
     "metadata": {},
     "output_type": "execute_result"
    },
    {
     "data": {
      "text/plain": [
       "<Figure size 640x480 with 1 Axes>"
      ],
      "image/png": "[encoded data removed]"
     },
     "metadata": {},
     "output_type": "display_data"
    }
   ],
   "execution_count": 48
  },
  {
   "metadata": {},
   "cell_type": "markdown",
   "source": "For a fixed number of rows, the noise-free data gets a deeper U shape-- and thus lower test error-- below the interpolation threshold.",
   "id": "244d88408ff11b89"
  },
  {
   "metadata": {},
   "cell_type": "markdown",
   "source": "## Conclusion of comparison",
   "id": "35b2dafe4bc0a0be"
  },
  {
   "metadata": {},
   "cell_type": "markdown",
   "source": [
    "All this theory is nice, but some readers just want to know what to do.\n",
    "\n",
    "* If you have a data set of well-specified features, go ahead and use them and seek the few features that work well in the traditional underparameterized regime. No need to collect more features, as you are unlikely to benefit. (Even if you observe a second descent in test error, it is unlikely to be less than the minimal underparameterized test error.)\n",
    "* If you have a data set with a large number of low-signal features-- or, put another way, poorly-specified features-- try using as many as you can.  You are trying to go deep in the overparameterized regime in the hope that double descent will lower your test error.\n",
    "* Regularization is a wonderful tool "
   ],
   "id": "ca3e495a1dd4f738"
  },
  {
   "metadata": {},
   "cell_type": "markdown",
   "source": "# Also comparing with regularization",
   "id": "f1bef038540d7c89"
  },
  {
   "metadata": {},
   "cell_type": "markdown",
   "source": [
    "But wait!  In real life we typically use regularization when we have more columns than rows (a.k.a. more features than examples.)  Is regularization better or worse than interpolation?  Dar et al review some studies and conclude:\n",
    "\n",
    "\"These results suggest that optimally tuned regularization will always dominate interpolation. From this perspective, the recent flurry of results show that interpolation is relatively harmless, rather than being relatively beneficial. However, to obtain the full extent of benefit of regularization over interpolation, we need to optimally tune the regularization parameter. This is usually unknown and needs to be estimated from data.\""
   ],
   "id": "5130e907694a2416"
  },
  {
   "metadata": {},
   "cell_type": "markdown",
   "source": "Let's see what happens on our mtcars + random data set.  I will try the default value of the alpha regularizer, in sklearn, which is 1.0.  Recall that ridge regression pulls all the beta weights closer to 0, with weights approaching the limit of 0 as alpha goes to infinity.  alpha=0 is no regularization, equivalent to ordinary least squares regression.",
   "id": "920fb3e845db88e"
  },
  {
   "metadata": {
    "ExecuteTime": {
     "end_time": "2024-09-02T14:18:32.032408Z",
     "start_time": "2024-09-02T14:18:22.346812Z"
    }
   },
   "cell_type": "code",
   "source": [
    "model = linear_model.Ridge(alpha=1.0)\n",
    "num_samples = 300\n",
    "num_columns_list_with_rand = range(1, X_plus_rand.shape[1])\n",
    "random_state = np.random.RandomState(55) # set for reproducibility\n",
    "metric_dict_with_rand_ridge_1 = sample_eval.sample_and_calc_metrics_by_rows_and_cols(X_plus_rand, y, num_train_rows, num_columns_list=num_columns_list_with_rand, model=model, metric_tuples=metrics, num_samples=num_samples, replace=False, random_state=random_state)"
   ],
   "id": "18b1fc6522c987bc",
   "outputs": [],
   "execution_count": 49
  },
  {
   "metadata": {
    "ExecuteTime": {
     "end_time": "2024-09-02T14:18:32.037467Z",
     "start_time": "2024-09-02T14:18:32.033602Z"
    }
   },
   "cell_type": "code",
   "source": [
    "pad_len = len(num_columns_list_with_rand) - len(num_columns_list)\n",
    "padded_mt_cars = np.concatenate((np.mean(metric_dict['test'], axis=0), np.array([np.nan] * pad_len)))\n",
    "df_wide = pd.DataFrame(\n",
    "    {'cols':num_columns_list_with_rand,\n",
    "     'mt_cars':padded_mt_cars,\n",
    "     'mt_cars_plus_rand':np.mean(metric_dict_with_rand['test'], axis=0),\n",
    "     'mt_cars_plus_rand_ridge_1':np.mean(metric_dict_with_rand_ridge_1['test'], axis=0)\n",
    "     })\n",
    "df = pd.melt(df_wide, ['cols'], var_name='data_n_model', value_name='mean test error')"
   ],
   "id": "9f85b96a7c370bc0",
   "outputs": [],
   "execution_count": 50
  },
  {
   "metadata": {
    "ExecuteTime": {
     "end_time": "2024-09-02T14:18:32.145650Z",
     "start_time": "2024-09-02T14:18:32.038189Z"
    }
   },
   "cell_type": "code",
   "source": [
    "sns.set_theme()\n",
    "sns.lineplot(data=df, x='cols', y='mean test error', hue='data_n_model')"
   ],
   "id": "bfd691c7645a216",
   "outputs": [
    {
     "data": {
      "text/plain": [
       "<Axes: xlabel='cols', ylabel='mean test error'>"
      ]
     },
     "execution_count": 51,
     "metadata": {},
     "output_type": "execute_result"
    },
    {
     "data": {
      "text/plain": [
       "<Figure size 640x480 with 1 Axes>"
      ],
      "image/png": "[encoded data removed]"
     },
     "metadata": {},
     "output_type": "display_data"
    }
   ],
   "execution_count": 51
  },
  {
   "metadata": {},
   "cell_type": "markdown",
   "source": [
    "Wow!  Ridge regression just totally ignores the interpolation boundary and consistently performs well.\n",
    "\n",
    "That said, it cannot perform well as the noise-free data in mt_cars when the regression is tuned for a \"sweet spot\" of number of variables.  But if the data set is full of noisy extra columns, then ridge regression is the winner."
   ],
   "id": "d22e5d849b1bfbce"
  },
  {
   "metadata": {},
   "cell_type": "markdown",
   "source": [
    "Does ridge regression beat interpolation for every number of columns? \n",
    "\n",
    "Recall the meaning of the labels:\n",
    "* mt_cars_plus_rand was fitted with standard OLS, meaning it interpolates for cols >= rows.\n",
    "* mt_cars_plus_rand_ridge_1 was fitted with ridge(alpha=1) \n",
    "\n",
    "The lines overlap in seaborn, so let's zoom in on the values."
   ],
   "id": "8c0f79f7d1fa3a53"
  },
  {
   "metadata": {
    "ExecuteTime": {
     "end_time": "2024-09-02T14:18:32.157470Z",
     "start_time": "2024-09-02T14:18:32.149032Z"
    }
   },
   "cell_type": "code",
   "source": "pivoted_df = df.pivot(index='data_n_model', columns='cols', values='mean test error')",
   "id": "e19487d60aafc384",
   "outputs": [],
   "execution_count": 52
  },
  {
   "metadata": {},
   "cell_type": "markdown",
   "source": "Below are the first 8 columns, leading up the interpolation regime.",
   "id": "e2fdbe5077e7a05f"
  },
  {
   "metadata": {
    "ExecuteTime": {
     "end_time": "2024-09-02T14:18:32.161977Z",
     "start_time": "2024-09-02T14:18:32.158031Z"
    }
   },
   "cell_type": "code",
   "source": "pivoted_df.iloc[:,0:8]",
   "id": "3ad7a1ff151e4791",
   "outputs": [
    {
     "data": {
      "text/plain": [
       "cols                              1         2         3         4         5  \\\n",
       "data_n_model                                                                  \n",
       "mt_cars                    4.951589  4.226580  3.889579  4.223585  4.819215   \n",
       "mt_cars_plus_rand          6.081448  5.785720  6.113905  6.043213  6.568717   \n",
       "mt_cars_plus_rand_ridge_1  6.039130  5.773342  5.682532  5.400986  5.446930   \n",
       "\n",
       "cols                              6         7          8  \n",
       "data_n_model                                              \n",
       "mt_cars                    5.951969  7.828808  12.844308  \n",
       "mt_cars_plus_rand          7.182552  8.720078  12.348655  \n",
       "mt_cars_plus_rand_ridge_1  5.555761  5.350396   5.264791  "
      ],
      "text/html": [
       "<div>\n",
       "<style scoped>\n",
       "    .dataframe tbody tr th:only-of-type {\n",
       "        vertical-align: middle;\n",
       "    }\n",
       "\n",
       "    .dataframe tbody tr th {\n",
       "        vertical-align: top;\n",
       "    }\n",
       "\n",
       "    .dataframe thead th {\n",
       "        text-align: right;\n",
       "    }\n",
       "</style>\n",
       "<table border=\"1\" class=\"dataframe\">\n",
       "  <thead>\n",
       "    <tr style=\"text-align: right;\">\n",
       "      <th>cols</th>\n",
       "      <th>1</th>\n",
       "      <th>2</th>\n",
       "      <th>3</th>\n",
       "      <th>4</th>\n",
       "      <th>5</th>\n",
       "      <th>6</th>\n",
       "      <th>7</th>\n",
       "      <th>8</th>\n",
       "    </tr>\n",
       "    <tr>\n",
       "      <th>data_n_model</th>\n",
       "      <th></th>\n",
       "      <th></th>\n",
       "      <th></th>\n",
       "      <th></th>\n",
       "      <th></th>\n",
       "      <th></th>\n",
       "      <th></th>\n",
       "      <th></th>\n",
       "    </tr>\n",
       "  </thead>\n",
       "  <tbody>\n",
       "    <tr>\n",
       "      <th>mt_cars</th>\n",
       "      <td>4.951589</td>\n",
       "      <td>4.226580</td>\n",
       "      <td>3.889579</td>\n",
       "      <td>4.223585</td>\n",
       "      <td>4.819215</td>\n",
       "      <td>5.951969</td>\n",
       "      <td>7.828808</td>\n",
       "      <td>12.844308</td>\n",
       "    </tr>\n",
       "    <tr>\n",
       "      <th>mt_cars_plus_rand</th>\n",
       "      <td>6.081448</td>\n",
       "      <td>5.785720</td>\n",
       "      <td>6.113905</td>\n",
       "      <td>6.043213</td>\n",
       "      <td>6.568717</td>\n",
       "      <td>7.182552</td>\n",
       "      <td>8.720078</td>\n",
       "      <td>12.348655</td>\n",
       "    </tr>\n",
       "    <tr>\n",
       "      <th>mt_cars_plus_rand_ridge_1</th>\n",
       "      <td>6.039130</td>\n",
       "      <td>5.773342</td>\n",
       "      <td>5.682532</td>\n",
       "      <td>5.400986</td>\n",
       "      <td>5.446930</td>\n",
       "      <td>5.555761</td>\n",
       "      <td>5.350396</td>\n",
       "      <td>5.264791</td>\n",
       "    </tr>\n",
       "  </tbody>\n",
       "</table>\n",
       "</div>"
      ]
     },
     "execution_count": 53,
     "metadata": {},
     "output_type": "execute_result"
    }
   ],
   "execution_count": 53
  },
  {
   "metadata": {},
   "cell_type": "markdown",
   "source": "Ridge regression and interpolation are essentially equivalent for 1-2 columns, but interpolation starts doing worse already at 3-4 columns.  (The non-noisy data does well until 6-7 columns,) ",
   "id": "44737ae480eb0b9d"
  },
  {
   "metadata": {},
   "cell_type": "markdown",
   "source": "Now let's look in the double descent regime, with a lot of columns.",
   "id": "4cb92416a49bae11"
  },
  {
   "metadata": {
    "ExecuteTime": {
     "end_time": "2024-09-02T14:18:32.165790Z",
     "start_time": "2024-09-02T14:18:32.162537Z"
    }
   },
   "cell_type": "code",
   "source": "pivoted_df.iloc[:,25:30]",
   "id": "32af3ad321693774",
   "outputs": [
    {
     "data": {
      "text/plain": [
       "cols                             26        27        28        29\n",
       "data_n_model                                                     \n",
       "mt_cars                         NaN       NaN       NaN       NaN\n",
       "mt_cars_plus_rand          4.616964  4.700268  4.673671  4.512758\n",
       "mt_cars_plus_rand_ridge_1  4.490179  4.470376  4.507423  4.502295"
      ],
      "text/html": [
       "<div>\n",
       "<style scoped>\n",
       "    .dataframe tbody tr th:only-of-type {\n",
       "        vertical-align: middle;\n",
       "    }\n",
       "\n",
       "    .dataframe tbody tr th {\n",
       "        vertical-align: top;\n",
       "    }\n",
       "\n",
       "    .dataframe thead th {\n",
       "        text-align: right;\n",
       "    }\n",
       "</style>\n",
       "<table border=\"1\" class=\"dataframe\">\n",
       "  <thead>\n",
       "    <tr style=\"text-align: right;\">\n",
       "      <th>cols</th>\n",
       "      <th>26</th>\n",
       "      <th>27</th>\n",
       "      <th>28</th>\n",
       "      <th>29</th>\n",
       "    </tr>\n",
       "    <tr>\n",
       "      <th>data_n_model</th>\n",
       "      <th></th>\n",
       "      <th></th>\n",
       "      <th></th>\n",
       "      <th></th>\n",
       "    </tr>\n",
       "  </thead>\n",
       "  <tbody>\n",
       "    <tr>\n",
       "      <th>mt_cars</th>\n",
       "      <td>NaN</td>\n",
       "      <td>NaN</td>\n",
       "      <td>NaN</td>\n",
       "      <td>NaN</td>\n",
       "    </tr>\n",
       "    <tr>\n",
       "      <th>mt_cars_plus_rand</th>\n",
       "      <td>4.616964</td>\n",
       "      <td>4.700268</td>\n",
       "      <td>4.673671</td>\n",
       "      <td>4.512758</td>\n",
       "    </tr>\n",
       "    <tr>\n",
       "      <th>mt_cars_plus_rand_ridge_1</th>\n",
       "      <td>4.490179</td>\n",
       "      <td>4.470376</td>\n",
       "      <td>4.507423</td>\n",
       "      <td>4.502295</td>\n",
       "    </tr>\n",
       "  </tbody>\n",
       "</table>\n",
       "</div>"
      ]
     },
     "execution_count": 54,
     "metadata": {},
     "output_type": "execute_result"
    }
   ],
   "execution_count": 54
  },
  {
   "metadata": {},
   "cell_type": "markdown",
   "source": "",
   "id": "49a272ca2996cc5"
  },
  {
   "metadata": {},
   "cell_type": "markdown",
   "source": "So if you have random noise injected in your mtcars data set, then ridge regression with alpha=1 dominates interpolation  It has a minor advantage for few columns and 20+ columns, but it has a huge advantage around the interpolation regime, where it does not spike in test error at all.",
   "id": "4b574c80530d47a2"
  },
  {
   "metadata": {},
   "cell_type": "markdown",
   "source": "## Regularization comparison summary",
   "id": "c96611bcc518799f"
  },
  {
   "metadata": {},
   "cell_type": "markdown",
   "source": [
    "But we couldn't have known a priori whether regularizing with ridge regression or using interpolation would do better.  We got lucky that the default regularization value of alpha=1 worked so well.  Sometimes tuning a regularizer takes a lot of iterations.  As Dar et al. explain, \"The decision of whether to interpolate or regularize contains several theoretical and practical nuances and often depends on the context surrounding model deployment.\"\n",
    "\n"
   ],
   "id": "95005c627fbe107f"
  },
  {
   "metadata": {},
   "cell_type": "markdown",
   "source": [
    "So here is our updated advice:\n",
    "\n",
    "* If you have a data set of well-specified features, go ahead and use them and seek the few features that work well in the traditional underparameterized regime.\n",
    "* If you have a data set with a large number of low-signal features, ordinary least squares may still work well, if the conditions for double descent are fulfilled.\n",
    "* Regularization is a wonderful tool and almost always works pretty well but may require tuning to beat simple interpolation."
   ],
   "id": "5d438c31a30a35e"
  }
 ],
 "metadata": {
  "kernelspec": {
   "display_name": "Python 3 (ipykernel)",
   "language": "python",
   "name": "python3"
  },
  "language_info": {
   "codemirror_mode": {
    "name": "ipython",
    "version": 3
   },
   "file_extension": ".py",
   "mimetype": "text/x-python",
   "name": "python",
   "nbconvert_exporter": "python",
   "pygments_lexer": "ipython3",
   "version": "3.12.4"
  }
 },
 "nbformat": 4,
 "nbformat_minor": 5
}
