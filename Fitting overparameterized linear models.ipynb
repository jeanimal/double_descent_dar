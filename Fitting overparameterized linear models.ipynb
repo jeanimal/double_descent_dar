{
 "cells": [
  {
   "metadata": {},
   "cell_type": "markdown",
   "source": "# Methods to fit an overparameterized linear model",
   "id": "da4090646cb9a0b4"
  },
  {
   "metadata": {},
   "cell_type": "markdown",
   "source": [
    "Basic algebra teaches us that a system of equations having N equations with N unknown parameters can be solved-- with a unique solution. But perfect solvability isn't the only situation. Define p as the number of unknown parameters.  Suppose there are N equations. Then there are two other cases:\n",
    "* underparameterized: When p < N, then there are no solutions (or the system can be re-written as fewer equations).\n",
    "* overparameterized: When p > N, there are many possible solutions.\n",
    "\n",
    "Here I focus on the overparameterized case.  How do we choose a single solution?"
   ],
   "id": "58e7726287589937"
  },
  {
   "metadata": {},
   "cell_type": "markdown",
   "source": "# Setting up the example",
   "id": "5ee63948381e9718"
  },
  {
   "metadata": {},
   "cell_type": "markdown",
   "source": [
    "But first, consider the simplest case of N equations with N unknowns, which is one equation with one unknown.  Here is an example:\n",
    "\n",
    "`10 = 2 x`\n",
    "\n",
    "That has one solution, namely `x = 5`.  (Note that we solve this by taking the product of 10 by the inverse of 2, which is 1/2.)"
   ],
   "id": "891f1eed385fe4bd"
  },
  {
   "metadata": {},
   "cell_type": "markdown",
   "source": [
    "An underparameterize case would mean more equations than unknowns.  So let's add one more equation:\n",
    "\n",
    "```\n",
    "10 = 2 x\n",
    "10 = 5 x\n",
    "```\n",
    "\n",
    "Clearly, no solution is perfect and we will need a way to select the \"least bad\" solution.  That way is usually linear regression with ordinary least squares (OLS)."
   ],
   "id": "c0f2521141a74102"
  },
  {
   "metadata": {},
   "cell_type": "markdown",
   "source": [
    "Now consider the overparameterized case, which means there are more unknowns than equations, i.e. p > N. In the simplest case, there is one equation with TWO unknowns.  Let's add one more parameter to the above equation\n",
    "\n",
    "`10 = 2 x + 4 y`\n",
    "\n",
    "Clearly, there are many possible solutions and we will need a way to select one.  I will show a way by minimizing the L2 norm, equivalent to calculating the Moore-Penrose inverse.\n"
   ],
   "id": "ae266999c7375869"
  },
  {
   "metadata": {},
   "cell_type": "markdown",
   "source": "The important point here is that the interpolation case is the only one with no freedom or wiggle room.  There is ONE solution and you are stuck with it, regardless of how well it generalizes.",
   "id": "efc10fee66dd45f5"
  },
  {
   "metadata": {},
   "cell_type": "markdown",
   "source": "# Libraries",
   "id": "366e9bb112c26c45"
  },
  {
   "metadata": {
    "ExecuteTime": {
     "end_time": "2024-10-14T15:51:43.141686Z",
     "start_time": "2024-10-14T15:51:43.138088Z"
    }
   },
   "cell_type": "code",
   "source": [
    "import pandas as pd\n",
    "import numpy as np\n",
    "\n",
    "pd.set_option('display.max_rows', 14)"
   ],
   "id": "6873dfcd79554a2e",
   "outputs": [],
   "execution_count": 21
  },
  {
   "metadata": {},
   "cell_type": "markdown",
   "source": "# Example underparameterized least-bad non-solutions\n",
   "id": "8b55efeac29609d5"
  },
  {
   "metadata": {},
   "cell_type": "markdown",
   "source": [
    "Recall our under-parameterized equations:\n",
    "\n",
    "```\n",
    "10 = 2 x\n",
    "10 = 5 x\n",
    "```"
   ],
   "id": "b5e6483dee2bf6d9"
  },
  {
   "metadata": {},
   "cell_type": "markdown",
   "source": "Let's consider some possible values of x and how far the equations would make them from the actual goal of 10.",
   "id": "ec7d1febfed927b0"
  },
  {
   "metadata": {
    "ExecuteTime": {
     "end_time": "2024-10-14T19:11:39.664883Z",
     "start_time": "2024-10-14T19:11:39.653728Z"
    }
   },
   "cell_type": "code",
   "source": [
    "x = np.arange(1.0, 6.0, 0.5)\n",
    "df = pd.DataFrame.from_dict({'x':x, '2x':2*x, '2x-10':(2*x-10), '5x':5*x, '5x-10':(5*x-10), 'RSS (sum diff)':((2*x-10)**2+(5*x-10)**2)})\n",
    "print(df.to_string(index=False))"
   ],
   "id": "59754e5561805d23",
   "outputs": [
    {
     "name": "stdout",
     "output_type": "stream",
     "text": [
      "  x   2x  2x-10   5x  5x-10  RSS (sum diff)\n",
      "1.0  2.0   -8.0  5.0   -5.0           89.00\n",
      "1.5  3.0   -7.0  7.5   -2.5           55.25\n",
      "2.0  4.0   -6.0 10.0    0.0           36.00\n",
      "2.5  5.0   -5.0 12.5    2.5           31.25\n",
      "3.0  6.0   -4.0 15.0    5.0           41.00\n",
      "3.5  7.0   -3.0 17.5    7.5           65.25\n",
      "4.0  8.0   -2.0 20.0   10.0          104.00\n",
      "4.5  9.0   -1.0 22.5   12.5          157.25\n",
      "5.0 10.0    0.0 25.0   15.0          225.00\n",
      "5.5 11.0    1.0 27.5   17.5          307.25\n"
     ]
    }
   ],
   "execution_count": 28
  },
  {
   "metadata": {},
   "cell_type": "markdown",
   "source": [
    "So if we chose the lowest-RSS value for x, it would be x=2.5, with an RSS of 31.25.\n",
    "\n",
    "OLS stands for \"ordinary least squares\" and this method of picking an under-parameterized solution can sometimes generalize well.  It equivalent to root mean square but without the root-- giving the same ordering though.\n",
    "\n",
    "I don't assess generalization error here.  This was just a train-only error, not including a test set."
   ],
   "id": "53996d432977fa79"
  },
  {
   "metadata": {},
   "cell_type": "markdown",
   "source": "# Example overparameterized solutions",
   "id": "e01561f3b8401cbe"
  },
  {
   "metadata": {},
   "cell_type": "markdown",
   "source": "We consider some possible values of x and determine what y would match those.  Note that because all of these solutions lead to a value of 10, there is no error and  RSS is always zero, so we cannot use the RSS to select one.",
   "id": "a56389c105f8920d"
  },
  {
   "metadata": {
    "ExecuteTime": {
     "end_time": "2024-10-14T18:20:33.773590Z",
     "start_time": "2024-10-14T18:20:33.705463Z"
    }
   },
   "cell_type": "code",
   "source": [
    "x = np.arange(0.5, 1.3, 0.1)\n",
    "df = pd.DataFrame.from_dict({'x':x, 'y':(10-2*x)/4})\n",
    "df['RSS'] = [0] * len(x)\n",
    "print(df.to_string(index=False))"
   ],
   "id": "e9094d8c6a00913",
   "outputs": [
    {
     "name": "stdout",
     "output_type": "stream",
     "text": [
      "  x    y  RSS\n",
      "0.5 2.25    0\n",
      "0.6 2.20    0\n",
      "0.7 2.15    0\n",
      "0.8 2.10    0\n",
      "0.9 2.05    0\n",
      "1.0 2.00    0\n",
      "1.1 1.95    0\n",
      "1.2 1.90    0\n"
     ]
    }
   ],
   "execution_count": 26
  },
  {
   "metadata": {},
   "cell_type": "markdown",
   "source": "## Choosing a solution with the min L2 norm",
   "id": "641338575d26ce13"
  },
  {
   "metadata": {},
   "cell_type": "markdown",
   "source": [
    "One possible way to choose a solution is to choose the one that minimizes the l2 norm of the parameters, meaning `x^2 + y^2`.  It is possible to solve this analystically, using the Moore-Penrose inverse, the matrix equivalent of taking the inverse of a number (1/2 vs. 2).\n",
    "\n",
    "But here let's skip the math and just calculate the L2 values for our possible solutions and choose the minimum."
   ],
   "id": "2dcbc8d4c890c5"
  },
  {
   "metadata": {
    "ExecuteTime": {
     "end_time": "2024-10-14T15:51:43.168731Z",
     "start_time": "2024-10-14T15:51:43.162685Z"
    }
   },
   "cell_type": "code",
   "source": [
    "df[\"L2\"] = df[\"x\"]**2 + df[\"y\"]**2\n",
    "print(df.to_string(index=False))"
   ],
   "id": "76bcf9338cca45c2",
   "outputs": [
    {
     "name": "stdout",
     "output_type": "stream",
     "text": [
      "  x    y     L2\n",
      "0.5 2.25 5.3125\n",
      "0.6 2.20 5.2000\n",
      "0.7 2.15 5.1125\n",
      "0.8 2.10 5.0500\n",
      "0.9 2.05 5.0125\n",
      "1.0 2.00 5.0000\n",
      "1.1 1.95 5.0125\n",
      "1.2 1.90 5.0500\n"
     ]
    }
   ],
   "execution_count": 24
  },
  {
   "metadata": {},
   "cell_type": "markdown",
   "source": [
    "The minimum L2, namely of 5.00, is attained at:\n",
    "`(x=1.0, y=2.0)`\n",
    "\n",
    "So let's choose that solution."
   ],
   "id": "1fbaaad4716565f1"
  },
  {
   "metadata": {},
   "cell_type": "markdown",
   "source": "Just for reference, let me also add the residual sum of squares (RSS) to the table.",
   "id": "6bacf204dfd48904"
  },
  {
   "metadata": {
    "ExecuteTime": {
     "end_time": "2024-10-14T15:51:43.175075Z",
     "start_time": "2024-10-14T15:51:43.170429Z"
    }
   },
   "cell_type": "code",
   "source": [
    "df = pd.DataFrame.from_dict({'x':x, 'y':(10-2*x)/4})\n",
    "df[\"RSS\"] = [0] * len(df)\n",
    "df[\"L2\"] = df[\"x\"]**2 + df[\"y\"]**2\n",
    "print(df.to_string(index=False))"
   ],
   "id": "37c528891679d700",
   "outputs": [
    {
     "name": "stdout",
     "output_type": "stream",
     "text": [
      "  x    y  RSS     L2\n",
      "0.5 2.25    0 5.3125\n",
      "0.6 2.20    0 5.2000\n",
      "0.7 2.15    0 5.1125\n",
      "0.8 2.10    0 5.0500\n",
      "0.9 2.05    0 5.0125\n",
      "1.0 2.00    0 5.0000\n",
      "1.1 1.95    0 5.0125\n",
      "1.2 1.90    0 5.0500\n"
     ]
    }
   ],
   "execution_count": 25
  },
  {
   "metadata": {
    "ExecuteTime": {
     "end_time": "2024-10-14T15:51:43.177611Z",
     "start_time": "2024-10-14T15:51:43.175767Z"
    }
   },
   "cell_type": "code",
   "source": "",
   "id": "20e45abb03a6eaf2",
   "outputs": [],
   "execution_count": 25
  }
 ],
 "metadata": {
  "kernelspec": {
   "display_name": "Python 3",
   "language": "python",
   "name": "python3"
  },
  "language_info": {
   "codemirror_mode": {
    "name": "ipython",
    "version": 2
   },
   "file_extension": ".py",
   "mimetype": "text/x-python",
   "name": "python",
   "nbconvert_exporter": "python",
   "pygments_lexer": "ipython2",
   "version": "2.7.6"
  }
 },
 "nbformat": 4,
 "nbformat_minor": 5
}
