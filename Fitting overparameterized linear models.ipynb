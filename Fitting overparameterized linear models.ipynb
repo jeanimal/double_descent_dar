{
 "cells": [
  {
   "metadata": {},
   "cell_type": "markdown",
   "source": "# Methods to fit an overparameterized linear model",
   "id": "da4090646cb9a0b4"
  },
  {
   "metadata": {},
   "cell_type": "markdown",
   "source": [
    "Basic algebra teaches us that a system of equations having N equations with N unknown parameters can be solved-- with a unique solution. But perfect solvability isn't the only situation. Define p as the number of unknown parameters.  Suppose there are N equations. Then there are two other cases:\n",
    "* underparameterized: When p < N, then there are no solutions (or the system can be re-written as fewer equations).\n",
    "* overparameterized: When p > N, there are many possible solutions.\n",
    "\n",
    "Here I focus on the overparameterized case.  How do we choose a single solution?"
   ],
   "id": "58e7726287589937"
  },
  {
   "metadata": {},
   "cell_type": "markdown",
   "source": "# Setting up the example",
   "id": "5ee63948381e9718"
  },
  {
   "metadata": {},
   "cell_type": "markdown",
   "source": [
    "But first, consider the simplest case of N equations with N unknowns, which is one equation with one unknown.  Here is an example:\n",
    "\n",
    "`10 = 2 x`\n",
    "\n",
    "That has one solution, namely `x = 5`.  (Note that we solve this by taking the product of 10 by the inverse of 2, which is 1/2.)"
   ],
   "id": "891f1eed385fe4bd"
  },
  {
   "metadata": {},
   "cell_type": "markdown",
   "source": [
    "An underparameterize case would mean more equations than unknowns.  So let's add one more equation:\n",
    "\n",
    "```\n",
    "10 = 2 x\n",
    "10 = 5 x\n",
    "```\n",
    "\n",
    "Clearly, no solution is perfect and we will need a way to select the \"least bad\" solution.  That way is usually linear regression with ordinary least squares (OLS)."
   ],
   "id": "c0f2521141a74102"
  },
  {
   "metadata": {},
   "cell_type": "markdown",
   "source": [
    "Now consider the overparameterized case, which means there are more unknowns than equations, i.e. p > N. In the simplest case, there is one equation with TWO unknowns.  Let's add one more parameter to the above equation\n",
    "\n",
    "`10 = 2 x + 4 y`\n",
    "\n",
    "Clearly, there are many possible solutions and we will need a way to select one.  I will show a way by minimizing the L2 norm, equivalent to calculating the Moore-Penrose inverse.\n"
   ],
   "id": "ae266999c7375869"
  },
  {
   "metadata": {},
   "cell_type": "markdown",
   "source": "The important point here is that the interpolation case is the only one with no freedom or wiggle room.  There is ONE solution and you are stuck with it, regardless of how well it generalizes.",
   "id": "efc10fee66dd45f5"
  },
  {
   "metadata": {},
   "cell_type": "markdown",
   "source": "# Libraries",
   "id": "366e9bb112c26c45"
  },
  {
   "metadata": {
    "ExecuteTime": {
     "end_time": "2024-10-15T14:29:29.152780Z",
     "start_time": "2024-10-15T14:29:28.953766Z"
    }
   },
   "cell_type": "code",
   "source": [
    "import pandas as pd\n",
    "import numpy as np\n",
    "\n",
    "pd.set_option('display.max_rows', 14)"
   ],
   "id": "6873dfcd79554a2e",
   "outputs": [],
   "execution_count": 1
  },
  {
   "metadata": {},
   "cell_type": "markdown",
   "source": "# Example underparameterized non-solutions\n",
   "id": "8b55efeac29609d5"
  },
  {
   "metadata": {},
   "cell_type": "markdown",
   "source": [
    "Recall our under-parameterized system of equations:\n",
    "\n",
    "```\n",
    "10 = 2 x\n",
    "10 = 5 x\n",
    "```"
   ],
   "id": "b5e6483dee2bf6d9"
  },
  {
   "metadata": {},
   "cell_type": "markdown",
   "source": "Let's consider some possible values of x and how far the equations would make them from the actual goal of 10.",
   "id": "ec7d1febfed927b0"
  },
  {
   "metadata": {
    "ExecuteTime": {
     "end_time": "2024-10-15T14:29:29.158252Z",
     "start_time": "2024-10-15T14:29:29.153817Z"
    }
   },
   "cell_type": "code",
   "source": [
    "x = np.arange(1.0, 6.0, 0.5)\n",
    "df = pd.DataFrame.from_dict({'x':x, '2x':2*x, '2x-10':(2*x-10), '5x':5*x, '5x-10':(5*x-10), 'RSS':((2*x-10)**2+(5*x-10)**2)})\n",
    "print(df.to_string(index=False))"
   ],
   "id": "59754e5561805d23",
   "outputs": [
    {
     "name": "stdout",
     "output_type": "stream",
     "text": [
      "  x   2x  2x-10   5x  5x-10    RSS\n",
      "1.0  2.0   -8.0  5.0   -5.0  89.00\n",
      "1.5  3.0   -7.0  7.5   -2.5  55.25\n",
      "2.0  4.0   -6.0 10.0    0.0  36.00\n",
      "2.5  5.0   -5.0 12.5    2.5  31.25\n",
      "3.0  6.0   -4.0 15.0    5.0  41.00\n",
      "3.5  7.0   -3.0 17.5    7.5  65.25\n",
      "4.0  8.0   -2.0 20.0   10.0 104.00\n",
      "4.5  9.0   -1.0 22.5   12.5 157.25\n",
      "5.0 10.0    0.0 25.0   15.0 225.00\n",
      "5.5 11.0    1.0 27.5   17.5 307.25\n"
     ]
    }
   ],
   "execution_count": 2
  },
  {
   "metadata": {},
   "cell_type": "markdown",
   "source": [
    "So if we chose the lowest-RSS value for x, it would be x=2.5, with an RSS of 31.25.\n",
    "\n",
    "OLS stands for \"ordinary least squares\" and this method of picking an under-parameterized solution can sometimes generalize well.  It equivalent to root mean square but without the root-- giving the same ordering though.\n",
    "\n",
    "I don't assess generalization error here.  This was just a train-only error, not including a test set.\n",
    "\n",
    "But just for kicks, to start thinking about generalization, let's add the L2 norm to our table."
   ],
   "id": "53996d432977fa79"
  },
  {
   "metadata": {
    "ExecuteTime": {
     "end_time": "2024-10-15T14:29:29.162594Z",
     "start_time": "2024-10-15T14:29:29.158764Z"
    }
   },
   "cell_type": "code",
   "source": [
    "x = np.arange(1.0, 6.0, 0.5)\n",
    "df = pd.DataFrame.from_dict({'x':x, 'RSS':((2*x-10)**2+(5*x-10)**2), 'L2':(x**2), 'RSS+2*L2':((2*x-10)**2+(5*x-10)**2) + 2*x**2})\n",
    "print(df.to_string(index=False))"
   ],
   "id": "689310f64d3b14a0",
   "outputs": [
    {
     "name": "stdout",
     "output_type": "stream",
     "text": [
      "  x    RSS    L2  RSS+2*L2\n",
      "1.0  89.00  1.00     91.00\n",
      "1.5  55.25  2.25     59.75\n",
      "2.0  36.00  4.00     44.00\n",
      "2.5  31.25  6.25     43.75\n",
      "3.0  41.00  9.00     59.00\n",
      "3.5  65.25 12.25     89.75\n",
      "4.0 104.00 16.00    136.00\n",
      "4.5 157.25 20.25    197.75\n",
      "5.0 225.00 25.00    275.00\n",
      "5.5 307.25 30.25    367.75\n"
     ]
    }
   ],
   "execution_count": 3
  },
  {
   "metadata": {},
   "cell_type": "markdown",
   "source": "# Example overparameterized solutions",
   "id": "e01561f3b8401cbe"
  },
  {
   "metadata": {},
   "cell_type": "markdown",
   "source": "We consider some possible values of x and determine what y would match those.  Note that because all of these solutions lead to a value of 10, there is no error and  RSS is always zero, so we cannot use the RSS to select one.",
   "id": "a56389c105f8920d"
  },
  {
   "metadata": {
    "ExecuteTime": {
     "end_time": "2024-10-15T14:29:29.166033Z",
     "start_time": "2024-10-15T14:29:29.163167Z"
    }
   },
   "cell_type": "code",
   "source": [
    "x = np.arange(0.5, 1.3, 0.1)\n",
    "df = pd.DataFrame.from_dict({'x':x, 'y':(10-2*x)/4})\n",
    "df['RSS'] = [0] * len(x)\n",
    "print(df.to_string(index=False))"
   ],
   "id": "e9094d8c6a00913",
   "outputs": [
    {
     "name": "stdout",
     "output_type": "stream",
     "text": [
      "  x    y  RSS\n",
      "0.5 2.25    0\n",
      "0.6 2.20    0\n",
      "0.7 2.15    0\n",
      "0.8 2.10    0\n",
      "0.9 2.05    0\n",
      "1.0 2.00    0\n",
      "1.1 1.95    0\n",
      "1.2 1.90    0\n"
     ]
    }
   ],
   "execution_count": 4
  },
  {
   "metadata": {},
   "cell_type": "markdown",
   "source": "## Choosing a solution with the min L2 norm",
   "id": "641338575d26ce13"
  },
  {
   "metadata": {},
   "cell_type": "markdown",
   "source": [
    "One possible way to choose a solution is to choose the one that minimizes the l2 norm of the parameters, meaning `x^2 + y^2`.  It is possible to solve this analystically, using the Moore-Penrose inverse, the matrix equivalent of taking the inverse of a number (1/2 vs. 2).\n",
    "\n",
    "But here let's skip the math and just calculate the L2 values for our possible solutions and choose the minimum."
   ],
   "id": "2dcbc8d4c890c5"
  },
  {
   "metadata": {
    "ExecuteTime": {
     "end_time": "2024-10-15T14:29:29.170634Z",
     "start_time": "2024-10-15T14:29:29.167384Z"
    }
   },
   "cell_type": "code",
   "source": [
    "df[\"L2\"] = df[\"x\"]**2 + df[\"y\"]**2\n",
    "print(df.to_string(index=False))"
   ],
   "id": "76bcf9338cca45c2",
   "outputs": [
    {
     "name": "stdout",
     "output_type": "stream",
     "text": [
      "  x    y  RSS     L2\n",
      "0.5 2.25    0 5.3125\n",
      "0.6 2.20    0 5.2000\n",
      "0.7 2.15    0 5.1125\n",
      "0.8 2.10    0 5.0500\n",
      "0.9 2.05    0 5.0125\n",
      "1.0 2.00    0 5.0000\n",
      "1.1 1.95    0 5.0125\n",
      "1.2 1.90    0 5.0500\n"
     ]
    }
   ],
   "execution_count": 5
  },
  {
   "metadata": {},
   "cell_type": "markdown",
   "source": [
    "The minimum L2, namely of 5.00, is attained at:\n",
    "`(x=1.0, y=2.0)`\n",
    "\n",
    "So let's choose that solution."
   ],
   "id": "1fbaaad4716565f1"
  },
  {
   "metadata": {},
   "cell_type": "markdown",
   "source": "Just for reference, let me also add the residual sum of squares (RSS) to the table.",
   "id": "6bacf204dfd48904"
  },
  {
   "metadata": {
    "ExecuteTime": {
     "end_time": "2024-10-15T14:29:29.174466Z",
     "start_time": "2024-10-15T14:29:29.171138Z"
    }
   },
   "cell_type": "code",
   "source": [
    "df = pd.DataFrame.from_dict({'x':x, 'y':(10-2*x)/4})\n",
    "df[\"RSS\"] = [0] * len(df)\n",
    "df[\"L2\"] = df[\"x\"]**2 + df[\"y\"]**2\n",
    "print(df.to_string(index=False))"
   ],
   "id": "37c528891679d700",
   "outputs": [
    {
     "name": "stdout",
     "output_type": "stream",
     "text": [
      "  x    y  RSS     L2\n",
      "0.5 2.25    0 5.3125\n",
      "0.6 2.20    0 5.2000\n",
      "0.7 2.15    0 5.1125\n",
      "0.8 2.10    0 5.0500\n",
      "0.9 2.05    0 5.0125\n",
      "1.0 2.00    0 5.0000\n",
      "1.1 1.95    0 5.0125\n",
      "1.2 1.90    0 5.0500\n"
     ]
    }
   ],
   "execution_count": 6
  },
  {
   "metadata": {
    "ExecuteTime": {
     "end_time": "2024-10-15T14:29:29.176504Z",
     "start_time": "2024-10-15T14:29:29.175029Z"
    }
   },
   "cell_type": "code",
   "source": "",
   "id": "20e45abb03a6eaf2",
   "outputs": [],
   "execution_count": 6
  },
  {
   "metadata": {},
   "cell_type": "markdown",
   "source": "# Regularization",
   "id": "38349818f350d087"
  },
  {
   "metadata": {},
   "cell_type": "markdown",
   "source": [
    "Now suppose we were using ridge regression.  Regularization does not require an exact solution so we are no longer restricted to `2x + 5y = 10`, that is, no longer require RSS to be zero.  And we minimize a weighted sum of RSS and the L2 norm:\n",
    "\n",
    "`RSS + 𝛼 L2`\n",
    "\n",
    "So for 𝛼=1.0 we would get the chart below."
   ],
   "id": "cb7d2dc4db0465fd"
  },
  {
   "metadata": {
    "ExecuteTime": {
     "end_time": "2024-10-15T14:29:29.183052Z",
     "start_time": "2024-10-15T14:29:29.176903Z"
    }
   },
   "cell_type": "code",
   "source": [
    "x = np.arange(0.0, 4.0, 0.5)\n",
    "df = pd.DataFrame.from_dict({'x':x, 'y':(10-2*x)/4})\n",
    "df[\"predict\"] = [10] * len(df)\n",
    "df[\"RSS\"] = [0] * len(df)\n",
    "df[\"L2\"] = df[\"x\"]**2 + df[\"y\"]**2\n",
    "df"
   ],
   "id": "86a0adb75f8e3882",
   "outputs": [
    {
     "data": {
      "text/plain": [
       "     x     y  predict  RSS       L2\n",
       "0  0.0  2.50       10    0   6.2500\n",
       "1  0.5  2.25       10    0   5.3125\n",
       "2  1.0  2.00       10    0   5.0000\n",
       "3  1.5  1.75       10    0   5.3125\n",
       "4  2.0  1.50       10    0   6.2500\n",
       "5  2.5  1.25       10    0   7.8125\n",
       "6  3.0  1.00       10    0  10.0000\n",
       "7  3.5  0.75       10    0  12.8125"
      ],
      "text/html": [
       "<div>\n",
       "<style scoped>\n",
       "    .dataframe tbody tr th:only-of-type {\n",
       "        vertical-align: middle;\n",
       "    }\n",
       "\n",
       "    .dataframe tbody tr th {\n",
       "        vertical-align: top;\n",
       "    }\n",
       "\n",
       "    .dataframe thead th {\n",
       "        text-align: right;\n",
       "    }\n",
       "</style>\n",
       "<table border=\"1\" class=\"dataframe\">\n",
       "  <thead>\n",
       "    <tr style=\"text-align: right;\">\n",
       "      <th></th>\n",
       "      <th>x</th>\n",
       "      <th>y</th>\n",
       "      <th>predict</th>\n",
       "      <th>RSS</th>\n",
       "      <th>L2</th>\n",
       "    </tr>\n",
       "  </thead>\n",
       "  <tbody>\n",
       "    <tr>\n",
       "      <th>0</th>\n",
       "      <td>0.0</td>\n",
       "      <td>2.50</td>\n",
       "      <td>10</td>\n",
       "      <td>0</td>\n",
       "      <td>6.2500</td>\n",
       "    </tr>\n",
       "    <tr>\n",
       "      <th>1</th>\n",
       "      <td>0.5</td>\n",
       "      <td>2.25</td>\n",
       "      <td>10</td>\n",
       "      <td>0</td>\n",
       "      <td>5.3125</td>\n",
       "    </tr>\n",
       "    <tr>\n",
       "      <th>2</th>\n",
       "      <td>1.0</td>\n",
       "      <td>2.00</td>\n",
       "      <td>10</td>\n",
       "      <td>0</td>\n",
       "      <td>5.0000</td>\n",
       "    </tr>\n",
       "    <tr>\n",
       "      <th>3</th>\n",
       "      <td>1.5</td>\n",
       "      <td>1.75</td>\n",
       "      <td>10</td>\n",
       "      <td>0</td>\n",
       "      <td>5.3125</td>\n",
       "    </tr>\n",
       "    <tr>\n",
       "      <th>4</th>\n",
       "      <td>2.0</td>\n",
       "      <td>1.50</td>\n",
       "      <td>10</td>\n",
       "      <td>0</td>\n",
       "      <td>6.2500</td>\n",
       "    </tr>\n",
       "    <tr>\n",
       "      <th>5</th>\n",
       "      <td>2.5</td>\n",
       "      <td>1.25</td>\n",
       "      <td>10</td>\n",
       "      <td>0</td>\n",
       "      <td>7.8125</td>\n",
       "    </tr>\n",
       "    <tr>\n",
       "      <th>6</th>\n",
       "      <td>3.0</td>\n",
       "      <td>1.00</td>\n",
       "      <td>10</td>\n",
       "      <td>0</td>\n",
       "      <td>10.0000</td>\n",
       "    </tr>\n",
       "    <tr>\n",
       "      <th>7</th>\n",
       "      <td>3.5</td>\n",
       "      <td>0.75</td>\n",
       "      <td>10</td>\n",
       "      <td>0</td>\n",
       "      <td>12.8125</td>\n",
       "    </tr>\n",
       "  </tbody>\n",
       "</table>\n",
       "</div>"
      ]
     },
     "execution_count": 7,
     "metadata": {},
     "output_type": "execute_result"
    }
   ],
   "execution_count": 7
  },
  {
   "metadata": {
    "ExecuteTime": {
     "end_time": "2024-10-15T14:29:29.186336Z",
     "start_time": "2024-10-15T14:29:29.184167Z"
    }
   },
   "cell_type": "code",
   "source": "alpha = 1.0",
   "id": "e63c9407e3ef4dbe",
   "outputs": [],
   "execution_count": 8
  },
  {
   "metadata": {
    "ExecuteTime": {
     "end_time": "2024-10-15T14:29:29.190986Z",
     "start_time": "2024-10-15T14:29:29.187253Z"
    }
   },
   "cell_type": "code",
   "source": [
    "more = pd.DataFrame.from_dict({\"x\":[0.95], \"y\":[1.90], \"predict\":[2*0.95+4*1.9], \"RSS\":[(10-(2+0.95+4*1.9))**2], 'L2':[(0.95**2+1.9**2)]})\n",
    "df2 = pd.concat([df, more])\n",
    "df2.sort_values(by='x', inplace=True)\n",
    "df2[\"ridge\"] = df2[\"RSS\"] +  alpha*df2[\"L2\"]"
   ],
   "id": "9f0072e450c6bc9a",
   "outputs": [],
   "execution_count": 9
  },
  {
   "metadata": {
    "ExecuteTime": {
     "end_time": "2024-10-15T14:29:29.195021Z",
     "start_time": "2024-10-15T14:29:29.191677Z"
    }
   },
   "cell_type": "code",
   "source": "print(df2.to_string(index=False))",
   "id": "b71340d6537f6cd",
   "outputs": [
    {
     "name": "stdout",
     "output_type": "stream",
     "text": [
      "   x    y  predict    RSS      L2   ridge\n",
      "0.00 2.50     10.0 0.0000  6.2500  6.2500\n",
      "0.50 2.25     10.0 0.0000  5.3125  5.3125\n",
      "0.95 1.90      9.5 0.3025  4.5125  4.8150\n",
      "1.00 2.00     10.0 0.0000  5.0000  5.0000\n",
      "1.50 1.75     10.0 0.0000  5.3125  5.3125\n",
      "2.00 1.50     10.0 0.0000  6.2500  6.2500\n",
      "2.50 1.25     10.0 0.0000  7.8125  7.8125\n",
      "3.00 1.00     10.0 0.0000 10.0000 10.0000\n",
      "3.50 0.75     10.0 0.0000 12.8125 12.8125\n"
     ]
    }
   ],
   "execution_count": 10
  },
  {
   "metadata": {},
   "cell_type": "markdown",
   "source": "We see that with the ridge metric, which is RSS + L2, the minimum is achieved for (x=0.95, y=1.90).",
   "id": "bdcbec0945317807"
  },
  {
   "metadata": {},
   "cell_type": "markdown",
   "source": [
    "# The former interpolating regime\n",
    "\n",
    "Interestingly, when we have the interpolating regime of 1 equation with 1 unknown, Ridge regression gives some freedom in choosing (x, y) values because an exact solution with an RSS of 0 is no longer the minimum.\n",
    "\n",
    "Recall we were solving\n",
    "\n",
    "`10 = 2 x`\n",
    "\n",
    "If we require an exact solution (RSS=0), then x=5.0 is the only possible value.  Let's see what happens when we try some other values."
   ],
   "id": "d0f946212c6c661"
  },
  {
   "metadata": {
    "ExecuteTime": {
     "end_time": "2024-10-15T14:29:29.199305Z",
     "start_time": "2024-10-15T14:29:29.195548Z"
    }
   },
   "cell_type": "code",
   "source": [
    "x = np.arange(3.0, 7.0, 0.5)\n",
    "df = pd.DataFrame.from_dict({'x':x, 'predict':2*x, 'RSS':((2*x-10)**2), 'L2':x**2})\n",
    "df[\"ridge\"] = df[\"RSS\"] + alpha*df[\"L2\"]\n",
    "print(df.to_string(index=False))"
   ],
   "id": "9662e6990688ee58",
   "outputs": [
    {
     "name": "stdout",
     "output_type": "stream",
     "text": [
      "  x  predict  RSS    L2  ridge\n",
      "3.0      6.0 16.0  9.00  25.00\n",
      "3.5      7.0  9.0 12.25  21.25\n",
      "4.0      8.0  4.0 16.00  20.00\n",
      "4.5      9.0  1.0 20.25  21.25\n",
      "5.0     10.0  0.0 25.00  25.00\n",
      "5.5     11.0  1.0 30.25  31.25\n",
      "6.0     12.0  4.0 36.00  40.00\n",
      "6.5     13.0  9.0 42.25  51.25\n"
     ]
    }
   ],
   "execution_count": 11
  },
  {
   "metadata": {},
   "cell_type": "markdown",
   "source": "A ridge regularizer would favor x=4.0 over x=5.0.  Although x=4.0 incurs some error (RSS is not zero), its L2 norm is smaller, meaning it is less likely to be fitting noise.",
   "id": "c5373b469c6bc861"
  }
 ],
 "metadata": {
  "kernelspec": {
   "display_name": "Python 3",
   "language": "python",
   "name": "python3"
  },
  "language_info": {
   "codemirror_mode": {
    "name": "ipython",
    "version": 2
   },
   "file_extension": ".py",
   "mimetype": "text/x-python",
   "name": "python",
   "nbconvert_exporter": "python",
   "pygments_lexer": "ipython2",
   "version": "2.7.6"
  }
 },
 "nbformat": 4,
 "nbformat_minor": 5
}
