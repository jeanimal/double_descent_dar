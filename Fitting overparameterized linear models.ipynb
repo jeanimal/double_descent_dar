{
 "cells": [
  {
   "metadata": {},
   "cell_type": "markdown",
   "source": "# Methods to fit an overparameterized linear model",
   "id": "da4090646cb9a0b4"
  },
  {
   "metadata": {},
   "cell_type": "markdown",
   "source": [
    "Basic algebra teaches us that a system of equations having N equations with N unknown parameters can be solved-- with a unique solution. But perfect solvability isn't the only situation. Define p as the number of unknown parameters.  Suppose there are N equations. Then there are two other cases:\n",
    "* underparameterized: When p < N, then there are no solutions (or the system can be re-written as fewer equations).\n",
    "* overparameterized: When p > N, there are many possible solutions.\n",
    "\n",
    "Here I focus on the overparameterized case.  How do we choose a single solution?"
   ],
   "id": "58e7726287589937"
  },
  {
   "metadata": {},
   "cell_type": "markdown",
   "source": "# Setting up the example",
   "id": "5ee63948381e9718"
  },
  {
   "metadata": {},
   "cell_type": "markdown",
   "source": [
    "But first, consider the simplest case of N equations with N unknowns, which is one equation with one unknown.  Here is an example:\n",
    "\n",
    "`10 = 2 x`\n",
    "\n",
    "That has one solution, namely `x = 5`.  (Note that we solve this by taking the product of 10 by the inverse of 2, which is 1/2.)"
   ],
   "id": "891f1eed385fe4bd"
  },
  {
   "metadata": {},
   "cell_type": "markdown",
   "source": [
    "Now consider the overparameterized case, which means there are more unknowns than equations, i.e. p > N. In the simplest case, there is one equation with TWO unknowns.  Let's add one more parameter to the above equation\n",
    "\n",
    "`10 = 2 x + 4 y`\n",
    "\n",
    "Clearly, there are many possible solutions.\n"
   ],
   "id": "ae266999c7375869"
  },
  {
   "metadata": {},
   "cell_type": "markdown",
   "source": "# Libraries",
   "id": "366e9bb112c26c45"
  },
  {
   "metadata": {
    "ExecuteTime": {
     "end_time": "2024-10-14T02:28:17.392495Z",
     "start_time": "2024-10-14T02:28:17.390628Z"
    }
   },
   "cell_type": "code",
   "source": [
    "import pandas as pd\n",
    "import numpy as np\n",
    "\n",
    "pd.set_option('display.max_rows', 14)"
   ],
   "id": "6873dfcd79554a2e",
   "outputs": [],
   "execution_count": 1
  },
  {
   "metadata": {},
   "cell_type": "markdown",
   "source": "# Example solutions",
   "id": "e01561f3b8401cbe"
  },
  {
   "metadata": {},
   "cell_type": "markdown",
   "source": "We consider some possible values of x and determine what y would match those.",
   "id": "a56389c105f8920d"
  },
  {
   "metadata": {
    "ExecuteTime": {
     "end_time": "2024-10-14T02:28:17.394920Z",
     "start_time": "2024-10-14T02:28:17.393329Z"
    }
   },
   "cell_type": "code",
   "source": "x = np.arange(0.5, 1.3, 0.1)",
   "id": "e9094d8c6a00913",
   "outputs": [],
   "execution_count": 2
  },
  {
   "metadata": {
    "ExecuteTime": {
     "end_time": "2024-10-14T02:28:17.399116Z",
     "start_time": "2024-10-14T02:28:17.396570Z"
    }
   },
   "cell_type": "code",
   "source": "df = pd.DataFrame.from_dict({'x':x, 'y':(10-2*x)/4})",
   "id": "9927abe306674458",
   "outputs": [],
   "execution_count": 3
  },
  {
   "metadata": {
    "ExecuteTime": {
     "end_time": "2024-10-14T02:28:17.405581Z",
     "start_time": "2024-10-14T02:28:17.400247Z"
    }
   },
   "cell_type": "code",
   "source": "print(df.to_string(index=False))",
   "id": "73f89f2184cb3bf3",
   "outputs": [
    {
     "name": "stdout",
     "output_type": "stream",
     "text": [
      "  x    y\n",
      "0.5 2.25\n",
      "0.6 2.20\n",
      "0.7 2.15\n",
      "0.8 2.10\n",
      "0.9 2.05\n",
      "1.0 2.00\n",
      "1.1 1.95\n",
      "1.2 1.90\n"
     ]
    }
   ],
   "execution_count": 4
  },
  {
   "metadata": {},
   "cell_type": "markdown",
   "source": "# Choosing a solution with the min L2 norm",
   "id": "641338575d26ce13"
  },
  {
   "metadata": {},
   "cell_type": "markdown",
   "source": "One possible way to choose a solution is to choose the one that minimizes the l2 norm of the parameters, meaning `x^2 + y^2`.  It is possible to solve for this, and that would lead to the Moore-Penrose inverse.  But here le't just look at the L2 values for our possible solutions and choose the minimum.",
   "id": "2dcbc8d4c890c5"
  },
  {
   "metadata": {
    "ExecuteTime": {
     "end_time": "2024-10-14T02:28:17.417583Z",
     "start_time": "2024-10-14T02:28:17.409254Z"
    }
   },
   "cell_type": "code",
   "source": [
    "df[\"L2\"] = df[\"x\"]**2 + df[\"y\"]**2\n",
    "print(df.to_string(index=False))"
   ],
   "id": "76bcf9338cca45c2",
   "outputs": [
    {
     "name": "stdout",
     "output_type": "stream",
     "text": [
      "  x    y     L2\n",
      "0.5 2.25 5.3125\n",
      "0.6 2.20 5.2000\n",
      "0.7 2.15 5.1125\n",
      "0.8 2.10 5.0500\n",
      "0.9 2.05 5.0125\n",
      "1.0 2.00 5.0000\n",
      "1.1 1.95 5.0125\n",
      "1.2 1.90 5.0500\n"
     ]
    }
   ],
   "execution_count": 5
  },
  {
   "metadata": {},
   "cell_type": "markdown",
   "source": [
    "The minimum L2, namely of 5.00, is attained at:\n",
    "`(x=1.0, y=2.0)`\n",
    "\n",
    "So let's choose that solution."
   ],
   "id": "1fbaaad4716565f1"
  }
 ],
 "metadata": {
  "kernelspec": {
   "display_name": "Python 3",
   "language": "python",
   "name": "python3"
  },
  "language_info": {
   "codemirror_mode": {
    "name": "ipython",
    "version": 2
   },
   "file_extension": ".py",
   "mimetype": "text/x-python",
   "name": "python",
   "nbconvert_exporter": "python",
   "pygments_lexer": "ipython2",
   "version": "2.7.6"
  }
 },
 "nbformat": 4,
 "nbformat_minor": 5
}
