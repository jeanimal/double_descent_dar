{
 "cells": [
  {
   "cell_type": "markdown",
   "id": "9a3884187b7f4019",
   "metadata": {},
   "source": [
    "# Double descent in linear regression estimated with gradient descent"
   ]
  },
  {
   "cell_type": "markdown",
   "id": "578adecaaa0ae185",
   "metadata": {},
   "source": [
    "The other notebook demonstrated double descent in simple linear regression fitted with analytic methods, but as I will explain, the analytic methods have a discontinuity at the interpolation threshold, an double descent could be blamed on that.\n",
    "\n",
    "So here I fit linear regression with gradient descent, since that does not know about the interpolation threshold or do anything different at it.  I will show the \"double descent\" in test error still occurs."
   ]
  },
  {
   "cell_type": "markdown",
   "id": "fae063846b830307",
   "metadata": {},
   "source": [
    "# Libraries"
   ]
  },
  {
   "cell_type": "code",
   "id": "initial_id",
   "metadata": {
    "collapsed": true,
    "jupyter": {
     "outputs_hidden": true
    },
    "ExecuteTime": {
     "end_time": "2024-10-20T15:42:52.516161Z",
     "start_time": "2024-10-20T15:42:52.203313Z"
    }
   },
   "source": [
    "import numpy as np\n",
    "import pandas as pd\n",
    "import warnings\n",
    "\n",
    "import matplotlib.pyplot as plt\n",
    "from sklearn.exceptions import ConvergenceWarning\n",
    "from sklearn.metrics import mean_absolute_error, root_mean_squared_error\n",
    "# from sklearn.ensemble import RandomForestRegressor\n",
    "from sklearn import linear_model"
   ],
   "outputs": [],
   "execution_count": 1
  },
  {
   "cell_type": "markdown",
   "id": "eed787219daef47c",
   "metadata": {},
   "source": [
    "# Data set"
   ]
  },
  {
   "cell_type": "markdown",
   "id": "f801e81d8967712f",
   "metadata": {},
   "source": [
    "Here I load a data set to analyze.  In an earlier [R version of this notebook](https://github.com/jeanimal/farewell_bias_variance), I used the \"mtcars\" data set which has data on various models in Motor Trend cars of the year.\n",
    "\n",
    "The goal is to predict the miles per gallon (mpg) of various models based on their other characteristics."
   ]
  },
  {
   "cell_type": "code",
   "id": "2f6b82fc51e0d3b7",
   "metadata": {
    "ExecuteTime": {
     "end_time": "2024-10-20T15:42:52.519960Z",
     "start_time": "2024-10-20T15:42:52.517264Z"
    }
   },
   "source": [
    "import os\n",
    "notebook_path = os.path.abspath(\"double_descent_mtcars_reg.ipynb\")\n",
    "print(notebook_path)\n",
    "csv_path = os.path.join(os.path.dirname(notebook_path), \"data/mt_cars.csv\")\n",
    "print(csv_path)"
   ],
   "outputs": [
    {
     "name": "stdout",
     "output_type": "stream",
     "text": [
      "/Users/jeanortega/PycharmProjects/pythonProject1/double_descent_mtcars_reg.ipynb\n",
      "/Users/jeanortega/PycharmProjects/pythonProject1/data/mt_cars.csv\n"
     ]
    }
   ],
   "execution_count": 2
  },
  {
   "cell_type": "code",
   "id": "17f671c041e3a9f3",
   "metadata": {
    "ExecuteTime": {
     "end_time": "2024-10-20T15:42:52.523979Z",
     "start_time": "2024-10-20T15:42:52.520391Z"
    }
   },
   "source": [
    "df = pd.read_csv(csv_path)"
   ],
   "outputs": [],
   "execution_count": 3
  },
  {
   "cell_type": "code",
   "id": "6c74bee6a1a3c3c3",
   "metadata": {
    "ExecuteTime": {
     "end_time": "2024-10-20T15:42:52.532451Z",
     "start_time": "2024-10-20T15:42:52.525680Z"
    }
   },
   "source": [
    "df.head()"
   ],
   "outputs": [
    {
     "data": {
      "text/plain": [
       "               model   mpg  cyl   disp   hp  drat     wt   qsec  vs  am  gear  \\\n",
       "0          Mazda RX4  21.0    6  160.0  110  3.90  2.620  16.46   0   1     4   \n",
       "1      Mazda RX4 Wag  21.0    6  160.0  110  3.90  2.875  17.02   0   1     4   \n",
       "2         Datsun 710  22.8    4  108.0   93  3.85  2.320  18.61   1   1     4   \n",
       "3     Hornet 4 Drive  21.4    6  258.0  110  3.08  3.215  19.44   1   0     3   \n",
       "4  Hornet Sportabout  18.7    8  360.0  175  3.15  3.440  17.02   0   0     3   \n",
       "\n",
       "   carb  \n",
       "0     4  \n",
       "1     4  \n",
       "2     1  \n",
       "3     1  \n",
       "4     2  "
      ],
      "text/html": [
       "<div>\n",
       "<style scoped>\n",
       "    .dataframe tbody tr th:only-of-type {\n",
       "        vertical-align: middle;\n",
       "    }\n",
       "\n",
       "    .dataframe tbody tr th {\n",
       "        vertical-align: top;\n",
       "    }\n",
       "\n",
       "    .dataframe thead th {\n",
       "        text-align: right;\n",
       "    }\n",
       "</style>\n",
       "<table border=\"1\" class=\"dataframe\">\n",
       "  <thead>\n",
       "    <tr style=\"text-align: right;\">\n",
       "      <th></th>\n",
       "      <th>model</th>\n",
       "      <th>mpg</th>\n",
       "      <th>cyl</th>\n",
       "      <th>disp</th>\n",
       "      <th>hp</th>\n",
       "      <th>drat</th>\n",
       "      <th>wt</th>\n",
       "      <th>qsec</th>\n",
       "      <th>vs</th>\n",
       "      <th>am</th>\n",
       "      <th>gear</th>\n",
       "      <th>carb</th>\n",
       "    </tr>\n",
       "  </thead>\n",
       "  <tbody>\n",
       "    <tr>\n",
       "      <th>0</th>\n",
       "      <td>Mazda RX4</td>\n",
       "      <td>21.0</td>\n",
       "      <td>6</td>\n",
       "      <td>160.0</td>\n",
       "      <td>110</td>\n",
       "      <td>3.90</td>\n",
       "      <td>2.620</td>\n",
       "      <td>16.46</td>\n",
       "      <td>0</td>\n",
       "      <td>1</td>\n",
       "      <td>4</td>\n",
       "      <td>4</td>\n",
       "    </tr>\n",
       "    <tr>\n",
       "      <th>1</th>\n",
       "      <td>Mazda RX4 Wag</td>\n",
       "      <td>21.0</td>\n",
       "      <td>6</td>\n",
       "      <td>160.0</td>\n",
       "      <td>110</td>\n",
       "      <td>3.90</td>\n",
       "      <td>2.875</td>\n",
       "      <td>17.02</td>\n",
       "      <td>0</td>\n",
       "      <td>1</td>\n",
       "      <td>4</td>\n",
       "      <td>4</td>\n",
       "    </tr>\n",
       "    <tr>\n",
       "      <th>2</th>\n",
       "      <td>Datsun 710</td>\n",
       "      <td>22.8</td>\n",
       "      <td>4</td>\n",
       "      <td>108.0</td>\n",
       "      <td>93</td>\n",
       "      <td>3.85</td>\n",
       "      <td>2.320</td>\n",
       "      <td>18.61</td>\n",
       "      <td>1</td>\n",
       "      <td>1</td>\n",
       "      <td>4</td>\n",
       "      <td>1</td>\n",
       "    </tr>\n",
       "    <tr>\n",
       "      <th>3</th>\n",
       "      <td>Hornet 4 Drive</td>\n",
       "      <td>21.4</td>\n",
       "      <td>6</td>\n",
       "      <td>258.0</td>\n",
       "      <td>110</td>\n",
       "      <td>3.08</td>\n",
       "      <td>3.215</td>\n",
       "      <td>19.44</td>\n",
       "      <td>1</td>\n",
       "      <td>0</td>\n",
       "      <td>3</td>\n",
       "      <td>1</td>\n",
       "    </tr>\n",
       "    <tr>\n",
       "      <th>4</th>\n",
       "      <td>Hornet Sportabout</td>\n",
       "      <td>18.7</td>\n",
       "      <td>8</td>\n",
       "      <td>360.0</td>\n",
       "      <td>175</td>\n",
       "      <td>3.15</td>\n",
       "      <td>3.440</td>\n",
       "      <td>17.02</td>\n",
       "      <td>0</td>\n",
       "      <td>0</td>\n",
       "      <td>3</td>\n",
       "      <td>2</td>\n",
       "    </tr>\n",
       "  </tbody>\n",
       "</table>\n",
       "</div>"
      ]
     },
     "execution_count": 4,
     "metadata": {},
     "output_type": "execute_result"
    }
   ],
   "execution_count": 4
  },
  {
   "cell_type": "markdown",
   "id": "8e4443878d3f6bf2",
   "metadata": {},
   "source": [
    "# Split X and y"
   ]
  },
  {
   "cell_type": "markdown",
   "id": "e7d0726fac745221",
   "metadata": {},
   "source": [
    "Here we put the data in a standard format for sklearn's model estimtion and error metrics.  If you use your own data set, you will need to tweak the target column and remove the non-numeric columns-- or code them into numbers, e.g. with one-hot encoding."
   ]
  },
  {
   "cell_type": "code",
   "id": "ca86d4b670951c61",
   "metadata": {
    "ExecuteTime": {
     "end_time": "2024-10-20T15:42:52.534477Z",
     "start_time": "2024-10-20T15:42:52.532891Z"
    }
   },
   "source": [
    "TARGET_COL = \"mpg\""
   ],
   "outputs": [],
   "execution_count": 5
  },
  {
   "cell_type": "code",
   "id": "f9089e353c5ac8e1",
   "metadata": {
    "ExecuteTime": {
     "end_time": "2024-10-20T15:42:52.536426Z",
     "start_time": "2024-10-20T15:42:52.534890Z"
    }
   },
   "source": [
    "NON_NUMERIC_COLS = [\"model\"]"
   ],
   "outputs": [],
   "execution_count": 6
  },
  {
   "cell_type": "code",
   "id": "e00f0ccf1b3a4c09",
   "metadata": {
    "ExecuteTime": {
     "end_time": "2024-10-20T15:42:52.539871Z",
     "start_time": "2024-10-20T15:42:52.536964Z"
    }
   },
   "source": [
    "y = df[TARGET_COL]\n",
    "X = df.drop([TARGET_COL] + NON_NUMERIC_COLS,axis=1)"
   ],
   "outputs": [],
   "execution_count": 7
  },
  {
   "cell_type": "code",
   "id": "6d962fdbb201615a",
   "metadata": {
    "ExecuteTime": {
     "end_time": "2024-10-20T15:42:52.546466Z",
     "start_time": "2024-10-20T15:42:52.540951Z"
    }
   },
   "source": [
    "from double_descent_dar import sample_eval"
   ],
   "outputs": [],
   "execution_count": 8
  },
  {
   "cell_type": "code",
   "id": "f62fd18d90e7a6fe",
   "metadata": {
    "ExecuteTime": {
     "end_time": "2024-10-20T15:42:52.549925Z",
     "start_time": "2024-10-20T15:42:52.547607Z"
    }
   },
   "source": [
    "model = linear_model.LinearRegression(fit_intercept=True)"
   ],
   "outputs": [],
   "execution_count": 9
  },
  {
   "cell_type": "code",
   "id": "10d9b7f0d2e577e5",
   "metadata": {
    "ExecuteTime": {
     "end_time": "2024-10-20T15:42:52.554283Z",
     "start_time": "2024-10-20T15:42:52.552765Z"
    }
   },
   "source": [
    "my_metric = root_mean_squared_error\n",
    "# my_metric = mean_absolute_error"
   ],
   "outputs": [],
   "execution_count": 10
  },
  {
   "cell_type": "markdown",
   "id": "403b642f573546b5",
   "metadata": {},
   "source": [
    "## Double descent"
   ]
  },
  {
   "cell_type": "markdown",
   "id": "d6197abaf8b716c4",
   "metadata": {},
   "source": [
    "A paper by Dar et al. (), called \"Farewell to Bias Variance?\" showed mathematically that double descent could be exhibited by linear regression under certain conditions. \n",
    "\n",
    "The paper: \n",
    "Yehuda Dar, Muthukumar, V., & Baraniuk, R. (2021). A Farewell to the Bias-Variance Tradeoff? An Overview of the Theory of Overparameterized Machine Learning. https://arxiv.org/abs/2109.02355\n"
   ]
  },
  {
   "cell_type": "markdown",
   "id": "b9c477192eeba6f9",
   "metadata": {},
   "source": [
    "Here I show double descent empirically on the mtcars data set (widely used by R users)."
   ]
  },
  {
   "cell_type": "markdown",
   "id": "b65d29fbef9694e4",
   "metadata": {},
   "source": [
    "Seeing double descent requires that the number of parameters should be a lot MORE than the number of rows. Since the data set has only 9 columns, we achieve this with a trick-- sampling fewer rows.\n",
    "\n",
    "This section will train on 7 rows (out of a total of 32).\n",
    "\n",
    "As before, will sample between 2 and 8 columns (out of a total of 9 columns) to see how the error metric varies by the number of parameters.  "
   ]
  },
  {
   "cell_type": "markdown",
   "id": "e42159c2bbfc8fd9",
   "metadata": {},
   "source": [
    "The linear regression model will be able to fully interpolate the data at 7 columns because it is fit to 7 rows."
   ]
  },
  {
   "cell_type": "code",
   "id": "94f7bb946771084c",
   "metadata": {
    "ExecuteTime": {
     "end_time": "2024-10-20T15:42:52.556073Z",
     "start_time": "2024-10-20T15:42:52.554810Z"
    }
   },
   "source": [
    "num_train_rows = 7\n",
    "model = linear_model.LinearRegression(fit_intercept=True)"
   ],
   "outputs": [],
   "execution_count": 11
  },
  {
   "cell_type": "markdown",
   "id": "b20653a5969cf874",
   "metadata": {},
   "source": [
    "We will look at the train and test error of root mean squared error."
   ]
  },
  {
   "cell_type": "code",
   "id": "a02d50444fab852d",
   "metadata": {
    "ExecuteTime": {
     "end_time": "2024-10-20T15:42:52.557836Z",
     "start_time": "2024-10-20T15:42:52.556535Z"
    }
   },
   "source": [
    "metric = root_mean_squared_error\n",
    "metrics = [\n",
    "        sample_eval.MetricTuple('train', metric_func=metric, dataset_type=sample_eval.DatasetType.train),\n",
    "        sample_eval.MetricTuple('test', metric_func=metric, dataset_type=sample_eval.DatasetType.test)\n",
    "    ]"
   ],
   "outputs": [],
   "execution_count": 12
  },
  {
   "cell_type": "code",
   "id": "416c3e7ee1f34e19",
   "metadata": {
    "ExecuteTime": {
     "end_time": "2024-10-20T15:42:55.812999Z",
     "start_time": "2024-10-20T15:42:52.558211Z"
    }
   },
   "source": [
    "num_samples = 300\n",
    "num_columns_list = range(1, X.shape[1])\n",
    "random_state = np.random.RandomState(33) # set for reproducibility\n",
    "metric_dict = sample_eval.sample_and_calc_metrics_by_rows_and_cols(X, y, num_train_rows, num_columns_list=num_columns_list, model=model, metric_tuples=metrics, num_samples=num_samples, replace=False, random_state=random_state)"
   ],
   "outputs": [],
   "execution_count": 13
  },
  {
   "cell_type": "code",
   "id": "80257d46b7fb5b39",
   "metadata": {
    "ExecuteTime": {
     "end_time": "2024-10-20T15:42:55.927785Z",
     "start_time": "2024-10-20T15:42:55.814046Z"
    }
   },
   "source": [
    "plt.scatter(num_columns_list, np.mean(metric_dict['test'], axis=0), label='test')\n",
    "plt.xlabel(\"Num sampled columns\")\n",
    "plt.ylabel(\"Mean of \" + my_metric.__name__)\n",
    "plt.legend()\n",
    "plt.show()"
   ],
   "outputs": [
    {
     "data": {
      "text/plain": [
       "<Figure size 640x480 with 1 Axes>"
      ],
      "image/png": "[encoded data removed]"
     },
     "metadata": {},
     "output_type": "display_data"
    }
   ],
   "execution_count": 14
  },
  {
   "cell_type": "markdown",
   "id": "c725d60c9915cc9e",
   "metadata": {},
   "source": [
    "As predicted, there was a spike in test (out of sample) error followed by a descent in error after the spike.  That is double descent in a linear regression.  The maximum was reached at 7 sampled columns.\n",
    "\n",
    "Double descent was formerly thought to be a weird feature of fitting neural nets, but here we observe it with simple, traditional linear regression."
   ]
  },
  {
   "cell_type": "markdown",
   "id": "c814ce67f43f1b60",
   "metadata": {},
   "source": [
    "# Double descent is actually two U curves in linear regression"
   ]
  },
  {
   "cell_type": "markdown",
   "id": "ac769a2e5ce49eed",
   "metadata": {},
   "source": [
    "A recent paper pointed out that different fitting methods are used on different sides of the interpolation threshold in linear regression.  When the number of rows N > number of paramters p, the best estimator involves inverting the N x p matrix.  But a matrix with more columns than rows cannot be inverted, so other parameter estimation methods are required.  The paper argues that it is this change in estimation methods that produces the two humps.  Each estimation method on its own has a U-shaped bias-variance curve, and the so-called double descent shape is just blending these two U's.\n",
    "\n",
    "The paper:\n",
    "Curth, A., Jeffares, A., & Schaar, M. van der. (2023, November 2). A U-turn on Double Descent: Rethinking Parameter Counting in Statistical Learning. Thirty-seventh Conference on Neural Information Processing Systems. https://openreview.net/forum?id=O0Lz8XZT2b\n"
   ]
  },
  {
   "cell_type": "markdown",
   "id": "8ac681b0415b91d8",
   "metadata": {},
   "source": [
    "# Double descent in linear regression is real"
   ]
  },
  {
   "cell_type": "markdown",
   "id": "4c0c8109feb291ca",
   "metadata": {},
   "source": [
    "The claim by Curth et al is correct in that many software packages switch their fitting / estimation method depending on whether the number of rows is greater or less than the number of columns.  Note that the original Dar et al paper was mathematical and so would not be subject to this criticism,  However, the sklearn implementation of LinearRegression may have different estimation methods....\n",
    "\n",
    "So let me demonstrate double descent in a linear regression but using an estimation method that is the same on both sides of the interpolation threshold-- stochastic gradient descent (SGD).  Stochastic gradient descent is also useful to try because it is the same method used to estimate the weights in neural nets.\n",
    "\n",
    "Notes:\n",
    "* The SGDRegressor assumes input has been scaled from 0 to 1, so I wrap it inside a pipeline to handle scaling.\n",
    "* By default the SGDRegressor includes regularization by default (via a penalty), so to make it comparable to the pure LinearRegression example above, I have to set the penalty to None."
   ]
  },
  {
   "cell_type": "code",
   "id": "305f5ef59bd739e0",
   "metadata": {
    "ExecuteTime": {
     "end_time": "2024-10-20T15:42:55.932262Z",
     "start_time": "2024-10-20T15:42:55.928727Z"
    }
   },
   "source": [
    "from sklearn.linear_model import SGDRegressor\n",
    "from sklearn.pipeline import make_pipeline\n",
    "from sklearn.preprocessing import StandardScaler\n",
    "model = make_pipeline(StandardScaler(), SGDRegressor(random_state=0, penalty=None))"
   ],
   "outputs": [],
   "execution_count": 15
  },
  {
   "cell_type": "markdown",
   "id": "4e14c1e4faf14436",
   "metadata": {},
   "source": [
    "Training on 15 rows, we expect a bias-variance U curve."
   ]
  },
  {
   "cell_type": "code",
   "id": "23bfb1cecdc2a4f8",
   "metadata": {
    "ExecuteTime": {
     "end_time": "2024-10-20T15:42:55.934412Z",
     "start_time": "2024-10-20T15:42:55.932744Z"
    }
   },
   "source": [
    "num_train_rows = 15"
   ],
   "outputs": [],
   "execution_count": 16
  },
  {
   "cell_type": "code",
   "id": "720e02a499aa74ab",
   "metadata": {
    "ExecuteTime": {
     "end_time": "2024-10-20T15:43:00.162924Z",
     "start_time": "2024-10-20T15:42:55.935088Z"
    }
   },
   "source": [
    "num_samples = 300\n",
    "random_state = np.random.RandomState(11)  # set for reproducibility\n",
    "num_columns_list = range(1, X.shape[1])\n",
    "metric_dict = sample_eval.sample_and_calc_metrics_by_rows_and_cols(\n",
    "    X, y, num_train_rows, num_columns_list=num_columns_list, model=model,\n",
    "    metric_tuples=metrics, num_samples=num_samples, replace=False, random_state=random_state)\n",
    "plt.scatter(num_columns_list, np.mean(metric_dict['test'], axis=0), label='test')\n",
    "plt.xlabel(\"Num sampled columns\")\n",
    "plt.ylabel(\"Mean of \" + my_metric.__name__)\n",
    "plt.show()"
   ],
   "outputs": [
    {
     "data": {
      "text/plain": [
       "<Figure size 640x480 with 1 Axes>"
      ],
      "image/png": "[encoded data removed]"
     },
     "metadata": {},
     "output_type": "display_data"
    }
   ],
   "execution_count": 17
  },
  {
   "cell_type": "markdown",
   "id": "60f939d94db1e78b",
   "metadata": {},
   "source": [
    "Nice!  This is the \"left\" half of a U curve.  It minimizes test (out-of-sample) error with 7 columns."
   ]
  },
  {
   "cell_type": "markdown",
   "id": "1664e5dbb836cf6f",
   "metadata": {},
   "source": [
    "Training on 7 rows, we hope to see double descent. Because it's harder to fit on few rows, we will increase max_iter (as the warnings when I ran with the default max_iter)."
   ]
  },
  {
   "cell_type": "code",
   "id": "a4be51e66b758003",
   "metadata": {
    "ExecuteTime": {
     "end_time": "2024-10-20T15:43:00.166551Z",
     "start_time": "2024-10-20T15:43:00.163860Z"
    }
   },
   "source": [
    "model = make_pipeline(StandardScaler(), SGDRegressor(random_state=0, penalty=None, max_iter=2000))"
   ],
   "outputs": [],
   "execution_count": 18
  },
  {
   "cell_type": "code",
   "id": "b4c7e84e0717b5d2",
   "metadata": {
    "ExecuteTime": {
     "end_time": "2024-10-20T15:43:04.347692Z",
     "start_time": "2024-10-20T15:43:00.167692Z"
    }
   },
   "source": [
    "# Lower rows to see if we get double descent.\n",
    "num_train_rows = 7\n",
    "num_samples = 300\n",
    "random_state = np.random.RandomState(12)  # set for reproducibility\n",
    "num_columns_list = range(1, X.shape[1])\n",
    "metric_dict = sample_eval.sample_and_calc_metrics_by_rows_and_cols(\n",
    "    X, y, num_train_rows, num_columns_list=num_columns_list, model=model,\n",
    "    metric_tuples=metrics, num_samples=num_samples, replace=False, random_state=random_state)\n",
    "plt.scatter(num_columns_list, np.mean(metric_dict['test'], axis=0), label='test')\n",
    "plt.xlabel(\"Num sampled columns\")\n",
    "plt.ylabel(\"Mean of \" + my_metric.__name__)\n",
    "plt.show()"
   ],
   "outputs": [
    {
     "data": {
      "text/plain": [
       "<Figure size 640x480 with 1 Axes>"
      ],
      "image/png": "[encoded data removed]"
     },
     "metadata": {},
     "output_type": "display_data"
    }
   ],
   "execution_count": 19
  },
  {
   "cell_type": "markdown",
   "id": "c6970a0c9bedc8ad",
   "metadata": {},
   "source": [
    "Test error bumps up at 8 columns and then goes back down.  Double descent!"
   ]
  },
  {
   "cell_type": "markdown",
   "id": "7640fc85299068e0",
   "metadata": {},
   "source": [
    "## Conclusion"
   ]
  },
  {
   "cell_type": "markdown",
   "id": "4a22aa4f0bf75508",
   "metadata": {},
   "source": [
    "Based on the shapes above, using a consistent estimation method, I argue that **double descent is real** and not merely the overlap of two U curves from two different estimation methods."
   ]
  },
  {
   "cell_type": "markdown",
   "id": "46747ea950a0c6ba",
   "metadata": {},
   "source": [
    "# Making sure: Custom stochastic gradient descent linear regression\n",
    "\n",
    "My friend Dan Goldstein asked how I knew whether sklearn's SGDRegressor didn't use two estimation methods, e.g. defaulting to OLS for speed when num_rows > num_columns.  I looked at the code and there is a lot.\n",
    "\n",
    "So to be 100% sure there is only one estimation method involved, I coded my own.  A good summary of the intuition and math behind this is in this nice post: https://medium.com/@nikhilparmar9/simple-sgd-implementation-in-python-for-linear-regression-on-boston-housing-data-f63fcaaecfb1\n",
    "\n",
    "It also served as the initial version of the code, which I wrapped in a class in order to make compatible with sklearn and my wrapper functions for sampling and using sklearn."
   ]
  },
  {
   "cell_type": "code",
   "id": "67543ce5ab01965a",
   "metadata": {
    "ExecuteTime": {
     "end_time": "2024-10-20T15:43:04.353175Z",
     "start_time": "2024-10-20T15:43:04.348849Z"
    }
   },
   "source": [
    "from sklearn.exceptions import NotFittedError\n",
    "\n",
    "class CustomSGDRegression():\n",
    "\n",
    "    def __init__(self, learning_rate, n_iter, batch_size, divide_by = 1, rng = None, verbose = False):\n",
    "        self.learning_rate = learning_rate\n",
    "        self.n_iter = n_iter\n",
    "        self.batch_size = batch_size\n",
    "        self.divide_by = divide_by\n",
    "        if rng is None:\n",
    "            self.rng = np.random.default_rng()\n",
    "        else:\n",
    "            self.rng = rng\n",
    "        self.verbose = verbose\n",
    "        self.weights = None\n",
    "        self.bias = None\n",
    "    \n",
    "    def _fit_one_iter(self, X_train, y_train, replace, iter_index):\n",
    "                    # Randomly sample a small training data set of the batch size.\n",
    "        row_indices = self.rng.choice(X_train.shape[0], size=self.batch_size, replace=replace)\n",
    "        x = X_train[row_indices]\n",
    "        y = y_train[row_indices]\n",
    "        \n",
    "        # The iteration has initial gradients of 0.\n",
    "        w_gradient=np.zeros(shape=(1, X_train.shape[1]))\n",
    "        b_gradient=0\n",
    "        \n",
    "        if self.verbose:\n",
    "            print(f'iteration #: {iter_index}, weights: {self.weights}, bias: {self.bias}')\n",
    "        for i in range(self.batch_size): # Use the derivative to update the gradient.\n",
    "            prediction = np.dot(self.weights, x[i]) + self.bias\n",
    "            w_gradient = w_gradient+(-2)*x[i]*(y[i]-(prediction))\n",
    "            b_gradient = b_gradient+(-2)*(y[i]-(prediction))\n",
    "        \n",
    "        # Update the weights and bias with the above calculated gradients.\n",
    "        self.weights = self.weights - self.learning_rate*(w_gradient/self.batch_size)\n",
    "        self.bias = self.bias - self.learning_rate*(b_gradient/self.batch_size)\n",
    "        \n",
    "        # Divide the learning rate by the specified value.\n",
    "        self.learning_rate=self.learning_rate/self.divide_by\n",
    "            \n",
    "\n",
    "    def fit(self, X_train, y_train, replace=True):\n",
    "        # Ensure X_train and y_train are numpy arrays.\n",
    "        if isinstance(X_train, pd.DataFrame): \n",
    "            X_train = X_train.to_numpy()\n",
    "        if isinstance(y_train, pd.DataFrame):\n",
    "            y_train = y_train.to_numpy()\n",
    "        # Initialize the weights and bias (a.k.a. the intercept). \n",
    "        self.weights = np.zeros(shape=(1, X_train.shape[1]))\n",
    "        self.bias = 0\n",
    "        [self._fit_one_iter(X_train, y_train, replace, iter_index) for iter_index in range(self.n_iter)]\n",
    "        return self.weights, self.bias\n",
    "    \n",
    "    def predict(self, X):\n",
    "        if self.weights is None or self.bias is None:\n",
    "            raise NotFittedError('You must fit before predict')\n",
    "        if isinstance(X, pd.DataFrame): \n",
    "            X = X.to_numpy()\n",
    "        y_pred=[]\n",
    "        for i in range(len(X)):\n",
    "            y=np.dot(X[i], np.squeeze(self.weights)) + np.squeeze(self.bias)\n",
    "            y_pred.append(y)\n",
    "        return np.array(y_pred)"
   ],
   "outputs": [],
   "execution_count": 20
  },
  {
   "cell_type": "markdown",
   "id": "68b747826456637b",
   "metadata": {},
   "source": [
    "Note that I did tune the parameters in the constructor below to get reasonable-looking error.  sklearn uses best-in class defaults.  Also, my model is slow-- sklearn has many speed-ups, including early stopping.  Use sklearn."
   ]
  },
  {
   "cell_type": "code",
   "id": "18e6ee915ed4d22b",
   "metadata": {
    "ExecuteTime": {
     "end_time": "2024-10-20T15:43:04.355851Z",
     "start_time": "2024-10-20T15:43:04.353681Z"
    }
   },
   "source": [
    "rng = np.random.RandomState(42)\n",
    "model = make_pipeline(StandardScaler(), CustomSGDRegression(learning_rate=0.001, n_iter=1000, batch_size=9, rng=rng))"
   ],
   "outputs": [],
   "execution_count": 21
  },
  {
   "cell_type": "markdown",
   "id": "e0443a4d219e968a",
   "metadata": {},
   "source": [
    "Training on 15 rows, we expect a bias-variance U curve."
   ]
  },
  {
   "cell_type": "code",
   "id": "73504aeff0549861",
   "metadata": {
    "ExecuteTime": {
     "end_time": "2024-10-20T15:43:04.358149Z",
     "start_time": "2024-10-20T15:43:04.356518Z"
    }
   },
   "source": [
    "y_df = pd.DataFrame(y)"
   ],
   "outputs": [],
   "execution_count": 22
  },
  {
   "cell_type": "code",
   "id": "981b850fdb187a87",
   "metadata": {
    "ExecuteTime": {
     "end_time": "2024-10-20T15:44:57.926603Z",
     "start_time": "2024-10-20T15:43:04.359002Z"
    }
   },
   "source": [
    "num_train_rows = 15\n",
    "num_samples = 300\n",
    "random_state = np.random.RandomState(11)  # set for reproducibility\n",
    "num_columns_list = range(1, X.shape[1])\n",
    "metric_dict = sample_eval.sample_and_calc_metrics_by_rows_and_cols(\n",
    "    X, y_df, num_train_rows, num_columns_list=num_columns_list, model=model,\n",
    "    metric_tuples=metrics, num_samples=num_samples, replace=False, random_state=random_state)\n",
    "plt.scatter(num_columns_list, np.mean(metric_dict['test'], axis=0), label='test')\n",
    "plt.xlabel(\"Num sampled columns\")\n",
    "plt.ylabel(\"Mean of \" + my_metric.__name__)\n",
    "plt.show()"
   ],
   "outputs": [
    {
     "data": {
      "text/plain": [
       "<Figure size 640x480 with 1 Axes>"
      ],
      "image/png": "[encoded data removed]"
     },
     "metadata": {},
     "output_type": "display_data"
    }
   ],
   "execution_count": 23
  },
  {
   "cell_type": "markdown",
   "id": "cab37bca81431e5d",
   "metadata": {},
   "source": [
    "Notice the scale on the Y axis-- 4.0 to 5.2.  The keras SGD regression Y axis ranged from 3.8 to 5.0, so they have a better-tuned (and faster-running) SGD regression.\n",
    "\n",
    "Also, the shape is at best only the left half of a U."
   ]
  },
  {
   "cell_type": "markdown",
   "id": "931bd6cc7db690c4",
   "metadata": {},
   "source": [
    "Training on 7 rows, we hope to see double descent.  We need to lower the batch size because 9 is more than the number of rows!  I also increased the number of iterations because this data is harder to fit. (Warning: it's slow to run.  My implementation of stochastic gradient descent is FAR slower than keras' implementation.)"
   ]
  },
  {
   "cell_type": "code",
   "id": "22d1b84c3d047f2d",
   "metadata": {
    "ExecuteTime": {
     "end_time": "2024-10-20T15:44:57.933678Z",
     "start_time": "2024-10-20T15:44:57.930613Z"
    }
   },
   "source": [
    "model = make_pipeline(StandardScaler(), CustomSGDRegression(learning_rate=0.001, n_iter=2000, batch_size=6, rng=rng))"
   ],
   "outputs": [],
   "execution_count": 24
  },
  {
   "cell_type": "code",
   "id": "e5a2c582cabb7ec2",
   "metadata": {
    "ExecuteTime": {
     "end_time": "2024-10-20T15:44:57.937400Z",
     "start_time": "2024-10-20T15:44:57.934273Z"
    }
   },
   "source": [
    "y_df = pd.DataFrame(y)"
   ],
   "outputs": [],
   "execution_count": 25
  },
  {
   "cell_type": "code",
   "id": "5c458586312c3917",
   "metadata": {
    "ExecuteTime": {
     "end_time": "2024-10-20T15:47:43.346916Z",
     "start_time": "2024-10-20T15:44:57.937990Z"
    }
   },
   "source": [
    "num_train_rows = 7\n",
    "num_samples = 300\n",
    "random_state = np.random.RandomState(11)  # set for reproducibility\n",
    "num_columns_list = range(1, X.shape[1])\n",
    "metric_dict = sample_eval.sample_and_calc_metrics_by_rows_and_cols(\n",
    "    X, y_df, num_train_rows, num_columns_list=num_columns_list, model=model,\n",
    "    metric_tuples=metrics, num_samples=num_samples, replace=False, random_state=random_state)\n",
    "plt.scatter(num_columns_list, np.mean(metric_dict['test'], axis=0), label='test')\n",
    "plt.xlabel(\"Num sampled columns\")\n",
    "plt.ylabel(\"Mean of \" + my_metric.__name__)\n",
    "plt.show()"
   ],
   "outputs": [
    {
     "data": {
      "text/plain": [
       "<Figure size 640x480 with 1 Axes>"
      ],
      "image/png": "[encoded data removed]"
     },
     "metadata": {},
     "output_type": "display_data"
    }
   ],
   "execution_count": 26
  },
  {
   "cell_type": "markdown",
   "id": "edfbe2e4a5b8b96f",
   "metadata": {},
   "source": [
    "This plot is consistent with double descent, with a bump up at 6 columns.  That saide, it is noisy. I might need to increase the number of samples or the number of iterations to get a less-noisy plot."
   ]
  },
  {
   "cell_type": "markdown",
   "id": "47cfebecdb620012",
   "metadata": {},
   "source": "# Appendix: Fun with an MLPRegressor"
  },
  {
   "cell_type": "markdown",
   "id": "d06300512ab2814c",
   "metadata": {},
   "source": [
    "One cool thing about building all this with sklearn is that there are a bunch of other estimation models we can try.  It is a great system to experiment with and build intuition!  Below are a couple models (commented out but to give you ideas)."
   ]
  },
  {
   "cell_type": "code",
   "id": "f74bd6c613b13e59",
   "metadata": {
    "ExecuteTime": {
     "end_time": "2024-10-20T15:47:43.353803Z",
     "start_time": "2024-10-20T15:47:43.349670Z"
    }
   },
   "source": [
    "# model = RandomForestRegressor()\n",
    "# model = linear_model.Ridge(alpha=.5)"
   ],
   "outputs": [],
   "execution_count": 27
  },
  {
   "cell_type": "markdown",
   "id": "a3c35efaeb54298e",
   "metadata": {},
   "source": [
    "For this appendix, I chose to look at a simple one-layer, feed-forward neural net (MLP = multi-layer perceptron) that is fit with stochastic gradient descent.  sklearn calls it MLPRegressor.\n",
    "\n",
    "Unlike the previous models studied here, it is not linear-- the activation function makes it non-linear."
   ]
  },
  {
   "cell_type": "code",
   "id": "ab95da73f62a31b7",
   "metadata": {
    "ExecuteTime": {
     "end_time": "2024-10-20T15:47:43.377842Z",
     "start_time": "2024-10-20T15:47:43.354304Z"
    }
   },
   "source": [
    "from sklearn.neural_network import MLPRegressor\n",
    "\n",
    "from sklearn.pipeline import make_pipeline\n",
    "from sklearn.preprocessing import StandardScaler\n",
    "\n",
    "# TODO: scale hidden layer neurons to number of columns.\n",
    "model = make_pipeline(\n",
    "    StandardScaler(), \n",
    "    MLPRegressor(hidden_layer_sizes=(4,), validation_fraction=0, solver=\"sgd\", random_state=0))"
   ],
   "outputs": [],
   "execution_count": 28
  },
  {
   "cell_type": "code",
   "id": "d79e72330759d6d8",
   "metadata": {
    "ExecuteTime": {
     "end_time": "2024-10-20T15:47:43.380651Z",
     "start_time": "2024-10-20T15:47:43.378969Z"
    }
   },
   "source": [
    "# First just look for the bias-variance U curve\n",
    "num_train_rows = 15"
   ],
   "outputs": [],
   "execution_count": 29
  },
  {
   "cell_type": "code",
   "id": "4c52d1d7618f4c64",
   "metadata": {
    "ExecuteTime": {
     "end_time": "2024-10-20T15:48:10.826665Z",
     "start_time": "2024-10-20T15:47:43.381071Z"
    }
   },
   "source": [
    "num_samples = 400\n",
    "random_state = np.random.RandomState(44)  # set for reproducibility\n",
    "# This example won't converge because we have such a small data sst\n",
    "# so we catch the warning and ignore it here.\n",
    "num_columns_list = range(1, X.shape[1])\n",
    "with warnings.catch_warnings():\n",
    "    warnings.filterwarnings(\"ignore\", category=ConvergenceWarning, module=\"sklearn\")\n",
    "    metric_dict = sample_eval.sample_and_calc_metrics_by_rows_and_cols(\n",
    "        X, y, num_train_rows, num_columns_list=num_columns_list, model=model,\n",
    "        metric_tuples=metrics, num_samples=num_samples, replace=False, random_state=random_state)\n",
    "plt.scatter(num_columns_list, np.mean(metric_dict['test'], axis=0), label='test')\n",
    "plt.xlabel(\"Num sampled columns\")\n",
    "plt.ylabel(\"Mean of \" + my_metric.__name__)\n",
    "plt.show()"
   ],
   "outputs": [
    {
     "data": {
      "text/plain": [
       "<Figure size 640x480 with 1 Axes>"
      ],
      "image/png": "[encoded data removed]"
     },
     "metadata": {},
     "output_type": "display_data"
    }
   ],
   "execution_count": 30
  },
  {
   "cell_type": "markdown",
   "id": "491dd4ec952e5d4",
   "metadata": {},
   "source": [
    "This looks sort of U-shaped.  There were a lot of warnings I ignored and should look into."
   ]
  },
  {
   "cell_type": "code",
   "id": "9e60c80629ca8b77",
   "metadata": {},
   "source": [
    "# Lower the number of rows to look for double descent.\n",
    "num_train_rows = 5"
   ],
   "outputs": [],
   "execution_count": 31
  },
  {
   "cell_type": "code",
   "id": "5be719fb3fb28693",
   "metadata": {
    "ExecuteTime": {
     "end_time": "2024-10-20T15:48:37.183173Z",
     "start_time": "2024-10-20T15:48:10.829179Z"
    }
   },
   "source": [
    "num_samples = 500\n",
    "random_state = np.random.RandomState(55)  # set for reproducibility\n",
    "# This example won't converge because we have such a small data sst\n",
    "# so we catch the warning and ignore it here.\n",
    "num_columns_list = range(1, X.shape[1])\n",
    "with warnings.catch_warnings():\n",
    "    warnings.filterwarnings(\"ignore\", category=ConvergenceWarning, module=\"sklearn\")\n",
    "    metric_dict = sample_eval.sample_and_calc_metrics_by_rows_and_cols(\n",
    "        X, y, num_train_rows, num_columns_list=num_columns_list, model=model,\n",
    "        metric_tuples=metrics, num_samples=num_samples, replace=False, random_state=random_state)\n",
    "plt.scatter(num_columns_list, np.mean(metric_dict['test'], axis=0), label='test')\n",
    "plt.xlabel(\"Num sampled columns\")\n",
    "plt.ylabel(\"Mean of \" + my_metric.__name__)\n",
    "plt.show()"
   ],
   "outputs": [
    {
     "data": {
      "text/plain": [
       "<Figure size 640x480 with 1 Axes>"
      ],
      "image/png": "[encoded data removed]"
     },
     "metadata": {},
     "output_type": "display_data"
    }
   ],
   "execution_count": 32
  },
  {
   "cell_type": "markdown",
   "id": "7ccd4e86eac9c2d3",
   "metadata": {},
   "source": [
    "I'm not sure what pattern I'm seeing.  But to do this in an apples-to-apples way with the prior regression studies, the number of hidden layer neurons should correspond to the number of sampled columns (because a weight is estimated for each neuron, and we want the number of parameters to scale, not just number of inputs).  Or maybe something else?  I'm still working on this one."
   ]
  }
 ],
 "metadata": {
  "kernelspec": {
   "display_name": "Python 3 (ipykernel)",
   "language": "python",
   "name": "python3"
  },
  "language_info": {
   "codemirror_mode": {
    "name": "ipython",
    "version": 3
   },
   "file_extension": ".py",
   "mimetype": "text/x-python",
   "name": "python",
   "nbconvert_exporter": "python",
   "pygments_lexer": "ipython3",
   "version": "3.12.4"
  }
 },
 "nbformat": 4,
 "nbformat_minor": 5
}
